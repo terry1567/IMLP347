{
 "cells": [
  {
   "cell_type": "markdown",
   "metadata": {},
   "source": [
    "## KNN電影分類特徵值的項目與評分\n",
    "### 題目：\n",
    "![](images/knn.png)\n",
    "### 答案：\n",
    "![output](images/knn_.png)"
   ]
  },
  {
   "cell_type": "code",
   "execution_count": 15,
   "metadata": {},
   "outputs": [
    {
     "ename": "SyntaxError",
     "evalue": "incomplete input (732757623.py, line 33)",
     "output_type": "error",
     "traceback": [
      "\u001b[0;36m  Cell \u001b[0;32mIn[15], line 33\u001b[0;36m\u001b[0m\n\u001b[0;31m    \u001b[0m\n\u001b[0m    ^\u001b[0m\n\u001b[0;31mSyntaxError\u001b[0m\u001b[0;31m:\u001b[0m incomplete input\n"
     ]
    }
   ],
   "source": [
    "import math\n",
    "\n",
    "film = [5, 7, 8, 10, 2]             # 玩命關頭特徵值\n",
    "film_titles = [                     # 比較影片片名\n",
    "    '復仇者聯盟',\n",
    "    '決戰中途島',\n",
    "    '冰雪奇緣',\n",
    "    '雙子殺手',\n",
    "]\n",
    "film_features = [                   # 比較影片特徵值\n",
    "    [2, 8, 8, 5, 6],\n",
    "    [5, 6, 9, 2, 5],\n",
    "    [8, 2, 0, 0, 10],\n",
    "    [5, 8, 8, 8, 3],\n",
    "]\n",
    "\n",
    "# 儲存影片相似度值\n",
    "dist = [] \n",
    "for f in film_features:\n",
    "    distances=0\n",
    "    for i in range(len(f)):\n",
    "        distances+=(film[i]-f[i])**2\n",
    "    dist.append(distances)    \n",
    "    \n",
    "\n",
    "#計算各電影相似程度\n",
    "\n",
    "    \n",
    "# 求最小值\n",
    "min_film=min(dist)\n",
    "# 最小值的索引\n",
    "\n",
    "\n",
    "print(\"與玩命關頭最相似的電影 :\")\n",
    "print(\"相似度值 : \",)\n",
    "#印出玩命關頭與其他所有電影的相似程度\n",
    "for i in range(len(dist)):\n",
    "   \n",
    "\n"
   ]
  },
  {
   "cell_type": "code",
   "execution_count": 6,
   "metadata": {},
   "outputs": [
    {
     "name": "stdout",
     "output_type": "stream",
     "text": [
      "2\n",
      "8\n",
      "8\n",
      "5\n",
      "6\n",
      "5\n",
      "6\n",
      "9\n",
      "2\n",
      "5\n",
      "8\n",
      "2\n",
      "0\n",
      "0\n",
      "10\n",
      "5\n",
      "8\n",
      "8\n",
      "8\n",
      "3\n"
     ]
    }
   ],
   "source": [
    "film_features = [                   # 比較影片特徵值\n",
    "    [2, 8, 8, 5, 6],\n",
    "    [5, 6, 9, 2, 5],\n",
    "    [8, 2, 0, 0, 10],\n",
    "    [5, 8, 8, 8, 3],\n",
    "]\n",
    "\n",
    "for i in film_features:\n",
    "    for a in i:\n",
    "        print(a)"
   ]
  },
  {
   "cell_type": "code",
   "execution_count": 7,
   "metadata": {},
   "outputs": [
    {
     "name": "stdout",
     "output_type": "stream",
     "text": [
      "0\n",
      "1\n",
      "2\n",
      "3\n",
      "4\n",
      "5\n",
      "6\n",
      "7\n",
      "8\n",
      "9\n"
     ]
    }
   ],
   "source": [
    "for a in range(10):\n",
    "    print(a)"
   ]
  },
  {
   "cell_type": "code",
   "execution_count": 10,
   "metadata": {},
   "outputs": [
    {
     "data": {
      "text/plain": [
       "[51, 75, 262, 6]"
      ]
     },
     "execution_count": 10,
     "metadata": {},
     "output_type": "execute_result"
    }
   ],
   "source": [
    "import math\n",
    "\n",
    "film = [5, 7, 8, 10, 2]             # 玩命關頭特徵值\n",
    "film_titles = [                     # 比較影片片名\n",
    "    '復仇者聯盟',\n",
    "    '決戰中途島',\n",
    "    '冰雪奇緣',\n",
    "    '雙子殺手',\n",
    "]\n",
    "film_features = [                   # 比較影片特徵值\n",
    "    [2, 8, 8, 5, 6],\n",
    "    [5, 6, 9, 2, 5],\n",
    "    [8, 2, 0, 0, 10],\n",
    "    [5, 8, 8, 8, 3],\n",
    "]\n",
    "\n",
    "# 儲存影片相似度值\n",
    "dist = [] \n",
    "for f in film_features:\n",
    "    distances=0\n",
    "    for i in range(len(f)):\n",
    "        distances+=(film[i]-f[i])**2\n",
    "    dist.append(distances)   \n",
    "     "
   ]
  },
  {
   "cell_type": "code",
   "execution_count": 11,
   "metadata": {},
   "outputs": [
    {
     "data": {
      "text/plain": [
       "51"
      ]
     },
     "execution_count": 11,
     "metadata": {},
     "output_type": "execute_result"
    }
   ],
   "source": [
    "9+1+25+16"
   ]
  },
  {
   "cell_type": "code",
   "execution_count": 26,
   "metadata": {},
   "outputs": [
    {
     "name": "stdout",
     "output_type": "stream",
     "text": [
      "雙子殺手\n",
      "6\n",
      "影片:復仇者聯盟,相似度:     51.00\n",
      "影片:決戰中途島,相似度:     75.00\n",
      "影片:冰雪奇緣,相似度:    262.00\n",
      "影片:雙子殺手,相似度:      6.00\n"
     ]
    }
   ],
   "source": [
    "mim_film=min(dist)\n",
    "min_index=dist.index(mim_film)\n",
    "print(film_titles[min_index])\n",
    "print(dist[min_index])\n",
    "for i in range(len(dist)):\n",
    "    print(\"影片:%s,相似度:%10.2f\"%(film_titles[i],dist[i]))"
   ]
  },
  {
   "cell_type": "code",
   "execution_count": 21,
   "metadata": {},
   "outputs": [
    {
     "data": {
      "text/plain": [
       "6"
      ]
     },
     "execution_count": 21,
     "metadata": {},
     "output_type": "execute_result"
    }
   ],
   "source": [
    "min_film"
   ]
  },
  {
   "cell_type": "code",
   "execution_count": null,
   "metadata": {},
   "outputs": [],
   "source": []
  }
 ],
 "metadata": {
  "kernelspec": {
   "display_name": "Python 3",
   "language": "python",
   "name": "python3"
  },
  "language_info": {
   "codemirror_mode": {
    "name": "ipython",
    "version": 3
   },
   "file_extension": ".py",
   "mimetype": "text/x-python",
   "name": "python",
   "nbconvert_exporter": "python",
   "pygments_lexer": "ipython3",
   "version": "3.10.9"
  }
 },
 "nbformat": 4,
 "nbformat_minor": 4
}
