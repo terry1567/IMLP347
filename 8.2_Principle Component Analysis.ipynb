{
 "cells": [
  {
   "cell_type": "code",
   "execution_count": 175,
   "id": "0f6c44eb",
   "metadata": {},
   "outputs": [
    {
     "data": {
      "text/html": [
       "<div>\n",
       "<style scoped>\n",
       "    .dataframe tbody tr th:only-of-type {\n",
       "        vertical-align: middle;\n",
       "    }\n",
       "\n",
       "    .dataframe tbody tr th {\n",
       "        vertical-align: top;\n",
       "    }\n",
       "\n",
       "    .dataframe thead th {\n",
       "        text-align: right;\n",
       "    }\n",
       "</style>\n",
       "<table border=\"1\" class=\"dataframe\">\n",
       "  <thead>\n",
       "    <tr style=\"text-align: right;\">\n",
       "      <th></th>\n",
       "      <th>0</th>\n",
       "      <th>1</th>\n",
       "      <th>2</th>\n",
       "      <th>3</th>\n",
       "      <th>4</th>\n",
       "      <th>5</th>\n",
       "      <th>6</th>\n",
       "      <th>7</th>\n",
       "      <th>8</th>\n",
       "      <th>9</th>\n",
       "      <th>10</th>\n",
       "      <th>11</th>\n",
       "      <th>12</th>\n",
       "      <th>13</th>\n",
       "    </tr>\n",
       "  </thead>\n",
       "  <tbody>\n",
       "    <tr>\n",
       "      <th>0</th>\n",
       "      <td>1</td>\n",
       "      <td>14.23</td>\n",
       "      <td>1.71</td>\n",
       "      <td>2.43</td>\n",
       "      <td>15.6</td>\n",
       "      <td>127</td>\n",
       "      <td>2.80</td>\n",
       "      <td>3.06</td>\n",
       "      <td>0.28</td>\n",
       "      <td>2.29</td>\n",
       "      <td>5.64</td>\n",
       "      <td>1.04</td>\n",
       "      <td>3.92</td>\n",
       "      <td>1065</td>\n",
       "    </tr>\n",
       "    <tr>\n",
       "      <th>1</th>\n",
       "      <td>1</td>\n",
       "      <td>13.20</td>\n",
       "      <td>1.78</td>\n",
       "      <td>2.14</td>\n",
       "      <td>11.2</td>\n",
       "      <td>100</td>\n",
       "      <td>2.65</td>\n",
       "      <td>2.76</td>\n",
       "      <td>0.26</td>\n",
       "      <td>1.28</td>\n",
       "      <td>4.38</td>\n",
       "      <td>1.05</td>\n",
       "      <td>3.40</td>\n",
       "      <td>1050</td>\n",
       "    </tr>\n",
       "    <tr>\n",
       "      <th>2</th>\n",
       "      <td>1</td>\n",
       "      <td>13.16</td>\n",
       "      <td>2.36</td>\n",
       "      <td>2.67</td>\n",
       "      <td>18.6</td>\n",
       "      <td>101</td>\n",
       "      <td>2.80</td>\n",
       "      <td>3.24</td>\n",
       "      <td>0.30</td>\n",
       "      <td>2.81</td>\n",
       "      <td>5.68</td>\n",
       "      <td>1.03</td>\n",
       "      <td>3.17</td>\n",
       "      <td>1185</td>\n",
       "    </tr>\n",
       "    <tr>\n",
       "      <th>3</th>\n",
       "      <td>1</td>\n",
       "      <td>14.37</td>\n",
       "      <td>1.95</td>\n",
       "      <td>2.50</td>\n",
       "      <td>16.8</td>\n",
       "      <td>113</td>\n",
       "      <td>3.85</td>\n",
       "      <td>3.49</td>\n",
       "      <td>0.24</td>\n",
       "      <td>2.18</td>\n",
       "      <td>7.80</td>\n",
       "      <td>0.86</td>\n",
       "      <td>3.45</td>\n",
       "      <td>1480</td>\n",
       "    </tr>\n",
       "    <tr>\n",
       "      <th>4</th>\n",
       "      <td>1</td>\n",
       "      <td>13.24</td>\n",
       "      <td>2.59</td>\n",
       "      <td>2.87</td>\n",
       "      <td>21.0</td>\n",
       "      <td>118</td>\n",
       "      <td>2.80</td>\n",
       "      <td>2.69</td>\n",
       "      <td>0.39</td>\n",
       "      <td>1.82</td>\n",
       "      <td>4.32</td>\n",
       "      <td>1.04</td>\n",
       "      <td>2.93</td>\n",
       "      <td>735</td>\n",
       "    </tr>\n",
       "  </tbody>\n",
       "</table>\n",
       "</div>"
      ],
      "text/plain": [
       "   0      1     2     3     4    5     6     7     8     9     10    11    12  \\\n",
       "0   1  14.23  1.71  2.43  15.6  127  2.80  3.06  0.28  2.29  5.64  1.04  3.92   \n",
       "1   1  13.20  1.78  2.14  11.2  100  2.65  2.76  0.26  1.28  4.38  1.05  3.40   \n",
       "2   1  13.16  2.36  2.67  18.6  101  2.80  3.24  0.30  2.81  5.68  1.03  3.17   \n",
       "3   1  14.37  1.95  2.50  16.8  113  3.85  3.49  0.24  2.18  7.80  0.86  3.45   \n",
       "4   1  13.24  2.59  2.87  21.0  118  2.80  2.69  0.39  1.82  4.32  1.04  2.93   \n",
       "\n",
       "     13  \n",
       "0  1065  \n",
       "1  1050  \n",
       "2  1185  \n",
       "3  1480  \n",
       "4   735  "
      ]
     },
     "execution_count": 175,
     "metadata": {},
     "output_type": "execute_result"
    }
   ],
   "source": [
    "import warnings\n",
    "warnings.filterwarnings('ignore')\n",
    "import numpy as np\n",
    "import pandas as pd\n",
    "import matplotlib.pyplot as plt\n",
    "from sklearn.preprocessing import StandardScaler\n",
    "from sklearn.model_selection import train_test_split\n",
    "\n",
    "#df_wine = pd.read_csv('https://archive.ics.uci.edu/ml/machine-learning-databases/wine/wine.data', header=None)\n",
    "\n",
    "df_wine = pd.read_csv('data/wine_data.csv',header=None)      \n",
    "df_wine.head()"
   ]
  },
  {
   "cell_type": "code",
   "execution_count": 2,
   "id": "8ad0c69f",
   "metadata": {},
   "outputs": [
    {
     "data": {
      "text/html": [
       "<div>\n",
       "<style scoped>\n",
       "    .dataframe tbody tr th:only-of-type {\n",
       "        vertical-align: middle;\n",
       "    }\n",
       "\n",
       "    .dataframe tbody tr th {\n",
       "        vertical-align: top;\n",
       "    }\n",
       "\n",
       "    .dataframe thead th {\n",
       "        text-align: right;\n",
       "    }\n",
       "</style>\n",
       "<table border=\"1\" class=\"dataframe\">\n",
       "  <thead>\n",
       "    <tr style=\"text-align: right;\">\n",
       "      <th></th>\n",
       "      <th>0</th>\n",
       "      <th>1</th>\n",
       "      <th>2</th>\n",
       "      <th>3</th>\n",
       "      <th>4</th>\n",
       "      <th>5</th>\n",
       "      <th>6</th>\n",
       "      <th>7</th>\n",
       "      <th>8</th>\n",
       "      <th>9</th>\n",
       "      <th>10</th>\n",
       "      <th>11</th>\n",
       "      <th>12</th>\n",
       "      <th>13</th>\n",
       "    </tr>\n",
       "  </thead>\n",
       "  <tbody>\n",
       "    <tr>\n",
       "      <th>0</th>\n",
       "      <td>1</td>\n",
       "      <td>14.23</td>\n",
       "      <td>1.71</td>\n",
       "      <td>2.43</td>\n",
       "      <td>15.6</td>\n",
       "      <td>127</td>\n",
       "      <td>2.80</td>\n",
       "      <td>3.06</td>\n",
       "      <td>0.28</td>\n",
       "      <td>2.29</td>\n",
       "      <td>5.64</td>\n",
       "      <td>1.04</td>\n",
       "      <td>3.92</td>\n",
       "      <td>1065</td>\n",
       "    </tr>\n",
       "    <tr>\n",
       "      <th>1</th>\n",
       "      <td>1</td>\n",
       "      <td>13.20</td>\n",
       "      <td>1.78</td>\n",
       "      <td>2.14</td>\n",
       "      <td>11.2</td>\n",
       "      <td>100</td>\n",
       "      <td>2.65</td>\n",
       "      <td>2.76</td>\n",
       "      <td>0.26</td>\n",
       "      <td>1.28</td>\n",
       "      <td>4.38</td>\n",
       "      <td>1.05</td>\n",
       "      <td>3.40</td>\n",
       "      <td>1050</td>\n",
       "    </tr>\n",
       "    <tr>\n",
       "      <th>2</th>\n",
       "      <td>1</td>\n",
       "      <td>13.16</td>\n",
       "      <td>2.36</td>\n",
       "      <td>2.67</td>\n",
       "      <td>18.6</td>\n",
       "      <td>101</td>\n",
       "      <td>2.80</td>\n",
       "      <td>3.24</td>\n",
       "      <td>0.30</td>\n",
       "      <td>2.81</td>\n",
       "      <td>5.68</td>\n",
       "      <td>1.03</td>\n",
       "      <td>3.17</td>\n",
       "      <td>1185</td>\n",
       "    </tr>\n",
       "    <tr>\n",
       "      <th>3</th>\n",
       "      <td>1</td>\n",
       "      <td>14.37</td>\n",
       "      <td>1.95</td>\n",
       "      <td>2.50</td>\n",
       "      <td>16.8</td>\n",
       "      <td>113</td>\n",
       "      <td>3.85</td>\n",
       "      <td>3.49</td>\n",
       "      <td>0.24</td>\n",
       "      <td>2.18</td>\n",
       "      <td>7.80</td>\n",
       "      <td>0.86</td>\n",
       "      <td>3.45</td>\n",
       "      <td>1480</td>\n",
       "    </tr>\n",
       "    <tr>\n",
       "      <th>4</th>\n",
       "      <td>1</td>\n",
       "      <td>13.24</td>\n",
       "      <td>2.59</td>\n",
       "      <td>2.87</td>\n",
       "      <td>21.0</td>\n",
       "      <td>118</td>\n",
       "      <td>2.80</td>\n",
       "      <td>2.69</td>\n",
       "      <td>0.39</td>\n",
       "      <td>1.82</td>\n",
       "      <td>4.32</td>\n",
       "      <td>1.04</td>\n",
       "      <td>2.93</td>\n",
       "      <td>735</td>\n",
       "    </tr>\n",
       "  </tbody>\n",
       "</table>\n",
       "</div>"
      ],
      "text/plain": [
       "   0      1     2     3     4    5     6     7     8     9     10    11    12  \\\n",
       "0   1  14.23  1.71  2.43  15.6  127  2.80  3.06  0.28  2.29  5.64  1.04  3.92   \n",
       "1   1  13.20  1.78  2.14  11.2  100  2.65  2.76  0.26  1.28  4.38  1.05  3.40   \n",
       "2   1  13.16  2.36  2.67  18.6  101  2.80  3.24  0.30  2.81  5.68  1.03  3.17   \n",
       "3   1  14.37  1.95  2.50  16.8  113  3.85  3.49  0.24  2.18  7.80  0.86  3.45   \n",
       "4   1  13.24  2.59  2.87  21.0  118  2.80  2.69  0.39  1.82  4.32  1.04  2.93   \n",
       "\n",
       "     13  \n",
       "0  1065  \n",
       "1  1050  \n",
       "2  1185  \n",
       "3  1480  \n",
       "4   735  "
      ]
     },
     "execution_count": 2,
     "metadata": {},
     "output_type": "execute_result"
    }
   ],
   "source": [
    "import warnings\n",
    "warnings.filterwarnings('ignore')\n",
    "import numpy as np\n",
    "import pandas as pd\n",
    "import matplotlib.pyplot as plt\n",
    "from sklearn.preprocessing import StandardScaler\n",
    "from sklearn.model_selection import train_test_split\n",
    "df_wine=pd.read_csv(\"/Users/zhuzhiwen/Downloads/Unit08/data/wine_data.csv\",header=None)\n",
    "df_wine.head()"
   ]
  },
  {
   "cell_type": "code",
   "execution_count": 176,
   "id": "cf7a0e0b",
   "metadata": {},
   "outputs": [
    {
     "data": {
      "text/html": [
       "<div>\n",
       "<style scoped>\n",
       "    .dataframe tbody tr th:only-of-type {\n",
       "        vertical-align: middle;\n",
       "    }\n",
       "\n",
       "    .dataframe tbody tr th {\n",
       "        vertical-align: top;\n",
       "    }\n",
       "\n",
       "    .dataframe thead th {\n",
       "        text-align: right;\n",
       "    }\n",
       "</style>\n",
       "<table border=\"1\" class=\"dataframe\">\n",
       "  <thead>\n",
       "    <tr style=\"text-align: right;\">\n",
       "      <th></th>\n",
       "      <th>Class label</th>\n",
       "      <th>Alcohol</th>\n",
       "      <th>Malic acid</th>\n",
       "      <th>Ash</th>\n",
       "      <th>Alcalinity of ash</th>\n",
       "      <th>Magnesium</th>\n",
       "      <th>Total phenols</th>\n",
       "      <th>Flavanoids</th>\n",
       "      <th>Nonflavanoid phenols</th>\n",
       "      <th>Proanthocyanins</th>\n",
       "      <th>Color intensity</th>\n",
       "      <th>Hue</th>\n",
       "      <th>OD280/OD315 of diluted wines</th>\n",
       "      <th>Proline</th>\n",
       "    </tr>\n",
       "  </thead>\n",
       "  <tbody>\n",
       "    <tr>\n",
       "      <th>0</th>\n",
       "      <td>1</td>\n",
       "      <td>14.23</td>\n",
       "      <td>1.71</td>\n",
       "      <td>2.43</td>\n",
       "      <td>15.6</td>\n",
       "      <td>127</td>\n",
       "      <td>2.80</td>\n",
       "      <td>3.06</td>\n",
       "      <td>0.28</td>\n",
       "      <td>2.29</td>\n",
       "      <td>5.64</td>\n",
       "      <td>1.04</td>\n",
       "      <td>3.92</td>\n",
       "      <td>1065</td>\n",
       "    </tr>\n",
       "    <tr>\n",
       "      <th>1</th>\n",
       "      <td>1</td>\n",
       "      <td>13.20</td>\n",
       "      <td>1.78</td>\n",
       "      <td>2.14</td>\n",
       "      <td>11.2</td>\n",
       "      <td>100</td>\n",
       "      <td>2.65</td>\n",
       "      <td>2.76</td>\n",
       "      <td>0.26</td>\n",
       "      <td>1.28</td>\n",
       "      <td>4.38</td>\n",
       "      <td>1.05</td>\n",
       "      <td>3.40</td>\n",
       "      <td>1050</td>\n",
       "    </tr>\n",
       "    <tr>\n",
       "      <th>2</th>\n",
       "      <td>1</td>\n",
       "      <td>13.16</td>\n",
       "      <td>2.36</td>\n",
       "      <td>2.67</td>\n",
       "      <td>18.6</td>\n",
       "      <td>101</td>\n",
       "      <td>2.80</td>\n",
       "      <td>3.24</td>\n",
       "      <td>0.30</td>\n",
       "      <td>2.81</td>\n",
       "      <td>5.68</td>\n",
       "      <td>1.03</td>\n",
       "      <td>3.17</td>\n",
       "      <td>1185</td>\n",
       "    </tr>\n",
       "    <tr>\n",
       "      <th>3</th>\n",
       "      <td>1</td>\n",
       "      <td>14.37</td>\n",
       "      <td>1.95</td>\n",
       "      <td>2.50</td>\n",
       "      <td>16.8</td>\n",
       "      <td>113</td>\n",
       "      <td>3.85</td>\n",
       "      <td>3.49</td>\n",
       "      <td>0.24</td>\n",
       "      <td>2.18</td>\n",
       "      <td>7.80</td>\n",
       "      <td>0.86</td>\n",
       "      <td>3.45</td>\n",
       "      <td>1480</td>\n",
       "    </tr>\n",
       "    <tr>\n",
       "      <th>4</th>\n",
       "      <td>1</td>\n",
       "      <td>13.24</td>\n",
       "      <td>2.59</td>\n",
       "      <td>2.87</td>\n",
       "      <td>21.0</td>\n",
       "      <td>118</td>\n",
       "      <td>2.80</td>\n",
       "      <td>2.69</td>\n",
       "      <td>0.39</td>\n",
       "      <td>1.82</td>\n",
       "      <td>4.32</td>\n",
       "      <td>1.04</td>\n",
       "      <td>2.93</td>\n",
       "      <td>735</td>\n",
       "    </tr>\n",
       "    <tr>\n",
       "      <th>...</th>\n",
       "      <td>...</td>\n",
       "      <td>...</td>\n",
       "      <td>...</td>\n",
       "      <td>...</td>\n",
       "      <td>...</td>\n",
       "      <td>...</td>\n",
       "      <td>...</td>\n",
       "      <td>...</td>\n",
       "      <td>...</td>\n",
       "      <td>...</td>\n",
       "      <td>...</td>\n",
       "      <td>...</td>\n",
       "      <td>...</td>\n",
       "      <td>...</td>\n",
       "    </tr>\n",
       "    <tr>\n",
       "      <th>173</th>\n",
       "      <td>3</td>\n",
       "      <td>13.71</td>\n",
       "      <td>5.65</td>\n",
       "      <td>2.45</td>\n",
       "      <td>20.5</td>\n",
       "      <td>95</td>\n",
       "      <td>1.68</td>\n",
       "      <td>0.61</td>\n",
       "      <td>0.52</td>\n",
       "      <td>1.06</td>\n",
       "      <td>7.70</td>\n",
       "      <td>0.64</td>\n",
       "      <td>1.74</td>\n",
       "      <td>740</td>\n",
       "    </tr>\n",
       "    <tr>\n",
       "      <th>174</th>\n",
       "      <td>3</td>\n",
       "      <td>13.40</td>\n",
       "      <td>3.91</td>\n",
       "      <td>2.48</td>\n",
       "      <td>23.0</td>\n",
       "      <td>102</td>\n",
       "      <td>1.80</td>\n",
       "      <td>0.75</td>\n",
       "      <td>0.43</td>\n",
       "      <td>1.41</td>\n",
       "      <td>7.30</td>\n",
       "      <td>0.70</td>\n",
       "      <td>1.56</td>\n",
       "      <td>750</td>\n",
       "    </tr>\n",
       "    <tr>\n",
       "      <th>175</th>\n",
       "      <td>3</td>\n",
       "      <td>13.27</td>\n",
       "      <td>4.28</td>\n",
       "      <td>2.26</td>\n",
       "      <td>20.0</td>\n",
       "      <td>120</td>\n",
       "      <td>1.59</td>\n",
       "      <td>0.69</td>\n",
       "      <td>0.43</td>\n",
       "      <td>1.35</td>\n",
       "      <td>10.20</td>\n",
       "      <td>0.59</td>\n",
       "      <td>1.56</td>\n",
       "      <td>835</td>\n",
       "    </tr>\n",
       "    <tr>\n",
       "      <th>176</th>\n",
       "      <td>3</td>\n",
       "      <td>13.17</td>\n",
       "      <td>2.59</td>\n",
       "      <td>2.37</td>\n",
       "      <td>20.0</td>\n",
       "      <td>120</td>\n",
       "      <td>1.65</td>\n",
       "      <td>0.68</td>\n",
       "      <td>0.53</td>\n",
       "      <td>1.46</td>\n",
       "      <td>9.30</td>\n",
       "      <td>0.60</td>\n",
       "      <td>1.62</td>\n",
       "      <td>840</td>\n",
       "    </tr>\n",
       "    <tr>\n",
       "      <th>177</th>\n",
       "      <td>3</td>\n",
       "      <td>14.13</td>\n",
       "      <td>4.10</td>\n",
       "      <td>2.74</td>\n",
       "      <td>24.5</td>\n",
       "      <td>96</td>\n",
       "      <td>2.05</td>\n",
       "      <td>0.76</td>\n",
       "      <td>0.56</td>\n",
       "      <td>1.35</td>\n",
       "      <td>9.20</td>\n",
       "      <td>0.61</td>\n",
       "      <td>1.60</td>\n",
       "      <td>560</td>\n",
       "    </tr>\n",
       "  </tbody>\n",
       "</table>\n",
       "<p>178 rows × 14 columns</p>\n",
       "</div>"
      ],
      "text/plain": [
       "     Class label  Alcohol  Malic acid   Ash  Alcalinity of ash  Magnesium  \\\n",
       "0              1    14.23        1.71  2.43               15.6        127   \n",
       "1              1    13.20        1.78  2.14               11.2        100   \n",
       "2              1    13.16        2.36  2.67               18.6        101   \n",
       "3              1    14.37        1.95  2.50               16.8        113   \n",
       "4              1    13.24        2.59  2.87               21.0        118   \n",
       "..           ...      ...         ...   ...                ...        ...   \n",
       "173            3    13.71        5.65  2.45               20.5         95   \n",
       "174            3    13.40        3.91  2.48               23.0        102   \n",
       "175            3    13.27        4.28  2.26               20.0        120   \n",
       "176            3    13.17        2.59  2.37               20.0        120   \n",
       "177            3    14.13        4.10  2.74               24.5         96   \n",
       "\n",
       "     Total phenols  Flavanoids  Nonflavanoid phenols  Proanthocyanins  \\\n",
       "0             2.80        3.06                  0.28             2.29   \n",
       "1             2.65        2.76                  0.26             1.28   \n",
       "2             2.80        3.24                  0.30             2.81   \n",
       "3             3.85        3.49                  0.24             2.18   \n",
       "4             2.80        2.69                  0.39             1.82   \n",
       "..             ...         ...                   ...              ...   \n",
       "173           1.68        0.61                  0.52             1.06   \n",
       "174           1.80        0.75                  0.43             1.41   \n",
       "175           1.59        0.69                  0.43             1.35   \n",
       "176           1.65        0.68                  0.53             1.46   \n",
       "177           2.05        0.76                  0.56             1.35   \n",
       "\n",
       "     Color intensity   Hue  OD280/OD315 of diluted wines  Proline  \n",
       "0               5.64  1.04                          3.92     1065  \n",
       "1               4.38  1.05                          3.40     1050  \n",
       "2               5.68  1.03                          3.17     1185  \n",
       "3               7.80  0.86                          3.45     1480  \n",
       "4               4.32  1.04                          2.93      735  \n",
       "..               ...   ...                           ...      ...  \n",
       "173             7.70  0.64                          1.74      740  \n",
       "174             7.30  0.70                          1.56      750  \n",
       "175            10.20  0.59                          1.56      835  \n",
       "176             9.30  0.60                          1.62      840  \n",
       "177             9.20  0.61                          1.60      560  \n",
       "\n",
       "[178 rows x 14 columns]"
      ]
     },
     "execution_count": 176,
     "metadata": {},
     "output_type": "execute_result"
    }
   ],
   "source": [
    "df_wine.columns = ['Class label', 'Alcohol', 'Malic acid', 'Ash',\n",
    "       'Alcalinity of ash', 'Magnesium', 'Total phenols',\n",
    "       'Flavanoids', 'Nonflavanoid phenols', 'Proanthocyanins',\n",
    "       'Color intensity', 'Hue', 'OD280/OD315 of diluted wines',\n",
    "       'Proline']\n",
    "\n",
    "df_wine"
   ]
  },
  {
   "cell_type": "code",
   "execution_count": 4,
   "id": "3d171b5f",
   "metadata": {},
   "outputs": [],
   "source": [
    "df_wine.columns=['Class label', 'Alcohol', 'Malic acid', 'Ash',\n",
    "       'Alcalinity of ash', 'Magnesium', 'Total phenols',\n",
    "       'Flavanoids', 'Nonflavanoid phenols', 'Proanthocyanins',\n",
    "       'Color intensity', 'Hue', 'OD280/OD315 of diluted wines',\n",
    "       'Proline']"
   ]
  },
  {
   "cell_type": "code",
   "execution_count": 5,
   "id": "49d818a9",
   "metadata": {},
   "outputs": [
    {
     "data": {
      "text/html": [
       "<div>\n",
       "<style scoped>\n",
       "    .dataframe tbody tr th:only-of-type {\n",
       "        vertical-align: middle;\n",
       "    }\n",
       "\n",
       "    .dataframe tbody tr th {\n",
       "        vertical-align: top;\n",
       "    }\n",
       "\n",
       "    .dataframe thead th {\n",
       "        text-align: right;\n",
       "    }\n",
       "</style>\n",
       "<table border=\"1\" class=\"dataframe\">\n",
       "  <thead>\n",
       "    <tr style=\"text-align: right;\">\n",
       "      <th></th>\n",
       "      <th>Class label</th>\n",
       "      <th>Alcohol</th>\n",
       "      <th>Malic acid</th>\n",
       "      <th>Ash</th>\n",
       "      <th>Alcalinity of ash</th>\n",
       "      <th>Magnesium</th>\n",
       "      <th>Total phenols</th>\n",
       "      <th>Flavanoids</th>\n",
       "      <th>Nonflavanoid phenols</th>\n",
       "      <th>Proanthocyanins</th>\n",
       "      <th>Color intensity</th>\n",
       "      <th>Hue</th>\n",
       "      <th>OD280/OD315 of diluted wines</th>\n",
       "      <th>Proline</th>\n",
       "    </tr>\n",
       "  </thead>\n",
       "  <tbody>\n",
       "    <tr>\n",
       "      <th>0</th>\n",
       "      <td>1</td>\n",
       "      <td>14.23</td>\n",
       "      <td>1.71</td>\n",
       "      <td>2.43</td>\n",
       "      <td>15.6</td>\n",
       "      <td>127</td>\n",
       "      <td>2.80</td>\n",
       "      <td>3.06</td>\n",
       "      <td>0.28</td>\n",
       "      <td>2.29</td>\n",
       "      <td>5.64</td>\n",
       "      <td>1.04</td>\n",
       "      <td>3.92</td>\n",
       "      <td>1065</td>\n",
       "    </tr>\n",
       "    <tr>\n",
       "      <th>1</th>\n",
       "      <td>1</td>\n",
       "      <td>13.20</td>\n",
       "      <td>1.78</td>\n",
       "      <td>2.14</td>\n",
       "      <td>11.2</td>\n",
       "      <td>100</td>\n",
       "      <td>2.65</td>\n",
       "      <td>2.76</td>\n",
       "      <td>0.26</td>\n",
       "      <td>1.28</td>\n",
       "      <td>4.38</td>\n",
       "      <td>1.05</td>\n",
       "      <td>3.40</td>\n",
       "      <td>1050</td>\n",
       "    </tr>\n",
       "    <tr>\n",
       "      <th>2</th>\n",
       "      <td>1</td>\n",
       "      <td>13.16</td>\n",
       "      <td>2.36</td>\n",
       "      <td>2.67</td>\n",
       "      <td>18.6</td>\n",
       "      <td>101</td>\n",
       "      <td>2.80</td>\n",
       "      <td>3.24</td>\n",
       "      <td>0.30</td>\n",
       "      <td>2.81</td>\n",
       "      <td>5.68</td>\n",
       "      <td>1.03</td>\n",
       "      <td>3.17</td>\n",
       "      <td>1185</td>\n",
       "    </tr>\n",
       "    <tr>\n",
       "      <th>3</th>\n",
       "      <td>1</td>\n",
       "      <td>14.37</td>\n",
       "      <td>1.95</td>\n",
       "      <td>2.50</td>\n",
       "      <td>16.8</td>\n",
       "      <td>113</td>\n",
       "      <td>3.85</td>\n",
       "      <td>3.49</td>\n",
       "      <td>0.24</td>\n",
       "      <td>2.18</td>\n",
       "      <td>7.80</td>\n",
       "      <td>0.86</td>\n",
       "      <td>3.45</td>\n",
       "      <td>1480</td>\n",
       "    </tr>\n",
       "    <tr>\n",
       "      <th>4</th>\n",
       "      <td>1</td>\n",
       "      <td>13.24</td>\n",
       "      <td>2.59</td>\n",
       "      <td>2.87</td>\n",
       "      <td>21.0</td>\n",
       "      <td>118</td>\n",
       "      <td>2.80</td>\n",
       "      <td>2.69</td>\n",
       "      <td>0.39</td>\n",
       "      <td>1.82</td>\n",
       "      <td>4.32</td>\n",
       "      <td>1.04</td>\n",
       "      <td>2.93</td>\n",
       "      <td>735</td>\n",
       "    </tr>\n",
       "    <tr>\n",
       "      <th>...</th>\n",
       "      <td>...</td>\n",
       "      <td>...</td>\n",
       "      <td>...</td>\n",
       "      <td>...</td>\n",
       "      <td>...</td>\n",
       "      <td>...</td>\n",
       "      <td>...</td>\n",
       "      <td>...</td>\n",
       "      <td>...</td>\n",
       "      <td>...</td>\n",
       "      <td>...</td>\n",
       "      <td>...</td>\n",
       "      <td>...</td>\n",
       "      <td>...</td>\n",
       "    </tr>\n",
       "    <tr>\n",
       "      <th>173</th>\n",
       "      <td>3</td>\n",
       "      <td>13.71</td>\n",
       "      <td>5.65</td>\n",
       "      <td>2.45</td>\n",
       "      <td>20.5</td>\n",
       "      <td>95</td>\n",
       "      <td>1.68</td>\n",
       "      <td>0.61</td>\n",
       "      <td>0.52</td>\n",
       "      <td>1.06</td>\n",
       "      <td>7.70</td>\n",
       "      <td>0.64</td>\n",
       "      <td>1.74</td>\n",
       "      <td>740</td>\n",
       "    </tr>\n",
       "    <tr>\n",
       "      <th>174</th>\n",
       "      <td>3</td>\n",
       "      <td>13.40</td>\n",
       "      <td>3.91</td>\n",
       "      <td>2.48</td>\n",
       "      <td>23.0</td>\n",
       "      <td>102</td>\n",
       "      <td>1.80</td>\n",
       "      <td>0.75</td>\n",
       "      <td>0.43</td>\n",
       "      <td>1.41</td>\n",
       "      <td>7.30</td>\n",
       "      <td>0.70</td>\n",
       "      <td>1.56</td>\n",
       "      <td>750</td>\n",
       "    </tr>\n",
       "    <tr>\n",
       "      <th>175</th>\n",
       "      <td>3</td>\n",
       "      <td>13.27</td>\n",
       "      <td>4.28</td>\n",
       "      <td>2.26</td>\n",
       "      <td>20.0</td>\n",
       "      <td>120</td>\n",
       "      <td>1.59</td>\n",
       "      <td>0.69</td>\n",
       "      <td>0.43</td>\n",
       "      <td>1.35</td>\n",
       "      <td>10.20</td>\n",
       "      <td>0.59</td>\n",
       "      <td>1.56</td>\n",
       "      <td>835</td>\n",
       "    </tr>\n",
       "    <tr>\n",
       "      <th>176</th>\n",
       "      <td>3</td>\n",
       "      <td>13.17</td>\n",
       "      <td>2.59</td>\n",
       "      <td>2.37</td>\n",
       "      <td>20.0</td>\n",
       "      <td>120</td>\n",
       "      <td>1.65</td>\n",
       "      <td>0.68</td>\n",
       "      <td>0.53</td>\n",
       "      <td>1.46</td>\n",
       "      <td>9.30</td>\n",
       "      <td>0.60</td>\n",
       "      <td>1.62</td>\n",
       "      <td>840</td>\n",
       "    </tr>\n",
       "    <tr>\n",
       "      <th>177</th>\n",
       "      <td>3</td>\n",
       "      <td>14.13</td>\n",
       "      <td>4.10</td>\n",
       "      <td>2.74</td>\n",
       "      <td>24.5</td>\n",
       "      <td>96</td>\n",
       "      <td>2.05</td>\n",
       "      <td>0.76</td>\n",
       "      <td>0.56</td>\n",
       "      <td>1.35</td>\n",
       "      <td>9.20</td>\n",
       "      <td>0.61</td>\n",
       "      <td>1.60</td>\n",
       "      <td>560</td>\n",
       "    </tr>\n",
       "  </tbody>\n",
       "</table>\n",
       "<p>178 rows × 14 columns</p>\n",
       "</div>"
      ],
      "text/plain": [
       "     Class label  Alcohol  Malic acid   Ash  Alcalinity of ash  Magnesium  \\\n",
       "0              1    14.23        1.71  2.43               15.6        127   \n",
       "1              1    13.20        1.78  2.14               11.2        100   \n",
       "2              1    13.16        2.36  2.67               18.6        101   \n",
       "3              1    14.37        1.95  2.50               16.8        113   \n",
       "4              1    13.24        2.59  2.87               21.0        118   \n",
       "..           ...      ...         ...   ...                ...        ...   \n",
       "173            3    13.71        5.65  2.45               20.5         95   \n",
       "174            3    13.40        3.91  2.48               23.0        102   \n",
       "175            3    13.27        4.28  2.26               20.0        120   \n",
       "176            3    13.17        2.59  2.37               20.0        120   \n",
       "177            3    14.13        4.10  2.74               24.5         96   \n",
       "\n",
       "     Total phenols  Flavanoids  Nonflavanoid phenols  Proanthocyanins  \\\n",
       "0             2.80        3.06                  0.28             2.29   \n",
       "1             2.65        2.76                  0.26             1.28   \n",
       "2             2.80        3.24                  0.30             2.81   \n",
       "3             3.85        3.49                  0.24             2.18   \n",
       "4             2.80        2.69                  0.39             1.82   \n",
       "..             ...         ...                   ...              ...   \n",
       "173           1.68        0.61                  0.52             1.06   \n",
       "174           1.80        0.75                  0.43             1.41   \n",
       "175           1.59        0.69                  0.43             1.35   \n",
       "176           1.65        0.68                  0.53             1.46   \n",
       "177           2.05        0.76                  0.56             1.35   \n",
       "\n",
       "     Color intensity   Hue  OD280/OD315 of diluted wines  Proline  \n",
       "0               5.64  1.04                          3.92     1065  \n",
       "1               4.38  1.05                          3.40     1050  \n",
       "2               5.68  1.03                          3.17     1185  \n",
       "3               7.80  0.86                          3.45     1480  \n",
       "4               4.32  1.04                          2.93      735  \n",
       "..               ...   ...                           ...      ...  \n",
       "173             7.70  0.64                          1.74      740  \n",
       "174             7.30  0.70                          1.56      750  \n",
       "175            10.20  0.59                          1.56      835  \n",
       "176             9.30  0.60                          1.62      840  \n",
       "177             9.20  0.61                          1.60      560  \n",
       "\n",
       "[178 rows x 14 columns]"
      ]
     },
     "execution_count": 5,
     "metadata": {},
     "output_type": "execute_result"
    }
   ],
   "source": [
    "df_wine"
   ]
  },
  {
   "cell_type": "code",
   "execution_count": 7,
   "id": "1bde3925",
   "metadata": {},
   "outputs": [],
   "source": [
    "data={\"a\":[1,2,3,4,5],\n",
    "      \"b\":[10,20,30,40,50],\n",
    "      \"c\":[100,200,300,400,500]}"
   ]
  },
  {
   "cell_type": "markdown",
   "id": "052a6e4e",
   "metadata": {},
   "source": []
  },
  {
   "cell_type": "code",
   "execution_count": 12,
   "id": "44a5c4e5",
   "metadata": {},
   "outputs": [
    {
     "data": {
      "text/html": [
       "<div>\n",
       "<style scoped>\n",
       "    .dataframe tbody tr th:only-of-type {\n",
       "        vertical-align: middle;\n",
       "    }\n",
       "\n",
       "    .dataframe tbody tr th {\n",
       "        vertical-align: top;\n",
       "    }\n",
       "\n",
       "    .dataframe thead th {\n",
       "        text-align: right;\n",
       "    }\n",
       "</style>\n",
       "<table border=\"1\" class=\"dataframe\">\n",
       "  <thead>\n",
       "    <tr style=\"text-align: right;\">\n",
       "      <th></th>\n",
       "      <th>a</th>\n",
       "      <th>b</th>\n",
       "      <th>c</th>\n",
       "    </tr>\n",
       "  </thead>\n",
       "  <tbody>\n",
       "    <tr>\n",
       "      <th>0</th>\n",
       "      <td>1</td>\n",
       "      <td>10</td>\n",
       "      <td>100</td>\n",
       "    </tr>\n",
       "    <tr>\n",
       "      <th>1</th>\n",
       "      <td>2</td>\n",
       "      <td>20</td>\n",
       "      <td>200</td>\n",
       "    </tr>\n",
       "    <tr>\n",
       "      <th>2</th>\n",
       "      <td>3</td>\n",
       "      <td>30</td>\n",
       "      <td>300</td>\n",
       "    </tr>\n",
       "    <tr>\n",
       "      <th>3</th>\n",
       "      <td>4</td>\n",
       "      <td>40</td>\n",
       "      <td>400</td>\n",
       "    </tr>\n",
       "    <tr>\n",
       "      <th>4</th>\n",
       "      <td>5</td>\n",
       "      <td>50</td>\n",
       "      <td>500</td>\n",
       "    </tr>\n",
       "  </tbody>\n",
       "</table>\n",
       "</div>"
      ],
      "text/plain": [
       "   a   b    c\n",
       "0  1  10  100\n",
       "1  2  20  200\n",
       "2  3  30  300\n",
       "3  4  40  400\n",
       "4  5  50  500"
      ]
     },
     "execution_count": 12,
     "metadata": {},
     "output_type": "execute_result"
    }
   ],
   "source": [
    "df=pd.DataFrame(data)\n",
    "df"
   ]
  },
  {
   "cell_type": "code",
   "execution_count": 20,
   "id": "ee419af5",
   "metadata": {},
   "outputs": [
    {
     "data": {
      "text/html": [
       "<div>\n",
       "<style scoped>\n",
       "    .dataframe tbody tr th:only-of-type {\n",
       "        vertical-align: middle;\n",
       "    }\n",
       "\n",
       "    .dataframe tbody tr th {\n",
       "        vertical-align: top;\n",
       "    }\n",
       "\n",
       "    .dataframe thead th {\n",
       "        text-align: right;\n",
       "    }\n",
       "</style>\n",
       "<table border=\"1\" class=\"dataframe\">\n",
       "  <thead>\n",
       "    <tr style=\"text-align: right;\">\n",
       "      <th></th>\n",
       "      <th>b</th>\n",
       "      <th>c</th>\n",
       "    </tr>\n",
       "  </thead>\n",
       "  <tbody>\n",
       "    <tr>\n",
       "      <th>0</th>\n",
       "      <td>10</td>\n",
       "      <td>100</td>\n",
       "    </tr>\n",
       "    <tr>\n",
       "      <th>1</th>\n",
       "      <td>20</td>\n",
       "      <td>200</td>\n",
       "    </tr>\n",
       "    <tr>\n",
       "      <th>2</th>\n",
       "      <td>30</td>\n",
       "      <td>300</td>\n",
       "    </tr>\n",
       "    <tr>\n",
       "      <th>3</th>\n",
       "      <td>40</td>\n",
       "      <td>400</td>\n",
       "    </tr>\n",
       "    <tr>\n",
       "      <th>4</th>\n",
       "      <td>50</td>\n",
       "      <td>500</td>\n",
       "    </tr>\n",
       "  </tbody>\n",
       "</table>\n",
       "</div>"
      ],
      "text/plain": [
       "    b    c\n",
       "0  10  100\n",
       "1  20  200\n",
       "2  30  300\n",
       "3  40  400\n",
       "4  50  500"
      ]
     },
     "execution_count": 20,
     "metadata": {},
     "output_type": "execute_result"
    }
   ],
   "source": [
    "df.iloc[:,1:]"
   ]
  },
  {
   "cell_type": "code",
   "execution_count": 31,
   "id": "589e183b",
   "metadata": {},
   "outputs": [
    {
     "data": {
      "text/plain": [
       "array([[1.423e+01, 1.710e+00, 2.430e+00, ..., 1.040e+00, 3.920e+00,\n",
       "        1.065e+03],\n",
       "       [1.320e+01, 1.780e+00, 2.140e+00, ..., 1.050e+00, 3.400e+00,\n",
       "        1.050e+03],\n",
       "       [1.316e+01, 2.360e+00, 2.670e+00, ..., 1.030e+00, 3.170e+00,\n",
       "        1.185e+03],\n",
       "       ...,\n",
       "       [1.327e+01, 4.280e+00, 2.260e+00, ..., 5.900e-01, 1.560e+00,\n",
       "        8.350e+02],\n",
       "       [1.317e+01, 2.590e+00, 2.370e+00, ..., 6.000e-01, 1.620e+00,\n",
       "        8.400e+02],\n",
       "       [1.413e+01, 4.100e+00, 2.740e+00, ..., 6.100e-01, 1.600e+00,\n",
       "        5.600e+02]])"
      ]
     },
     "execution_count": 31,
     "metadata": {},
     "output_type": "execute_result"
    }
   ],
   "source": [
    "df_wine.iloc[:,1:].values"
   ]
  },
  {
   "cell_type": "markdown",
   "id": "47388d64",
   "metadata": {},
   "source": [
    "# 標準化訓練及測試數據"
   ]
  },
  {
   "cell_type": "code",
   "execution_count": 177,
   "id": "56cf8bc2",
   "metadata": {},
   "outputs": [
    {
     "name": "stdout",
     "output_type": "stream",
     "text": [
      "# of data: 178\n",
      "# of features: 13\n"
     ]
    }
   ],
   "source": [
    "#Standardize features by removing the mean and scaling to unit variance\n",
    "sc = StandardScaler()\n",
    "X, y = df_wine.iloc[:, 1:].values, df_wine.iloc[:, 0].values # 0為 Class label ,  1之後為13個特徵\n",
    "print('# of data:',X.shape[0])\n",
    "print('# of features:',X.shape[1])\n",
    "X_train, X_test, y_train, y_test = train_test_split(X, y, test_size=0.3, random_state=0)\n",
    "X_train_std=sc.fit_transform(X_train)\n",
    "X_test_std=sc.fit_transform(X_test)\n"
   ]
  },
  {
   "cell_type": "code",
   "execution_count": 178,
   "id": "584adb03",
   "metadata": {},
   "outputs": [
    {
     "ename": "ValueError",
     "evalue": "too many values to unpack (expected 2)",
     "output_type": "error",
     "traceback": [
      "\u001b[0;31m---------------------------------------------------------------------------\u001b[0m",
      "\u001b[0;31mValueError\u001b[0m                                Traceback (most recent call last)",
      "Cell \u001b[0;32mIn[178], line 2\u001b[0m\n\u001b[1;32m      1\u001b[0m sc\u001b[39m=\u001b[39mStandardScaler()\n\u001b[0;32m----> 2\u001b[0m X,y\u001b[39m=\u001b[39mdf_wine\n",
      "\u001b[0;31mValueError\u001b[0m: too many values to unpack (expected 2)"
     ]
    }
   ],
   "source": [
    "sc=StandardScaler()\n",
    "X,y=df_wine"
   ]
  },
  {
   "cell_type": "code",
   "execution_count": 28,
   "id": "d97c6079",
   "metadata": {},
   "outputs": [
    {
     "data": {
      "text/plain": [
       "array([1, 1, 1, 1, 1, 1, 1, 1, 1, 1, 1, 1, 1, 1, 1, 1, 1, 1, 1, 1, 1, 1,\n",
       "       1, 1, 1, 1, 1, 1, 1, 1, 1, 1, 1, 1, 1, 1, 1, 1, 1, 1, 1, 1, 1, 1,\n",
       "       1, 1, 1, 1, 1, 1, 1, 1, 1, 1, 1, 1, 1, 1, 1, 2, 2, 2, 2, 2, 2, 2,\n",
       "       2, 2, 2, 2, 2, 2, 2, 2, 2, 2, 2, 2, 2, 2, 2, 2, 2, 2, 2, 2, 2, 2,\n",
       "       2, 2, 2, 2, 2, 2, 2, 2, 2, 2, 2, 2, 2, 2, 2, 2, 2, 2, 2, 2, 2, 2,\n",
       "       2, 2, 2, 2, 2, 2, 2, 2, 2, 2, 2, 2, 2, 2, 2, 2, 2, 2, 2, 2, 3, 3,\n",
       "       3, 3, 3, 3, 3, 3, 3, 3, 3, 3, 3, 3, 3, 3, 3, 3, 3, 3, 3, 3, 3, 3,\n",
       "       3, 3, 3, 3, 3, 3, 3, 3, 3, 3, 3, 3, 3, 3, 3, 3, 3, 3, 3, 3, 3, 3,\n",
       "       3, 3])"
      ]
     },
     "execution_count": 28,
     "metadata": {},
     "output_type": "execute_result"
    }
   ],
   "source": [
    "X=df_wine.iloc[:, 0].values\n",
    "X"
   ]
  },
  {
   "cell_type": "code",
   "execution_count": 179,
   "id": "d4933bbb",
   "metadata": {},
   "outputs": [
    {
     "name": "stdout",
     "output_type": "stream",
     "text": [
      "# of data: 178\n",
      "# of features: 13\n"
     ]
    }
   ],
   "source": [
    "#Standardize features by removing the mean and scaling to unit variance\n",
    "sc = StandardScaler()\n",
    "X, y = df_wine.iloc[:, 1:].values, df_wine.iloc[:, 0].values # 0為 Class label ,  1之後為13個特徵\n",
    "print('# of data:',X.shape[0])\n",
    "print('# of features:',X.shape[1])\n",
    "X_train, X_test, y_train, y_test = train_test_split(X, y, test_size=0.3, random_state=0)\n",
    "X_train_std=sc.fit_transform(X_train)\n",
    "X_test_std=sc.fit_transform(X_test)"
   ]
  },
  {
   "cell_type": "code",
   "execution_count": 36,
   "id": "71c052ff",
   "metadata": {},
   "outputs": [
    {
     "name": "stdout",
     "output_type": "stream",
     "text": [
      "178\n"
     ]
    },
    {
     "data": {
      "text/plain": [
       "1.0"
      ]
     },
     "execution_count": 36,
     "metadata": {},
     "output_type": "execute_result"
    }
   ],
   "source": [
    "sc=StandardScaler()\n",
    "X,y=df_wine.iloc[:,1:].values,df_wine.iloc[:,0].values\n",
    "print(X.shape[0])\n",
    "X_train, X_test, y_train, y_test =train_test_split(X,y,test_size=0.3,random_state=0)\n",
    "X_train_std=sc.fit_transform(X_train)\n",
    "X_test_std=sc.fit_transform(X_test)\n",
    "X_test_std.std()\n"
   ]
  },
  {
   "cell_type": "code",
   "execution_count": 32,
   "id": "b715e4be",
   "metadata": {},
   "outputs": [
    {
     "data": {
      "text/plain": [
       "(178,)"
      ]
     },
     "execution_count": 32,
     "metadata": {},
     "output_type": "execute_result"
    }
   ],
   "source": [
    "X.shape"
   ]
  },
  {
   "cell_type": "code",
   "execution_count": 42,
   "id": "7c2bebb7",
   "metadata": {},
   "outputs": [
    {
     "name": "stdout",
     "output_type": "stream",
     "text": [
      "[[1. 1. 1.]\n",
      " [1. 1. 1.]\n",
      " [1. 1. 1.]]\n"
     ]
    }
   ],
   "source": [
    "data=np.array([[1,2,3],[4,5,6],[7,8,9]])\n",
    "cov_matrix=np.cov(data)\n",
    "print(cov_matrix)"
   ]
  },
  {
   "cell_type": "code",
   "execution_count": 6,
   "id": "908ea213",
   "metadata": {},
   "outputs": [
    {
     "data": {
      "text/html": [
       "<div>\n",
       "<style scoped>\n",
       "    .dataframe tbody tr th:only-of-type {\n",
       "        vertical-align: middle;\n",
       "    }\n",
       "\n",
       "    .dataframe tbody tr th {\n",
       "        vertical-align: top;\n",
       "    }\n",
       "\n",
       "    .dataframe thead th {\n",
       "        text-align: right;\n",
       "    }\n",
       "</style>\n",
       "<table border=\"1\" class=\"dataframe\">\n",
       "  <thead>\n",
       "    <tr style=\"text-align: right;\">\n",
       "      <th></th>\n",
       "      <th>Alcohol</th>\n",
       "      <th>Malic acid</th>\n",
       "      <th>Ash</th>\n",
       "      <th>Alcalinity of ash</th>\n",
       "      <th>Magnesium</th>\n",
       "      <th>Total phenols</th>\n",
       "      <th>Flavanoids</th>\n",
       "      <th>Nonflavanoid phenols</th>\n",
       "      <th>Proanthocyanins</th>\n",
       "      <th>Color intensity</th>\n",
       "      <th>Hue</th>\n",
       "      <th>OD280/OD315 of diluted wines</th>\n",
       "      <th>Proline</th>\n",
       "    </tr>\n",
       "  </thead>\n",
       "  <tbody>\n",
       "    <tr>\n",
       "      <th>0</th>\n",
       "      <td>14.23</td>\n",
       "      <td>1.71</td>\n",
       "      <td>2.43</td>\n",
       "      <td>15.6</td>\n",
       "      <td>127</td>\n",
       "      <td>2.80</td>\n",
       "      <td>3.06</td>\n",
       "      <td>0.28</td>\n",
       "      <td>2.29</td>\n",
       "      <td>5.64</td>\n",
       "      <td>1.04</td>\n",
       "      <td>3.92</td>\n",
       "      <td>1065</td>\n",
       "    </tr>\n",
       "    <tr>\n",
       "      <th>1</th>\n",
       "      <td>13.20</td>\n",
       "      <td>1.78</td>\n",
       "      <td>2.14</td>\n",
       "      <td>11.2</td>\n",
       "      <td>100</td>\n",
       "      <td>2.65</td>\n",
       "      <td>2.76</td>\n",
       "      <td>0.26</td>\n",
       "      <td>1.28</td>\n",
       "      <td>4.38</td>\n",
       "      <td>1.05</td>\n",
       "      <td>3.40</td>\n",
       "      <td>1050</td>\n",
       "    </tr>\n",
       "    <tr>\n",
       "      <th>2</th>\n",
       "      <td>13.16</td>\n",
       "      <td>2.36</td>\n",
       "      <td>2.67</td>\n",
       "      <td>18.6</td>\n",
       "      <td>101</td>\n",
       "      <td>2.80</td>\n",
       "      <td>3.24</td>\n",
       "      <td>0.30</td>\n",
       "      <td>2.81</td>\n",
       "      <td>5.68</td>\n",
       "      <td>1.03</td>\n",
       "      <td>3.17</td>\n",
       "      <td>1185</td>\n",
       "    </tr>\n",
       "    <tr>\n",
       "      <th>3</th>\n",
       "      <td>14.37</td>\n",
       "      <td>1.95</td>\n",
       "      <td>2.50</td>\n",
       "      <td>16.8</td>\n",
       "      <td>113</td>\n",
       "      <td>3.85</td>\n",
       "      <td>3.49</td>\n",
       "      <td>0.24</td>\n",
       "      <td>2.18</td>\n",
       "      <td>7.80</td>\n",
       "      <td>0.86</td>\n",
       "      <td>3.45</td>\n",
       "      <td>1480</td>\n",
       "    </tr>\n",
       "    <tr>\n",
       "      <th>4</th>\n",
       "      <td>13.24</td>\n",
       "      <td>2.59</td>\n",
       "      <td>2.87</td>\n",
       "      <td>21.0</td>\n",
       "      <td>118</td>\n",
       "      <td>2.80</td>\n",
       "      <td>2.69</td>\n",
       "      <td>0.39</td>\n",
       "      <td>1.82</td>\n",
       "      <td>4.32</td>\n",
       "      <td>1.04</td>\n",
       "      <td>2.93</td>\n",
       "      <td>735</td>\n",
       "    </tr>\n",
       "    <tr>\n",
       "      <th>...</th>\n",
       "      <td>...</td>\n",
       "      <td>...</td>\n",
       "      <td>...</td>\n",
       "      <td>...</td>\n",
       "      <td>...</td>\n",
       "      <td>...</td>\n",
       "      <td>...</td>\n",
       "      <td>...</td>\n",
       "      <td>...</td>\n",
       "      <td>...</td>\n",
       "      <td>...</td>\n",
       "      <td>...</td>\n",
       "      <td>...</td>\n",
       "    </tr>\n",
       "    <tr>\n",
       "      <th>173</th>\n",
       "      <td>13.71</td>\n",
       "      <td>5.65</td>\n",
       "      <td>2.45</td>\n",
       "      <td>20.5</td>\n",
       "      <td>95</td>\n",
       "      <td>1.68</td>\n",
       "      <td>0.61</td>\n",
       "      <td>0.52</td>\n",
       "      <td>1.06</td>\n",
       "      <td>7.70</td>\n",
       "      <td>0.64</td>\n",
       "      <td>1.74</td>\n",
       "      <td>740</td>\n",
       "    </tr>\n",
       "    <tr>\n",
       "      <th>174</th>\n",
       "      <td>13.40</td>\n",
       "      <td>3.91</td>\n",
       "      <td>2.48</td>\n",
       "      <td>23.0</td>\n",
       "      <td>102</td>\n",
       "      <td>1.80</td>\n",
       "      <td>0.75</td>\n",
       "      <td>0.43</td>\n",
       "      <td>1.41</td>\n",
       "      <td>7.30</td>\n",
       "      <td>0.70</td>\n",
       "      <td>1.56</td>\n",
       "      <td>750</td>\n",
       "    </tr>\n",
       "    <tr>\n",
       "      <th>175</th>\n",
       "      <td>13.27</td>\n",
       "      <td>4.28</td>\n",
       "      <td>2.26</td>\n",
       "      <td>20.0</td>\n",
       "      <td>120</td>\n",
       "      <td>1.59</td>\n",
       "      <td>0.69</td>\n",
       "      <td>0.43</td>\n",
       "      <td>1.35</td>\n",
       "      <td>10.20</td>\n",
       "      <td>0.59</td>\n",
       "      <td>1.56</td>\n",
       "      <td>835</td>\n",
       "    </tr>\n",
       "    <tr>\n",
       "      <th>176</th>\n",
       "      <td>13.17</td>\n",
       "      <td>2.59</td>\n",
       "      <td>2.37</td>\n",
       "      <td>20.0</td>\n",
       "      <td>120</td>\n",
       "      <td>1.65</td>\n",
       "      <td>0.68</td>\n",
       "      <td>0.53</td>\n",
       "      <td>1.46</td>\n",
       "      <td>9.30</td>\n",
       "      <td>0.60</td>\n",
       "      <td>1.62</td>\n",
       "      <td>840</td>\n",
       "    </tr>\n",
       "    <tr>\n",
       "      <th>177</th>\n",
       "      <td>14.13</td>\n",
       "      <td>4.10</td>\n",
       "      <td>2.74</td>\n",
       "      <td>24.5</td>\n",
       "      <td>96</td>\n",
       "      <td>2.05</td>\n",
       "      <td>0.76</td>\n",
       "      <td>0.56</td>\n",
       "      <td>1.35</td>\n",
       "      <td>9.20</td>\n",
       "      <td>0.61</td>\n",
       "      <td>1.60</td>\n",
       "      <td>560</td>\n",
       "    </tr>\n",
       "  </tbody>\n",
       "</table>\n",
       "<p>178 rows × 13 columns</p>\n",
       "</div>"
      ],
      "text/plain": [
       "     Alcohol  Malic acid   Ash  Alcalinity of ash  Magnesium  Total phenols  \\\n",
       "0      14.23        1.71  2.43               15.6        127           2.80   \n",
       "1      13.20        1.78  2.14               11.2        100           2.65   \n",
       "2      13.16        2.36  2.67               18.6        101           2.80   \n",
       "3      14.37        1.95  2.50               16.8        113           3.85   \n",
       "4      13.24        2.59  2.87               21.0        118           2.80   \n",
       "..       ...         ...   ...                ...        ...            ...   \n",
       "173    13.71        5.65  2.45               20.5         95           1.68   \n",
       "174    13.40        3.91  2.48               23.0        102           1.80   \n",
       "175    13.27        4.28  2.26               20.0        120           1.59   \n",
       "176    13.17        2.59  2.37               20.0        120           1.65   \n",
       "177    14.13        4.10  2.74               24.5         96           2.05   \n",
       "\n",
       "     Flavanoids  Nonflavanoid phenols  Proanthocyanins  Color intensity   Hue  \\\n",
       "0          3.06                  0.28             2.29             5.64  1.04   \n",
       "1          2.76                  0.26             1.28             4.38  1.05   \n",
       "2          3.24                  0.30             2.81             5.68  1.03   \n",
       "3          3.49                  0.24             2.18             7.80  0.86   \n",
       "4          2.69                  0.39             1.82             4.32  1.04   \n",
       "..          ...                   ...              ...              ...   ...   \n",
       "173        0.61                  0.52             1.06             7.70  0.64   \n",
       "174        0.75                  0.43             1.41             7.30  0.70   \n",
       "175        0.69                  0.43             1.35            10.20  0.59   \n",
       "176        0.68                  0.53             1.46             9.30  0.60   \n",
       "177        0.76                  0.56             1.35             9.20  0.61   \n",
       "\n",
       "     OD280/OD315 of diluted wines  Proline  \n",
       "0                            3.92     1065  \n",
       "1                            3.40     1050  \n",
       "2                            3.17     1185  \n",
       "3                            3.45     1480  \n",
       "4                            2.93      735  \n",
       "..                            ...      ...  \n",
       "173                          1.74      740  \n",
       "174                          1.56      750  \n",
       "175                          1.56      835  \n",
       "176                          1.62      840  \n",
       "177                          1.60      560  \n",
       "\n",
       "[178 rows x 13 columns]"
      ]
     },
     "execution_count": 6,
     "metadata": {},
     "output_type": "execute_result"
    }
   ],
   "source": [
    "df_wine.iloc[:,1:]"
   ]
  },
  {
   "cell_type": "code",
   "execution_count": 180,
   "id": "37fffca1",
   "metadata": {},
   "outputs": [
    {
     "name": "stdout",
     "output_type": "stream",
     "text": [
      "(13, 13)\n",
      "[[ 6.42145004e-01  7.94901652e-02  5.06748361e-02 -9.35201678e-01\n",
      "   2.49549830e+00  1.69730999e-01  2.32309625e-01 -1.67026357e-02\n",
      "   4.58841463e-02  1.06463115e+00 -8.95255966e-03  4.25037766e-02\n",
      "   1.55349910e+02]\n",
      " [ 7.94901652e-02  1.29207718e+00  6.28362051e-02  1.23738316e+00\n",
      "  -9.96835825e-01 -2.03863074e-01 -4.54112012e-01  5.12921453e-02\n",
      "  -1.29444309e-01  8.15216562e-01 -1.46053766e-01 -3.20474718e-01\n",
      "  -7.05335156e+01]\n",
      " [ 5.06748361e-02  6.28362051e-02  7.63843365e-02  4.41324679e-01\n",
      "   7.36304091e-01  2.01327564e-02  1.64202334e-02  6.35392735e-03\n",
      "  -4.27703252e-03  1.58286435e-01 -7.05677550e-03 -3.60369788e-03\n",
      "   1.35036684e+01]\n",
      " [-9.35201678e-01  1.23738316e+00  4.41324679e-01  1.28133124e+01\n",
      "  -4.64864936e+00 -7.88909258e-01 -1.45028009e+00  1.77384736e-01\n",
      "  -5.47308943e-01 -2.57997902e-01 -2.11710045e-01 -7.42025964e-01\n",
      "  -5.31928875e+02]\n",
      " [ 2.49549830e+00 -9.96835825e-01  7.36304091e-01 -4.64864936e+00\n",
      "   2.14894506e+02  1.44120115e+00  2.05418961e+00 -5.55748099e-01\n",
      "   2.36863821e+00  4.31033253e+00  1.98403226e-01  1.67631786e-01\n",
      "   1.41295587e+03]\n",
      " [ 1.69730999e-01 -2.03863074e-01  2.01327564e-02 -7.88909258e-01\n",
      "   1.44120115e+00  3.60238028e-01  5.12587018e-01 -3.35776029e-02\n",
      "   2.20710569e-01 -9.70822379e-02  6.41139103e-02  3.10522659e-01\n",
      "   1.03574335e+02]\n",
      " [ 2.32309625e-01 -4.54112012e-01  1.64202334e-02 -1.45028009e+00\n",
      "   2.05418961e+00  5.12587018e-01  9.54619276e-01 -7.02320614e-02\n",
      "   3.86138618e-01 -4.37161816e-01  1.33163019e-01  5.61429399e-01\n",
      "   1.66907366e+02]\n",
      " [-1.67026357e-02  5.12921453e-02  6.35392735e-03  1.77384736e-01\n",
      "  -5.55748099e-01 -3.35776029e-02 -7.02320614e-02  1.54344283e-02\n",
      "  -2.60936992e-02  4.47718913e-02 -9.22555337e-03 -4.39506163e-02\n",
      "  -1.38759841e+01]\n",
      " [ 4.58841463e-02 -1.29444309e-01 -4.27703252e-03 -5.47308943e-01\n",
      "   2.36863821e+00  2.20710569e-01  3.86138618e-01 -2.60936992e-02\n",
      "   3.57893699e-01 -9.79241791e-02  4.51234553e-02  2.18742276e-01\n",
      "   6.51605894e+01]\n",
      " [ 1.06463115e+00  8.15216562e-01  1.58286435e-01 -2.57997902e-01\n",
      "   4.31033253e+00 -9.70822379e-02 -4.37161816e-01  4.47718913e-02\n",
      "  -9.79241791e-02  5.52870967e+00 -2.87850740e-01 -7.60843737e-01\n",
      "   2.27675593e+02]\n",
      " [-8.95255966e-03 -1.46053766e-01 -7.05677550e-03 -2.11710045e-01\n",
      "   1.98403226e-01  6.41139103e-02  1.33163019e-01 -9.22555337e-03\n",
      "   4.51234553e-02 -2.87850740e-01  5.54828080e-02  1.01290365e-01\n",
      "   1.77003885e+01]\n",
      " [ 4.25037766e-02 -3.20474718e-01 -3.60369788e-03 -7.42025964e-01\n",
      "   1.67631786e-01  3.10522659e-01  5.61429399e-01 -4.39506163e-02\n",
      "   2.18742276e-01 -7.60843737e-01  1.01290365e-01  5.21653134e-01\n",
      "   7.17754970e+01]\n",
      " [ 1.55349910e+02 -7.05335156e+01  1.35036684e+01 -5.31928875e+02\n",
      "   1.41295587e+03  1.03574335e+02  1.66907366e+02 -1.38759841e+01\n",
      "   6.51605894e+01  2.27675593e+02  1.77003885e+01  7.17754970e+01\n",
      "   9.53933676e+04]]\n"
     ]
    }
   ],
   "source": [
    "cov_mat=np.cov(X_train.T)\n",
    "print(cov_mat.shape)\n",
    "print(cov_mat)"
   ]
  },
  {
   "cell_type": "markdown",
   "id": "d53066e8",
   "metadata": {},
   "source": [
    "# 求Features的共變異係數矩陣\n",
    "\n",
    "Estimate a covariance matrix, given data and weights.\n",
    "\n",
    "Covariance indicates the level to which two variables vary together. If we examine N-dimensional samples, X = [x_1, x_2,... x_N]^T, then the covariance matrix element C_{ij} is the covariance of x_i and x_j. The element C_{ii} is the variance of x_i."
   ]
  },
  {
   "cell_type": "code",
   "execution_count": 4,
   "id": "17dd7ad9",
   "metadata": {},
   "outputs": [
    {
     "name": "stdout",
     "output_type": "stream",
     "text": [
      "共變異係數矩陣.shape= (13, 13)\n",
      "共變異係數矩陣= [[ 1.00813008  0.08797701  0.23066952 -0.32868099  0.2141631   0.35576761\n",
      "   0.2991246  -0.16913744  0.09649074  0.56962271 -0.04781543  0.07403492\n",
      "   0.63277882]\n",
      " [ 0.08797701  1.00813008  0.2016416   0.30658143 -0.06030917 -0.30124242\n",
      "  -0.41221162  0.36616593 -0.19190146  0.30749173 -0.54992807 -0.39352761\n",
      "  -0.20253906]\n",
      " [ 0.23066952  0.2016416   1.00813008  0.44971971  0.18321413  0.12235533\n",
      "   0.06130256  0.18655693 -0.02607834  0.24555355 -0.10928021 -0.01820002\n",
      "   0.15948032]\n",
      " [-0.32868099  0.30658143  0.44971971  1.00813008 -0.08930998 -0.37018442\n",
      "  -0.41804463  0.40212108 -0.25765667 -0.03090225 -0.25313262 -0.28934372\n",
      "  -0.48504311]\n",
      " [ 0.2141631  -0.06030917  0.18321413 -0.08930998  1.00813008  0.16513295\n",
      "   0.14458703 -0.30763563  0.27228619  0.1260674   0.05792599  0.01596134\n",
      "   0.31461066]\n",
      " [ 0.35576761 -0.30124242  0.12235533 -0.37018442  0.16513295  1.00813008\n",
      "   0.88119961 -0.45396901  0.6196806  -0.06935051  0.45718802  0.72214462\n",
      "   0.56326772]\n",
      " [ 0.2991246  -0.41221162  0.06130256 -0.41804463  0.14458703  0.88119961\n",
      "   1.00813008 -0.58329952  0.66598997 -0.19183675  0.58331869  0.80205789\n",
      "   0.55759374]\n",
      " [-0.16913744  0.36616593  0.18655693  0.40212108 -0.30763563 -0.45396901\n",
      "  -0.58329952  1.00813008 -0.35394023  0.15451294 -0.3178224  -0.49379349\n",
      "  -0.36456587]\n",
      " [ 0.09649074 -0.19190146 -0.02607834 -0.25765667  0.27228619  0.6196806\n",
      "   0.66598997 -0.35394023  1.00813008 -0.07018068  0.32282167  0.51036557\n",
      "   0.35552117]\n",
      " [ 0.56962271  0.30749173  0.24555355 -0.03090225  0.1260674  -0.06935051\n",
      "  -0.19183675  0.15451294 -0.07018068  1.00813008 -0.52395358 -0.45165752\n",
      "   0.31605457]\n",
      " [-0.04781543 -0.54992807 -0.10928021 -0.25313262  0.05792599  0.45718802\n",
      "   0.58331869 -0.3178224   0.32282167 -0.52395358  1.00813008  0.60022569\n",
      "   0.2452794 ]\n",
      " [ 0.07403492 -0.39352761 -0.01820002 -0.28934372  0.01596134  0.72214462\n",
      "   0.80205789 -0.49379349  0.51036557 -0.45165752  0.60022569  1.00813008\n",
      "   0.32437157]\n",
      " [ 0.63277882 -0.20253906  0.15948032 -0.48504311  0.31461066  0.56326772\n",
      "   0.55759374 -0.36456587  0.35552117  0.31605457  0.2452794   0.32437157\n",
      "   1.00813008]]\n"
     ]
    }
   ],
   "source": [
    "#求共變異係數矩陣的特徵向量及特徵值\n",
    "cov_mat = np.cov(X_train_std.T)\n",
    "print(\"共變異係數矩陣.shape=\",cov_mat.shape)\n",
    "print(\"共變異係數矩陣=\",cov_mat)"
   ]
  },
  {
   "cell_type": "code",
   "execution_count": 44,
   "id": "cc0201cc",
   "metadata": {},
   "outputs": [
    {
     "data": {
      "text/plain": [
       "array([[ 1.00813008,  0.08797701,  0.23066952, -0.32868099,  0.2141631 ,\n",
       "         0.35576761,  0.2991246 , -0.16913744,  0.09649074,  0.56962271,\n",
       "        -0.04781543,  0.07403492,  0.63277882],\n",
       "       [ 0.08797701,  1.00813008,  0.2016416 ,  0.30658143, -0.06030917,\n",
       "        -0.30124242, -0.41221162,  0.36616593, -0.19190146,  0.30749173,\n",
       "        -0.54992807, -0.39352761, -0.20253906],\n",
       "       [ 0.23066952,  0.2016416 ,  1.00813008,  0.44971971,  0.18321413,\n",
       "         0.12235533,  0.06130256,  0.18655693, -0.02607834,  0.24555355,\n",
       "        -0.10928021, -0.01820002,  0.15948032],\n",
       "       [-0.32868099,  0.30658143,  0.44971971,  1.00813008, -0.08930998,\n",
       "        -0.37018442, -0.41804463,  0.40212108, -0.25765667, -0.03090225,\n",
       "        -0.25313262, -0.28934372, -0.48504311],\n",
       "       [ 0.2141631 , -0.06030917,  0.18321413, -0.08930998,  1.00813008,\n",
       "         0.16513295,  0.14458703, -0.30763563,  0.27228619,  0.1260674 ,\n",
       "         0.05792599,  0.01596134,  0.31461066],\n",
       "       [ 0.35576761, -0.30124242,  0.12235533, -0.37018442,  0.16513295,\n",
       "         1.00813008,  0.88119961, -0.45396901,  0.6196806 , -0.06935051,\n",
       "         0.45718802,  0.72214462,  0.56326772],\n",
       "       [ 0.2991246 , -0.41221162,  0.06130256, -0.41804463,  0.14458703,\n",
       "         0.88119961,  1.00813008, -0.58329952,  0.66598997, -0.19183675,\n",
       "         0.58331869,  0.80205789,  0.55759374],\n",
       "       [-0.16913744,  0.36616593,  0.18655693,  0.40212108, -0.30763563,\n",
       "        -0.45396901, -0.58329952,  1.00813008, -0.35394023,  0.15451294,\n",
       "        -0.3178224 , -0.49379349, -0.36456587],\n",
       "       [ 0.09649074, -0.19190146, -0.02607834, -0.25765667,  0.27228619,\n",
       "         0.6196806 ,  0.66598997, -0.35394023,  1.00813008, -0.07018068,\n",
       "         0.32282167,  0.51036557,  0.35552117],\n",
       "       [ 0.56962271,  0.30749173,  0.24555355, -0.03090225,  0.1260674 ,\n",
       "        -0.06935051, -0.19183675,  0.15451294, -0.07018068,  1.00813008,\n",
       "        -0.52395358, -0.45165752,  0.31605457],\n",
       "       [-0.04781543, -0.54992807, -0.10928021, -0.25313262,  0.05792599,\n",
       "         0.45718802,  0.58331869, -0.3178224 ,  0.32282167, -0.52395358,\n",
       "         1.00813008,  0.60022569,  0.2452794 ],\n",
       "       [ 0.07403492, -0.39352761, -0.01820002, -0.28934372,  0.01596134,\n",
       "         0.72214462,  0.80205789, -0.49379349,  0.51036557, -0.45165752,\n",
       "         0.60022569,  1.00813008,  0.32437157],\n",
       "       [ 0.63277882, -0.20253906,  0.15948032, -0.48504311,  0.31461066,\n",
       "         0.56326772,  0.55759374, -0.36456587,  0.35552117,  0.31605457,\n",
       "         0.2452794 ,  0.32437157,  1.00813008]])"
      ]
     },
     "execution_count": 44,
     "metadata": {},
     "output_type": "execute_result"
    }
   ],
   "source": [
    "cov_mat"
   ]
  },
  {
   "cell_type": "code",
   "execution_count": 37,
   "id": "48aac291",
   "metadata": {},
   "outputs": [],
   "source": [
    "cov_mat = np.cov(X_train_std.T)"
   ]
  },
  {
   "cell_type": "code",
   "execution_count": 5,
   "id": "f20a0def",
   "metadata": {},
   "outputs": [
    {
     "name": "stdout",
     "output_type": "stream",
     "text": [
      "特徵向量(Eigen Vector)= (13, 13)\n",
      "特徵值(Eigen Value)= [4.8923083  2.46635032 1.42809973 1.01233462 0.84906459 0.60181514\n",
      " 0.52251546 0.08414846 0.33051429 0.29595018 0.16831254 0.21432212\n",
      " 0.2399553 ]\n"
     ]
    }
   ],
   "source": [
    "#求共變異係數矩陣的特徵向量及特徵值\n",
    "eigen_vals, eigen_vecs = np.linalg.eig(cov_mat)\n",
    "print(\"特徵向量(Eigen Vector)=\",eigen_vecs.shape)\n",
    "print(\"特徵值(Eigen Value)=\",eigen_vals)"
   ]
  },
  {
   "cell_type": "code",
   "execution_count": 47,
   "id": "8e0634d7",
   "metadata": {},
   "outputs": [
    {
     "data": {
      "text/plain": [
       "array([9.54186635e+04, 1.94003067e+02, 1.02519610e+01, 5.40570170e+00,\n",
       "       1.03841055e+00, 8.50080606e-01, 3.00830782e-01, 1.35259942e-01,\n",
       "       1.00121256e-01, 6.04914648e-02, 4.01235682e-02, 2.32348167e-02,\n",
       "       7.26416884e-03])"
      ]
     },
     "execution_count": 47,
     "metadata": {},
     "output_type": "execute_result"
    }
   ],
   "source": [
    "eigen_vals, eigen_vecs = np.linalg.eig(cov_mat)\n",
    "eigen_vals"
   ]
  },
  {
   "cell_type": "code",
   "execution_count": 50,
   "id": "f3c09958",
   "metadata": {},
   "outputs": [
    {
     "data": {
      "text/plain": [
       "array([9.54186635e+04, 1.94003067e+02, 1.02519610e+01, 5.40570170e+00,\n",
       "       1.03841055e+00, 8.50080606e-01, 3.00830782e-01, 1.35259942e-01,\n",
       "       1.00121256e-01, 6.04914648e-02, 4.01235682e-02, 2.32348167e-02,\n",
       "       7.26416884e-03])"
      ]
     },
     "execution_count": 50,
     "metadata": {},
     "output_type": "execute_result"
    }
   ],
   "source": [
    "eigen_vals, eigen_vecs=np.linalg.eig(cov_mat)\n",
    "eigen_vals\n"
   ]
  },
  {
   "cell_type": "code",
   "execution_count": 48,
   "id": "4ff459f8",
   "metadata": {},
   "outputs": [
    {
     "data": {
      "text/plain": [
       "array([[-1.62835773e-03, -9.92679525e-04, -1.31391979e-02,\n",
       "        -1.39506125e-01,  6.13952566e-02, -1.93397246e-01,\n",
       "         8.51211102e-01,  4.42865413e-01,  1.30636993e-01,\n",
       "        -1.81840291e-02,  2.30781465e-02,  2.38848231e-02,\n",
       "        -1.02444904e-04],\n",
       "       [ 7.39332227e-04, -3.72134412e-04, -1.21760629e-01,\n",
       "        -1.90950295e-01, -7.20870241e-01, -6.39949564e-01,\n",
       "        -7.87299729e-02, -7.77908724e-02, -3.75926724e-02,\n",
       "         4.39948813e-02,  3.06054403e-02, -5.32365761e-02,\n",
       "         1.23647328e-02],\n",
       "       [-1.41595032e-04, -2.81288662e-03, -5.15583934e-02,\n",
       "         1.66430637e-03,  2.23746950e-02, -5.22254653e-02,\n",
       "         8.04361780e-02, -9.29441580e-02, -1.32385636e-01,\n",
       "        -2.88726826e-02, -9.70230486e-01, -2.25529230e-03,\n",
       "         1.38861215e-01],\n",
       "       [ 5.57549259e-03, -1.76663706e-02, -9.55688616e-01,\n",
       "         2.77615049e-01,  7.65814841e-02,  1.06468968e-02,\n",
       "         1.52085861e-02,  1.95118090e-02,  5.93376248e-03,\n",
       "         5.27566896e-03,  5.07947705e-02,  3.45412780e-03,\n",
       "        -8.90656974e-04],\n",
       "       [-1.48399207e-02, -9.99676549e-01,  1.84565607e-02,\n",
       "         7.09990363e-04, -2.23773237e-03,  3.75116010e-05,\n",
       "         3.25317768e-03, -7.43384516e-03, -3.11699755e-04,\n",
       "         9.35933222e-04,  2.47548390e-03, -2.90871274e-04,\n",
       "        -2.71749613e-03],\n",
       "       [-1.08561838e-03,  5.27746246e-04,  3.43613997e-02,\n",
       "         7.39684309e-02,  2.45645629e-01, -3.23139735e-01,\n",
       "         1.21171351e-02, -1.21807200e-01, -3.08654389e-01,\n",
       "        -8.38397794e-01,  1.08888168e-01, -2.54445770e-02,\n",
       "         5.40293774e-02],\n",
       "       [-1.74941031e-03,  2.25866304e-03,  8.09778182e-02,\n",
       "         1.67523858e-01,  4.36488425e-01, -4.89616031e-01,\n",
       "         2.93975270e-03, -6.86858208e-02, -4.83582768e-01,\n",
       "         5.23131058e-01,  7.40867539e-02,  7.64977257e-02,\n",
       "        -1.07418125e-01],\n",
       "       [ 1.45501403e-04,  1.79046049e-03, -1.29886772e-02,\n",
       "        -1.24306919e-02, -2.99692842e-02,  1.80464827e-02,\n",
       "        -7.41481859e-03,  3.27904207e-02,  3.77255507e-03,\n",
       "        -9.93981805e-02, -1.40726002e-01, -1.64740947e-01,\n",
       "        -9.69784462e-01],\n",
       "       [-6.83214469e-04, -7.20197408e-03,  3.13377835e-02,\n",
       "         5.68375223e-02,  2.07411107e-01, -3.09977677e-01,\n",
       "        -4.87675750e-01,  6.98216921e-01,  3.32599864e-01,\n",
       "        -5.80311755e-02, -1.25340999e-01, -2.49915921e-03,\n",
       "         3.98518659e-02],\n",
       "       [-2.38657234e-03, -5.05121401e-03, -2.35249542e-01,\n",
       "        -8.90445717e-01,  3.38303166e-01, -3.57752884e-02,\n",
       "        -1.19056847e-01, -1.30202564e-01,  4.00164556e-02,\n",
       "         3.09164258e-02,  1.73347505e-02, -4.48879716e-02,\n",
       "         2.03908849e-03],\n",
       "       [-1.85519152e-04,  3.53071495e-04,  2.13842626e-02,\n",
       "         6.19455962e-02,  5.77345487e-02, -4.55119160e-04,\n",
       "         3.28068412e-02,  1.14145195e-02, -2.69853377e-02,\n",
       "         7.52898182e-02,  2.74234000e-02, -9.80264105e-01,\n",
       "         1.51982592e-01],\n",
       "       [-7.52190029e-04,  4.69256202e-03,  6.28081785e-02,\n",
       "         1.82595340e-01,  2.40077226e-01, -3.29216308e-01,\n",
       "         9.61232190e-02, -5.13346272e-01,  7.22407940e-01,\n",
       "         2.05545348e-02, -2.61735982e-02,  6.85069261e-04,\n",
       "        -3.04256446e-02],\n",
       "       [-9.99867216e-01,  1.47494368e-02, -5.35640368e-03,\n",
       "         3.18574626e-03, -2.35125027e-03,  1.66305605e-03,\n",
       "        -8.99714758e-04, -7.15109201e-05,  1.36448795e-04,\n",
       "        -1.26827398e-06,  1.59488128e-04,  1.05661254e-04,\n",
       "        -2.42407672e-05]])"
      ]
     },
     "execution_count": 48,
     "metadata": {},
     "output_type": "execute_result"
    }
   ],
   "source": [
    "eigen_vecs"
   ]
  },
  {
   "cell_type": "code",
   "execution_count": 60,
   "id": "5daf086c",
   "metadata": {},
   "outputs": [
    {
     "name": "stdout",
     "output_type": "stream",
     "text": [
      "各特徵值變異數比率：\n",
      "\n",
      "\n",
      "特徵值變異數比率累加：\n",
      " [0.99778088 0.99980954 0.99991675 0.99997327 0.99998413 0.99999302\n",
      " 0.99999617 0.99999758 0.99999863 0.99999926 0.99999968 0.99999992\n",
      " 1.        ]\n"
     ]
    }
   ],
   "source": [
    "#計算解釋變異數比率 各特徵值/特徵值總和\n",
    "tot = sum(eigen_vals)\n",
    "var_exp = [ (i/tot) for i in sorted(eigen_vals, reverse=True)]\n",
    "cum_var_exp = np.cumsum(var_exp)\n",
    "print(\"各特徵值變異數比率：\\n\", )\n",
    "print()\n",
    "print(\"特徵值變異數比率累加：\\n\",cum_var_exp)"
   ]
  },
  {
   "cell_type": "code",
   "execution_count": 61,
   "id": "6d16ffeb",
   "metadata": {},
   "outputs": [
    {
     "name": "stdout",
     "output_type": "stream",
     "text": [
      "各特徵值變異數比率：\n",
      " [0.9977808784498853, 0.002028665497925957, 0.0001072034579179649, 5.652673801419754e-05, 1.0858527596161541e-05, 8.889185226770744e-06, 3.1457493819125176e-06, 1.4143960764258057e-06, 1.0469552904256894e-06, 6.325515851501772e-07, 4.1956707076423463e-07, 2.4296353533521807e-07, 7.596049344381626e-08]\n",
      "特徵值變異數比率累加：\n",
      " [0.99778088 0.99980954 0.99991675 0.99997327 0.99998413 0.99999302\n",
      " 0.99999617 0.99999758 0.99999863 0.99999926 0.99999968 0.99999992\n",
      " 1.        ]\n"
     ]
    }
   ],
   "source": [
    "tot=sum(eigen_vals)\n",
    "var_exp=[(i/tot) for i in sorted(eigen_vals,reverse=True)]\n",
    "cum_var_exp=np.cumsum(var_exp)\n",
    "print(\"各特徵值變異數比率：\\n\",var_exp)\n",
    "print(\"特徵值變異數比率累加：\\n\",cum_var_exp)"
   ]
  },
  {
   "cell_type": "code",
   "execution_count": 54,
   "id": "6a66daa3",
   "metadata": {},
   "outputs": [
    {
     "data": {
      "text/plain": [
       "[0.9977808784498853,\n",
       " 0.002028665497925957,\n",
       " 0.0001072034579179649,\n",
       " 5.652673801419754e-05,\n",
       " 1.0858527596161541e-05,\n",
       " 8.889185226770744e-06,\n",
       " 3.1457493819125176e-06,\n",
       " 1.4143960764258057e-06,\n",
       " 1.0469552904256894e-06,\n",
       " 6.325515851501772e-07,\n",
       " 4.1956707076423463e-07,\n",
       " 2.4296353533521807e-07,\n",
       " 7.596049344381626e-08]"
      ]
     },
     "execution_count": 54,
     "metadata": {},
     "output_type": "execute_result"
    }
   ],
   "source": [
    "var_exp"
   ]
  },
  {
   "cell_type": "code",
   "execution_count": 53,
   "id": "46acb247",
   "metadata": {},
   "outputs": [
    {
     "data": {
      "text/plain": [
       "95630.88007947638"
      ]
     },
     "execution_count": 53,
     "metadata": {},
     "output_type": "execute_result"
    }
   ],
   "source": [
    "tot"
   ]
  },
  {
   "cell_type": "code",
   "execution_count": 181,
   "id": "b4aa80fd",
   "metadata": {},
   "outputs": [
    {
     "data": {
      "image/png": "[encoded data removed]",
      "text/plain": [
       "<Figure size 640x480 with 1 Axes>"
      ]
     },
     "metadata": {},
     "output_type": "display_data"
    }
   ],
   "source": [
    "plt.bar(range(1,14),var_exp,alpha=0.5,align=\"center\",\n",
    "        label=\"individual explained variance\")\n",
    "plt.step(range(1,14),cum_var_exp,where=\"mid\",\n",
    "         label=\"cumulative explained variance\")\n",
    "plt.ylabel('Explained variance ratio')\n",
    "plt.xlabel('Principal components')\n",
    "plt.legend(loc=\"best\")\n",
    "plt.tight_layout()\n",
    "plt.show()"
   ]
  },
  {
   "cell_type": "code",
   "execution_count": 64,
   "id": "972e4c9d",
   "metadata": {},
   "outputs": [
    {
     "ename": "ValueError",
     "evalue": "shape mismatch: objects cannot be broadcast to a single shape.  Mismatch is between arg 0 with shape (11,) and arg 1 with shape (13,).",
     "output_type": "error",
     "traceback": [
      "\u001b[0;31m---------------------------------------------------------------------------\u001b[0m",
      "\u001b[0;31mValueError\u001b[0m                                Traceback (most recent call last)",
      "Cell \u001b[0;32mIn[64], line 2\u001b[0m\n\u001b[1;32m      1\u001b[0m \u001b[39m#繪圖：解釋變異數比率，各特徵值/特徵值總和\u001b[39;00m\n\u001b[0;32m----> 2\u001b[0m plt\u001b[39m.\u001b[39;49mbar(\u001b[39mrange\u001b[39;49m(\u001b[39m1\u001b[39;49m, \u001b[39m12\u001b[39;49m), var_exp, alpha\u001b[39m=\u001b[39;49m\u001b[39m0.5\u001b[39;49m, align\u001b[39m=\u001b[39;49m\u001b[39m'\u001b[39;49m\u001b[39mcenter\u001b[39;49m\u001b[39m'\u001b[39;49m,\n\u001b[1;32m      3\u001b[0m         label\u001b[39m=\u001b[39;49m\u001b[39m'\u001b[39;49m\u001b[39mindividual explained variance\u001b[39;49m\u001b[39m'\u001b[39;49m)\n\u001b[1;32m      4\u001b[0m plt\u001b[39m.\u001b[39mstep(\u001b[39mrange\u001b[39m(\u001b[39m1\u001b[39m, \u001b[39m12\u001b[39m), cum_var_exp, where\u001b[39m=\u001b[39m\u001b[39m'\u001b[39m\u001b[39mmid\u001b[39m\u001b[39m'\u001b[39m,\n\u001b[1;32m      5\u001b[0m          label\u001b[39m=\u001b[39m\u001b[39m'\u001b[39m\u001b[39mcumulative explained variance\u001b[39m\u001b[39m'\u001b[39m)\n\u001b[1;32m      6\u001b[0m plt\u001b[39m.\u001b[39mylabel(\u001b[39m'\u001b[39m\u001b[39mExplained variance ratio\u001b[39m\u001b[39m'\u001b[39m)\n",
      "File \u001b[0;32m~/anaconda3/lib/python3.10/site-packages/matplotlib/pyplot.py:2412\u001b[0m, in \u001b[0;36mbar\u001b[0;34m(x, height, width, bottom, align, data, **kwargs)\u001b[0m\n\u001b[1;32m   2408\u001b[0m \u001b[39m@_copy_docstring_and_deprecators\u001b[39m(Axes\u001b[39m.\u001b[39mbar)\n\u001b[1;32m   2409\u001b[0m \u001b[39mdef\u001b[39;00m \u001b[39mbar\u001b[39m(\n\u001b[1;32m   2410\u001b[0m         x, height, width\u001b[39m=\u001b[39m\u001b[39m0.8\u001b[39m, bottom\u001b[39m=\u001b[39m\u001b[39mNone\u001b[39;00m, \u001b[39m*\u001b[39m, align\u001b[39m=\u001b[39m\u001b[39m'\u001b[39m\u001b[39mcenter\u001b[39m\u001b[39m'\u001b[39m,\n\u001b[1;32m   2411\u001b[0m         data\u001b[39m=\u001b[39m\u001b[39mNone\u001b[39;00m, \u001b[39m*\u001b[39m\u001b[39m*\u001b[39mkwargs):\n\u001b[0;32m-> 2412\u001b[0m     \u001b[39mreturn\u001b[39;00m gca()\u001b[39m.\u001b[39;49mbar(\n\u001b[1;32m   2413\u001b[0m         x, height, width\u001b[39m=\u001b[39;49mwidth, bottom\u001b[39m=\u001b[39;49mbottom, align\u001b[39m=\u001b[39;49malign,\n\u001b[1;32m   2414\u001b[0m         \u001b[39m*\u001b[39;49m\u001b[39m*\u001b[39;49m({\u001b[39m\"\u001b[39;49m\u001b[39mdata\u001b[39;49m\u001b[39m\"\u001b[39;49m: data} \u001b[39mif\u001b[39;49;00m data \u001b[39mis\u001b[39;49;00m \u001b[39mnot\u001b[39;49;00m \u001b[39mNone\u001b[39;49;00m \u001b[39melse\u001b[39;49;00m {}), \u001b[39m*\u001b[39;49m\u001b[39m*\u001b[39;49mkwargs)\n",
      "File \u001b[0;32m~/anaconda3/lib/python3.10/site-packages/matplotlib/__init__.py:1442\u001b[0m, in \u001b[0;36m_preprocess_data.<locals>.inner\u001b[0;34m(ax, data, *args, **kwargs)\u001b[0m\n\u001b[1;32m   1439\u001b[0m \u001b[39m@functools\u001b[39m\u001b[39m.\u001b[39mwraps(func)\n\u001b[1;32m   1440\u001b[0m \u001b[39mdef\u001b[39;00m \u001b[39minner\u001b[39m(ax, \u001b[39m*\u001b[39margs, data\u001b[39m=\u001b[39m\u001b[39mNone\u001b[39;00m, \u001b[39m*\u001b[39m\u001b[39m*\u001b[39mkwargs):\n\u001b[1;32m   1441\u001b[0m     \u001b[39mif\u001b[39;00m data \u001b[39mis\u001b[39;00m \u001b[39mNone\u001b[39;00m:\n\u001b[0;32m-> 1442\u001b[0m         \u001b[39mreturn\u001b[39;00m func(ax, \u001b[39m*\u001b[39;49m\u001b[39mmap\u001b[39;49m(sanitize_sequence, args), \u001b[39m*\u001b[39;49m\u001b[39m*\u001b[39;49mkwargs)\n\u001b[1;32m   1444\u001b[0m     bound \u001b[39m=\u001b[39m new_sig\u001b[39m.\u001b[39mbind(ax, \u001b[39m*\u001b[39margs, \u001b[39m*\u001b[39m\u001b[39m*\u001b[39mkwargs)\n\u001b[1;32m   1445\u001b[0m     auto_label \u001b[39m=\u001b[39m (bound\u001b[39m.\u001b[39marguments\u001b[39m.\u001b[39mget(label_namer)\n\u001b[1;32m   1446\u001b[0m                   \u001b[39mor\u001b[39;00m bound\u001b[39m.\u001b[39mkwargs\u001b[39m.\u001b[39mget(label_namer))\n",
      "File \u001b[0;32m~/anaconda3/lib/python3.10/site-packages/matplotlib/axes/_axes.py:2417\u001b[0m, in \u001b[0;36mAxes.bar\u001b[0;34m(self, x, height, width, bottom, align, **kwargs)\u001b[0m\n\u001b[1;32m   2414\u001b[0m     \u001b[39mif\u001b[39;00m yerr \u001b[39mis\u001b[39;00m \u001b[39mnot\u001b[39;00m \u001b[39mNone\u001b[39;00m:\n\u001b[1;32m   2415\u001b[0m         yerr \u001b[39m=\u001b[39m \u001b[39mself\u001b[39m\u001b[39m.\u001b[39m_convert_dx(yerr, y0, y, \u001b[39mself\u001b[39m\u001b[39m.\u001b[39mconvert_yunits)\n\u001b[0;32m-> 2417\u001b[0m x, height, width, y, linewidth, hatch \u001b[39m=\u001b[39m np\u001b[39m.\u001b[39;49mbroadcast_arrays(\n\u001b[1;32m   2418\u001b[0m     \u001b[39m# Make args iterable too.\u001b[39;49;00m\n\u001b[1;32m   2419\u001b[0m     np\u001b[39m.\u001b[39;49matleast_1d(x), height, width, y, linewidth, hatch)\n\u001b[1;32m   2421\u001b[0m \u001b[39m# Now that units have been converted, set the tick locations.\u001b[39;00m\n\u001b[1;32m   2422\u001b[0m \u001b[39mif\u001b[39;00m orientation \u001b[39m==\u001b[39m \u001b[39m'\u001b[39m\u001b[39mvertical\u001b[39m\u001b[39m'\u001b[39m:\n",
      "File \u001b[0;32m<__array_function__ internals>:180\u001b[0m, in \u001b[0;36mbroadcast_arrays\u001b[0;34m(*args, **kwargs)\u001b[0m\n",
      "File \u001b[0;32m~/anaconda3/lib/python3.10/site-packages/numpy/lib/stride_tricks.py:540\u001b[0m, in \u001b[0;36mbroadcast_arrays\u001b[0;34m(subok, *args)\u001b[0m\n\u001b[1;32m    533\u001b[0m \u001b[39m# nditer is not used here to avoid the limit of 32 arrays.\u001b[39;00m\n\u001b[1;32m    534\u001b[0m \u001b[39m# Otherwise, something like the following one-liner would suffice:\u001b[39;00m\n\u001b[1;32m    535\u001b[0m \u001b[39m# return np.nditer(args, flags=['multi_index', 'zerosize_ok'],\u001b[39;00m\n\u001b[1;32m    536\u001b[0m \u001b[39m#                  order='C').itviews\u001b[39;00m\n\u001b[1;32m    538\u001b[0m args \u001b[39m=\u001b[39m [np\u001b[39m.\u001b[39marray(_m, copy\u001b[39m=\u001b[39m\u001b[39mFalse\u001b[39;00m, subok\u001b[39m=\u001b[39msubok) \u001b[39mfor\u001b[39;00m _m \u001b[39min\u001b[39;00m args]\n\u001b[0;32m--> 540\u001b[0m shape \u001b[39m=\u001b[39m _broadcast_shape(\u001b[39m*\u001b[39;49margs)\n\u001b[1;32m    542\u001b[0m \u001b[39mif\u001b[39;00m \u001b[39mall\u001b[39m(array\u001b[39m.\u001b[39mshape \u001b[39m==\u001b[39m shape \u001b[39mfor\u001b[39;00m array \u001b[39min\u001b[39;00m args):\n\u001b[1;32m    543\u001b[0m     \u001b[39m# Common case where nothing needs to be broadcasted.\u001b[39;00m\n\u001b[1;32m    544\u001b[0m     \u001b[39mreturn\u001b[39;00m args\n",
      "File \u001b[0;32m~/anaconda3/lib/python3.10/site-packages/numpy/lib/stride_tricks.py:422\u001b[0m, in \u001b[0;36m_broadcast_shape\u001b[0;34m(*args)\u001b[0m\n\u001b[1;32m    417\u001b[0m \u001b[39m\"\"\"Returns the shape of the arrays that would result from broadcasting the\u001b[39;00m\n\u001b[1;32m    418\u001b[0m \u001b[39msupplied arrays against each other.\u001b[39;00m\n\u001b[1;32m    419\u001b[0m \u001b[39m\"\"\"\u001b[39;00m\n\u001b[1;32m    420\u001b[0m \u001b[39m# use the old-iterator because np.nditer does not handle size 0 arrays\u001b[39;00m\n\u001b[1;32m    421\u001b[0m \u001b[39m# consistently\u001b[39;00m\n\u001b[0;32m--> 422\u001b[0m b \u001b[39m=\u001b[39m np\u001b[39m.\u001b[39;49mbroadcast(\u001b[39m*\u001b[39;49margs[:\u001b[39m32\u001b[39;49m])\n\u001b[1;32m    423\u001b[0m \u001b[39m# unfortunately, it cannot handle 32 or more arguments directly\u001b[39;00m\n\u001b[1;32m    424\u001b[0m \u001b[39mfor\u001b[39;00m pos \u001b[39min\u001b[39;00m \u001b[39mrange\u001b[39m(\u001b[39m32\u001b[39m, \u001b[39mlen\u001b[39m(args), \u001b[39m31\u001b[39m):\n\u001b[1;32m    425\u001b[0m     \u001b[39m# ironically, np.broadcast does not properly handle np.broadcast\u001b[39;00m\n\u001b[1;32m    426\u001b[0m     \u001b[39m# objects (it treats them as scalars)\u001b[39;00m\n\u001b[1;32m    427\u001b[0m     \u001b[39m# use broadcasting to avoid allocating the full array\u001b[39;00m\n",
      "\u001b[0;31mValueError\u001b[0m: shape mismatch: objects cannot be broadcast to a single shape.  Mismatch is between arg 0 with shape (11,) and arg 1 with shape (13,)."
     ]
    },
    {
     "data": {
      "image/png": "[encoded data removed]",
      "text/plain": [
       "<Figure size 640x480 with 1 Axes>"
      ]
     },
     "metadata": {},
     "output_type": "display_data"
    }
   ],
   "source": [
    "#繪圖：解釋變異數比率，各特徵值/特徵值總和\n",
    "plt.bar(range(1, 12), var_exp, alpha=0.5, align='center',\n",
    "        label='individual explained variance')\n",
    "plt.step(range(1, 12), cum_var_exp, where='mid',\n",
    "         label='cumulative explained variance')\n",
    "plt.ylabel('Explained variance ratio')\n",
    "plt.xlabel('Principal components')\n",
    "plt.legend(loc='best')\n",
    "plt.tight_layout()\n",
    "plt.show()"
   ]
  },
  {
   "cell_type": "code",
   "execution_count": 157,
   "id": "b300be32",
   "metadata": {},
   "outputs": [
    {
     "data": {
      "text/plain": [
       "194.00306695352842"
      ]
     },
     "execution_count": 157,
     "metadata": {},
     "output_type": "execute_result"
    }
   ],
   "source": [
    " eigen_vals[1]"
   ]
  },
  {
   "cell_type": "code",
   "execution_count": 152,
   "id": "1e8230a7",
   "metadata": {},
   "outputs": [
    {
     "data": {
      "text/plain": [
       "array([[-1.62835773e-03, -9.92679525e-04, -1.31391979e-02,\n",
       "        -1.39506125e-01,  6.13952566e-02, -1.93397246e-01,\n",
       "         8.51211102e-01,  4.42865413e-01,  1.30636993e-01,\n",
       "        -1.81840291e-02,  2.30781465e-02,  2.38848231e-02,\n",
       "        -1.02444904e-04],\n",
       "       [ 7.39332227e-04, -3.72134412e-04, -1.21760629e-01,\n",
       "        -1.90950295e-01, -7.20870241e-01, -6.39949564e-01,\n",
       "        -7.87299729e-02, -7.77908724e-02, -3.75926724e-02,\n",
       "         4.39948813e-02,  3.06054403e-02, -5.32365761e-02,\n",
       "         1.23647328e-02],\n",
       "       [-1.41595032e-04, -2.81288662e-03, -5.15583934e-02,\n",
       "         1.66430637e-03,  2.23746950e-02, -5.22254653e-02,\n",
       "         8.04361780e-02, -9.29441580e-02, -1.32385636e-01,\n",
       "        -2.88726826e-02, -9.70230486e-01, -2.25529230e-03,\n",
       "         1.38861215e-01],\n",
       "       [ 5.57549259e-03, -1.76663706e-02, -9.55688616e-01,\n",
       "         2.77615049e-01,  7.65814841e-02,  1.06468968e-02,\n",
       "         1.52085861e-02,  1.95118090e-02,  5.93376248e-03,\n",
       "         5.27566896e-03,  5.07947705e-02,  3.45412780e-03,\n",
       "        -8.90656974e-04],\n",
       "       [-1.48399207e-02, -9.99676549e-01,  1.84565607e-02,\n",
       "         7.09990363e-04, -2.23773237e-03,  3.75116010e-05,\n",
       "         3.25317768e-03, -7.43384516e-03, -3.11699755e-04,\n",
       "         9.35933222e-04,  2.47548390e-03, -2.90871274e-04,\n",
       "        -2.71749613e-03],\n",
       "       [-1.08561838e-03,  5.27746246e-04,  3.43613997e-02,\n",
       "         7.39684309e-02,  2.45645629e-01, -3.23139735e-01,\n",
       "         1.21171351e-02, -1.21807200e-01, -3.08654389e-01,\n",
       "        -8.38397794e-01,  1.08888168e-01, -2.54445770e-02,\n",
       "         5.40293774e-02],\n",
       "       [-1.74941031e-03,  2.25866304e-03,  8.09778182e-02,\n",
       "         1.67523858e-01,  4.36488425e-01, -4.89616031e-01,\n",
       "         2.93975270e-03, -6.86858208e-02, -4.83582768e-01,\n",
       "         5.23131058e-01,  7.40867539e-02,  7.64977257e-02,\n",
       "        -1.07418125e-01],\n",
       "       [ 1.45501403e-04,  1.79046049e-03, -1.29886772e-02,\n",
       "        -1.24306919e-02, -2.99692842e-02,  1.80464827e-02,\n",
       "        -7.41481859e-03,  3.27904207e-02,  3.77255507e-03,\n",
       "        -9.93981805e-02, -1.40726002e-01, -1.64740947e-01,\n",
       "        -9.69784462e-01],\n",
       "       [-6.83214469e-04, -7.20197408e-03,  3.13377835e-02,\n",
       "         5.68375223e-02,  2.07411107e-01, -3.09977677e-01,\n",
       "        -4.87675750e-01,  6.98216921e-01,  3.32599864e-01,\n",
       "        -5.80311755e-02, -1.25340999e-01, -2.49915921e-03,\n",
       "         3.98518659e-02],\n",
       "       [-2.38657234e-03, -5.05121401e-03, -2.35249542e-01,\n",
       "        -8.90445717e-01,  3.38303166e-01, -3.57752884e-02,\n",
       "        -1.19056847e-01, -1.30202564e-01,  4.00164556e-02,\n",
       "         3.09164258e-02,  1.73347505e-02, -4.48879716e-02,\n",
       "         2.03908849e-03],\n",
       "       [-1.85519152e-04,  3.53071495e-04,  2.13842626e-02,\n",
       "         6.19455962e-02,  5.77345487e-02, -4.55119160e-04,\n",
       "         3.28068412e-02,  1.14145195e-02, -2.69853377e-02,\n",
       "         7.52898182e-02,  2.74234000e-02, -9.80264105e-01,\n",
       "         1.51982592e-01],\n",
       "       [-7.52190029e-04,  4.69256202e-03,  6.28081785e-02,\n",
       "         1.82595340e-01,  2.40077226e-01, -3.29216308e-01,\n",
       "         9.61232190e-02, -5.13346272e-01,  7.22407940e-01,\n",
       "         2.05545348e-02, -2.61735982e-02,  6.85069261e-04,\n",
       "        -3.04256446e-02],\n",
       "       [-9.99867216e-01,  1.47494368e-02, -5.35640368e-03,\n",
       "         3.18574626e-03, -2.35125027e-03,  1.66305605e-03,\n",
       "        -8.99714758e-04, -7.15109201e-05,  1.36448795e-04,\n",
       "        -1.26827398e-06,  1.59488128e-04,  1.05661254e-04,\n",
       "        -2.42407672e-05]])"
      ]
     },
     "execution_count": 152,
     "metadata": {},
     "output_type": "execute_result"
    }
   ],
   "source": [
    "eigen_vecs"
   ]
  },
  {
   "cell_type": "code",
   "execution_count": 187,
   "id": "4fd2f4ff",
   "metadata": {},
   "outputs": [
    {
     "name": "stdout",
     "output_type": "stream",
     "text": [
      "Matrix W:\n",
      " [[-1.62835773e-03 -9.92679525e-04]\n",
      " [ 7.39332227e-04 -3.72134412e-04]\n",
      " [-1.41595032e-04 -2.81288662e-03]\n",
      " [ 5.57549259e-03 -1.76663706e-02]\n",
      " [-1.48399207e-02 -9.99676549e-01]\n",
      " [-1.08561838e-03  5.27746246e-04]\n",
      " [-1.74941031e-03  2.25866304e-03]\n",
      " [ 1.45501403e-04  1.79046049e-03]\n",
      " [-6.83214469e-04 -7.20197408e-03]\n",
      " [-2.38657234e-03 -5.05121401e-03]\n",
      " [-1.85519152e-04  3.53071495e-04]\n",
      " [-7.52190029e-04  4.69256202e-03]\n",
      " [-9.99867216e-01  1.47494368e-02]]\n"
     ]
    },
    {
     "data": {
      "image/png": "[encoded data removed]",
      "text/plain": [
       "<Figure size 640x480 with 1 Axes>"
      ]
     },
     "metadata": {},
     "output_type": "display_data"
    }
   ],
   "source": [
    "eigen_pairs=[(np.abs(eigen_vals[i]),eigen_vecs[:,i])\n",
    "            for i in range (len(eigen_vals))]\n",
    "\n",
    "eigen_pairs.sort(key=lambda k :k[0],reverse=True)\n",
    "\n",
    "w=np.hstack((eigen_pairs[0][1][:,np.newaxis],\n",
    "             eigen_pairs[1][1][:,np.newaxis]))\n",
    "\n",
    "print('Matrix W:\\n',w)\n",
    "X_train_pca=X_train_std.dot(w)\n",
    "colors=['r', 'b', 'g']\n",
    "markers=['s', 'x', 'o']\n",
    "\n",
    "for l,c,m in zip(np.unique(y_train),colors,markers):\n",
    "    plt.scatter(X_train_pca[y_train==l,0],\n",
    "                X_train_pca[y_train==l,1],\n",
    "                c=c,label=l,marker=m)\n",
    " \n",
    "plt.xlabel('PC 1')\n",
    "plt.ylabel('PC 2')\n",
    "plt.legend(loc=\"lower left\")\n",
    "plt.tight_layout()\n",
    "plt.show()    \n",
    "    \n",
    "\n"
   ]
  },
  {
   "cell_type": "markdown",
   "id": "4af74339",
   "metadata": {},
   "source": [
    "# 特徵轉換\n",
    "由累積梯階圖，我們可以發現前 2 個就包含了 60% 的解釋力。<br>\n",
    "當我們決定使用 2 個特徵向量在作為我們的主成分軸後，接著便是要做特徵轉換：<br>\n",
    "\n",
    "* 選取 k 個 特徵值最大的相對應 特徵向量<br>\n",
    "* 建立投影矩陣 *W* = *d* x *K*<br>\n",
    "* 使用投影矩陣 W將輸入資料集*n* x *d*轉換成 *n* x *k* 。"
   ]
  },
  {
   "cell_type": "code",
   "execution_count": 153,
   "id": "a6516a3c",
   "metadata": {},
   "outputs": [
    {
     "name": "stdout",
     "output_type": "stream",
     "text": [
      "Matrix W:\n",
      " [[-1.62835773e-03 -9.92679525e-04]\n",
      " [ 7.39332227e-04 -3.72134412e-04]\n",
      " [-1.41595032e-04 -2.81288662e-03]\n",
      " [ 5.57549259e-03 -1.76663706e-02]\n",
      " [-1.48399207e-02 -9.99676549e-01]\n",
      " [-1.08561838e-03  5.27746246e-04]\n",
      " [-1.74941031e-03  2.25866304e-03]\n",
      " [ 1.45501403e-04  1.79046049e-03]\n",
      " [-6.83214469e-04 -7.20197408e-03]\n",
      " [-2.38657234e-03 -5.05121401e-03]\n",
      " [-1.85519152e-04  3.53071495e-04]\n",
      " [-7.52190029e-04  4.69256202e-03]\n",
      " [-9.99867216e-01  1.47494368e-02]]\n"
     ]
    },
    {
     "data": {
      "image/png": "[encoded data removed]",
      "text/plain": [
       "<Figure size 640x480 with 1 Axes>"
      ]
     },
     "metadata": {},
     "output_type": "display_data"
    }
   ],
   "source": [
    "# Make a list of (eigenvalue, eigenvector) tuples\n",
    "eigen_pairs = [(np.abs(eigen_vals[i]), eigen_vecs[:, i])\n",
    "               for i in range(len(eigen_vals))]\n",
    "\n",
    "# Sort the (eigenvalue, eigenvector) tuples from high to low\n",
    "eigen_pairs.sort(key=lambda k: k[0], reverse=True)\n",
    "\n",
    "# 計算投影矩陣 13x2\n",
    "w = np.hstack((eigen_pairs[0][1][:, np.newaxis],\n",
    "               eigen_pairs[1][1][:, np.newaxis]))\n",
    "print('Matrix W:\\n', w)\n",
    "\n",
    "# 資料集特徵轉換 並且圖示出來\n",
    "X_train_pca = X_train_std.dot(w)\n",
    "colors = ['r', 'b', 'g']\n",
    "markers = ['s', 'x', 'o']\n",
    "\n",
    "for l, c, m in zip(np.unique(y_train), colors, markers):\n",
    "    plt.scatter(X_train_pca[y_train ==l,0], \n",
    "\n",
    "                X_train_pca[y_train ==l,1], \n",
    "                c=c, label=l, marker=m)\n",
    "\n",
    "plt.xlabel('PC 1')\n",
    "plt.ylabel('PC 2')\n",
    "plt.legend(loc='lower left')\n",
    "plt.tight_layout()\n",
    "\n",
    "plt.show()"
   ]
  },
  {
   "cell_type": "code",
   "execution_count": 183,
   "id": "5037b2b0",
   "metadata": {},
   "outputs": [
    {
     "data": {
      "text/plain": [
       "array([[ 0.91083058, -0.46259897, -0.01142613, ...,  0.65706596,\n",
       "         1.94354495,  0.93700997],\n",
       "       [-0.95609928, -0.96608672, -1.53725357, ..., -0.40859506,\n",
       "         0.58118003, -1.41336684],\n",
       "       [ 0.35952243,  1.67501572, -0.37471838, ..., -1.55950896,\n",
       "        -1.44846566,  0.28683658],\n",
       "       ...,\n",
       "       [-0.70550467, -0.68342693, -0.62902295, ...,  0.44393375,\n",
       "         0.49776993, -1.30608823],\n",
       "       [ 1.14889546, -0.6215951 , -0.88332752, ..., -0.19546286,\n",
       "         1.0121322 ,  0.77446662],\n",
       "       [ 1.47466845,  0.11155374,  0.42452457, ..., -1.43162964,\n",
       "        -1.23994042, -0.28206514]])"
      ]
     },
     "execution_count": 183,
     "metadata": {},
     "output_type": "execute_result"
    }
   ],
   "source": [
    "X_train_std"
   ]
  },
  {
   "cell_type": "code",
   "execution_count": 184,
   "id": "a0a90003",
   "metadata": {},
   "outputs": [
    {
     "data": {
      "text/plain": [
       "array([[-0.94704715, -0.02271465],\n",
       "       [ 1.42280419,  0.54375052],\n",
       "       [-0.30561748, -1.37938641],\n",
       "       [-0.26303076, -0.13624259],\n",
       "       [ 1.1124143 ,  0.9225268 ],\n",
       "       [ 0.57775011, -0.42483597],\n",
       "       [ 0.87801506,  0.72853449],\n",
       "       [-1.74784096,  0.4632297 ],\n",
       "       [ 0.77716037,  1.0055992 ],\n",
       "       [ 0.33148303,  1.03659034],\n",
       "       [ 1.04695416,  1.04477305],\n",
       "       [ 1.24011894,  1.38693442],\n",
       "       [ 0.23190474, -0.4049403 ],\n",
       "       [ 0.38415402,  0.4344523 ],\n",
       "       [-1.43342141, -0.04977164],\n",
       "       [ 0.74438214,  0.88388869],\n",
       "       [-0.68221512, -4.23901554],\n",
       "       [ 0.37210225, -2.34217115],\n",
       "       [ 0.20980393, -0.1881701 ],\n",
       "       [-2.49693766, -0.29788242],\n",
       "       [ 0.22392889,  0.4102704 ],\n",
       "       [-0.80179986, -2.70038675],\n",
       "       [ 0.91615173,  0.94441947],\n",
       "       [ 0.42097953,  0.70706858],\n",
       "       [ 0.59468958, -0.49272636],\n",
       "       [ 1.21822219,  1.02557876],\n",
       "       [ 0.84017106,  0.96212181],\n",
       "       [ 0.16092795, -0.78957881],\n",
       "       [ 0.78104513,  0.27271259],\n",
       "       [-1.32159199,  0.59436197],\n",
       "       [ 0.08550674,  0.45798565],\n",
       "       [ 0.43765105,  2.05013829],\n",
       "       [ 1.27349553, -0.27418929],\n",
       "       [ 1.25441221, -0.17773614],\n",
       "       [ 1.21300707,  1.21041737],\n",
       "       [ 0.04075001, -3.47394227],\n",
       "       [-1.69109639, -0.5135863 ],\n",
       "       [-1.02977781, -0.19109724],\n",
       "       [ 0.9650083 ,  0.07996513],\n",
       "       [-1.32489296,  0.6712823 ],\n",
       "       [ 0.11165342,  0.75044514],\n",
       "       [-0.87088547,  0.37933727],\n",
       "       [ 0.75841201,  0.79577005],\n",
       "       [-0.14865972, -1.75356424],\n",
       "       [-1.85392452, -0.78014294],\n",
       "       [-0.05238217, -2.44277519],\n",
       "       [-1.47188158, -0.69814291],\n",
       "       [ 0.12238424,  0.235737  ],\n",
       "       [ 1.16205172,  0.97256233],\n",
       "       [-2.41398444, -0.84273723],\n",
       "       [-0.32207886, -1.37709595],\n",
       "       [ 0.86634316,  1.0784126 ],\n",
       "       [-1.77579862,  0.33000108],\n",
       "       [-0.02139225, -0.65045171],\n",
       "       [ 1.04023919,  0.22374006],\n",
       "       [ 0.74241312,  0.40986251],\n",
       "       [ 0.3601677 , -1.50073317],\n",
       "       [-1.86295061,  0.80260843],\n",
       "       [ 0.77415524,  0.23871835],\n",
       "       [ 1.03902301, -1.1543167 ],\n",
       "       [-2.62769955, -0.07193931],\n",
       "       [-1.07682725, -1.80899158],\n",
       "       [ 0.98841773,  0.94194709],\n",
       "       [ 0.2326313 ,  0.12266707],\n",
       "       [-1.04944811, -0.09829493],\n",
       "       [-1.73641359,  0.3885935 ],\n",
       "       [ 0.61354279,  0.90151099],\n",
       "       [ 1.01042797,  0.1341776 ],\n",
       "       [-0.56698574,  0.01245288],\n",
       "       [-1.71309244, -0.09396702],\n",
       "       [-0.92879164,  0.71580983],\n",
       "       [ 0.03200455,  0.33375386],\n",
       "       [ 0.22228804,  0.14131986],\n",
       "       [-1.00144565,  0.07545558],\n",
       "       [ 0.4019405 ,  0.28097128],\n",
       "       [ 0.65352224,  0.54392764],\n",
       "       [-1.14855411, -0.0206377 ],\n",
       "       [ 1.42239852,  0.67458127],\n",
       "       [ 0.62167716,  0.10676923],\n",
       "       [ 0.34815999, -0.21523932],\n",
       "       [-1.26812706, -1.0086215 ],\n",
       "       [-0.89314928,  0.18604613],\n",
       "       [ 0.48003935, -0.42614571],\n",
       "       [-2.06774274, -0.98118799],\n",
       "       [ 0.52024175, -0.08851982],\n",
       "       [ 1.33824279,  0.79071942],\n",
       "       [-1.14516926, -0.6578512 ],\n",
       "       [-0.56017985, -0.46197979],\n",
       "       [ 1.19918037,  1.08678119],\n",
       "       [-2.51163439, -0.37116306],\n",
       "       [ 0.63058053, -0.91895315],\n",
       "       [ 0.93895034,  0.4983468 ],\n",
       "       [-0.41427929,  0.17296276],\n",
       "       [-0.80125899, -0.2423105 ],\n",
       "       [ 0.75222923,  0.18493108],\n",
       "       [ 0.78560587, -1.62246661],\n",
       "       [ 0.41760246,  0.94314596],\n",
       "       [-0.94343751,  0.31420622],\n",
       "       [ 1.11751031,  0.81878009],\n",
       "       [ 0.41384291,  1.49399115],\n",
       "       [ 0.92774732, -0.08596983],\n",
       "       [ 1.12759325,  1.019107  ],\n",
       "       [ 0.32685378,  0.5266761 ],\n",
       "       [ 0.61771809,  0.22740896],\n",
       "       [ 0.91452273,  0.8706714 ],\n",
       "       [ 0.79579507, -0.8057138 ],\n",
       "       [-0.28858108, -1.66207313],\n",
       "       [ 0.11912731,  0.97289965],\n",
       "       [ 0.2142864 ,  0.81271138],\n",
       "       [ 0.37649398, -0.86493243],\n",
       "       [-0.08784985, -1.88184256],\n",
       "       [-1.77203994, -0.5088507 ],\n",
       "       [ 0.48971878,  0.26955506],\n",
       "       [ 0.24264676,  1.09861755],\n",
       "       [-0.39433152, -0.19735045],\n",
       "       [ 0.62821001,  0.79847881],\n",
       "       [-0.45229643, -0.65041613],\n",
       "       [-0.0801573 , -0.12625728],\n",
       "       [-0.98236871,  0.1748841 ],\n",
       "       [ 1.09841127,  0.96260608],\n",
       "       [ 0.79288514,  1.51856117],\n",
       "       [ 1.3060238 , -0.56440592],\n",
       "       [-0.78972398, -0.03418737],\n",
       "       [ 0.28988565,  0.59878038]])"
      ]
     },
     "execution_count": 184,
     "metadata": {},
     "output_type": "execute_result"
    }
   ],
   "source": [
    "X_train_pca"
   ]
  },
  {
   "cell_type": "code",
   "execution_count": 160,
   "id": "0d324352",
   "metadata": {},
   "outputs": [
    {
     "data": {
      "text/plain": [
       "array([-9.92679525e-04, -3.72134412e-04, -2.81288662e-03, -1.76663706e-02,\n",
       "       -9.99676549e-01,  5.27746246e-04,  2.25866304e-03,  1.79046049e-03,\n",
       "       -7.20197408e-03, -5.05121401e-03,  3.53071495e-04,  4.69256202e-03,\n",
       "        1.47494368e-02])"
      ]
     },
     "execution_count": 160,
     "metadata": {},
     "output_type": "execute_result"
    }
   ],
   "source": [
    "eigen_vecs[:,1]"
   ]
  },
  {
   "cell_type": "code",
   "execution_count": 172,
   "id": "f349c9f6",
   "metadata": {},
   "outputs": [
    {
     "data": {
      "text/plain": [
       "[(95418.66353263558,\n",
       "  array([-1.62835773e-03,  7.39332227e-04, -1.41595032e-04,  5.57549259e-03,\n",
       "         -1.48399207e-02, -1.08561838e-03, -1.74941031e-03,  1.45501403e-04,\n",
       "         -6.83214469e-04, -2.38657234e-03, -1.85519152e-04, -7.52190029e-04,\n",
       "         -9.99867216e-01])),\n",
       " (194.00306695352842,\n",
       "  array([-9.92679525e-04, -3.72134412e-04, -2.81288662e-03, -1.76663706e-02,\n",
       "         -9.99676549e-01,  5.27746246e-04,  2.25866304e-03,  1.79046049e-03,\n",
       "         -7.20197408e-03, -5.05121401e-03,  3.53071495e-04,  4.69256202e-03,\n",
       "          1.47494368e-02])),\n",
       " (10.251961028258094,\n",
       "  array([-0.0131392 , -0.12176063, -0.05155839, -0.95568862,  0.01845656,\n",
       "          0.0343614 ,  0.08097782, -0.01298868,  0.03133778, -0.23524954,\n",
       "          0.02138426,  0.06280818, -0.0053564 ])),\n",
       " (5.4057017043197035,\n",
       "  array([-1.39506125e-01, -1.90950295e-01,  1.66430637e-03,  2.77615049e-01,\n",
       "          7.09990363e-04,  7.39684309e-02,  1.67523858e-01, -1.24306919e-02,\n",
       "          5.68375223e-02, -8.90445717e-01,  6.19455962e-02,  1.82595340e-01,\n",
       "          3.18574626e-03])),\n",
       " (1.0384105503882093,\n",
       "  array([ 0.06139526, -0.72087024,  0.02237469,  0.07658148, -0.00223773,\n",
       "          0.24564563,  0.43648843, -0.02996928,  0.20741111,  0.33830317,\n",
       "          0.05773455,  0.24007723, -0.00235125])),\n",
       " (0.8500806064255662,\n",
       "  array([-1.93397246e-01, -6.39949564e-01, -5.22254653e-02,  1.06468968e-02,\n",
       "          3.75116010e-05, -3.23139735e-01, -4.89616031e-01,  1.80464827e-02,\n",
       "         -3.09977677e-01, -3.57752884e-02, -4.55119160e-04, -3.29216308e-01,\n",
       "          1.66305605e-03])),\n",
       " (0.30083078190176293,\n",
       "  array([ 0.8512111 , -0.07872997,  0.08043618,  0.01520859,  0.00325318,\n",
       "          0.01211714,  0.00293975, -0.00741482, -0.48767575, -0.11905685,\n",
       "          0.03280684,  0.09612322, -0.00089971])),\n",
       " (0.13525994156955815,\n",
       "  array([ 4.42865413e-01, -7.77908724e-02, -9.29441580e-02,  1.95118090e-02,\n",
       "         -7.43384516e-03, -1.21807200e-01, -6.86858208e-02,  3.27904207e-02,\n",
       "          6.98216921e-01, -1.30202564e-01,  1.14145195e-02, -5.13346272e-01,\n",
       "         -7.15109201e-05])),\n",
       " (0.10012125582727247,\n",
       "  array([ 1.30636993e-01, -3.75926724e-02, -1.32385636e-01,  5.93376248e-03,\n",
       "         -3.11699755e-04, -3.08654389e-01, -4.83582768e-01,  3.77255507e-03,\n",
       "          3.32599864e-01,  4.00164556e-02, -2.69853377e-02,  7.22407940e-01,\n",
       "          1.36448795e-04])),\n",
       " (0.060491464783579287,\n",
       "  array([-1.81840291e-02,  4.39948813e-02, -2.88726826e-02,  5.27566896e-03,\n",
       "          9.35933222e-04, -8.38397794e-01,  5.23131058e-01, -9.93981805e-02,\n",
       "         -5.80311755e-02,  3.09164258e-02,  7.52898182e-02,  2.05545348e-02,\n",
       "         -1.26827398e-06])),\n",
       " (0.0401235682295517,\n",
       "  array([ 2.30781465e-02,  3.06054403e-02, -9.70230486e-01,  5.07947705e-02,\n",
       "          2.47548390e-03,  1.08888168e-01,  7.40867539e-02, -1.40726002e-01,\n",
       "         -1.25340999e-01,  1.73347505e-02,  2.74234000e-02, -2.61735982e-02,\n",
       "          1.59488128e-04])),\n",
       " (0.023234816711327863,\n",
       "  array([ 2.38848231e-02, -5.32365761e-02, -2.25529230e-03,  3.45412780e-03,\n",
       "         -2.90871274e-04, -2.54445770e-02,  7.64977257e-02, -1.64740947e-01,\n",
       "         -2.49915921e-03, -4.48879716e-02, -9.80264105e-01,  6.85069261e-04,\n",
       "          1.05661254e-04])),\n",
       " (0.007264168839303444,\n",
       "  array([-1.02444904e-04,  1.23647328e-02,  1.38861215e-01, -8.90656974e-04,\n",
       "         -2.71749613e-03,  5.40293774e-02, -1.07418125e-01, -9.69784462e-01,\n",
       "          3.98518659e-02,  2.03908849e-03,  1.51982592e-01, -3.04256446e-02,\n",
       "         -2.42407672e-05]))]"
      ]
     },
     "execution_count": 172,
     "metadata": {},
     "output_type": "execute_result"
    }
   ],
   "source": [
    "eigen_pairs"
   ]
  },
  {
   "cell_type": "code",
   "execution_count": 167,
   "id": "86a986bb",
   "metadata": {},
   "outputs": [],
   "source": [
    "import numpy as np\n",
    "\n",
    "A = np.array([[1, 2],\n",
    "              [3, 4]])\n",
    "\n",
    "B = np.array([[5, 6],\n",
    "              [7, 8]])\n",
    "\n",
    "C = np.hstack((A, B))\n"
   ]
  },
  {
   "cell_type": "code",
   "execution_count": 170,
   "id": "8dd0a4a4",
   "metadata": {},
   "outputs": [
    {
     "name": "stdout",
     "output_type": "stream",
     "text": [
      "[[1 2 5 6]\n",
      " [3 4 7 8]]\n"
     ]
    }
   ],
   "source": [
    "A=np.array([[1,2],\n",
    "           [3,4]])\n",
    "\n",
    "B=np.array([[5,6],\n",
    "            [7,8]])\n",
    "C=np.hstack((A,B))\n",
    "print(C)"
   ]
  },
  {
   "cell_type": "code",
   "execution_count": 161,
   "id": "51044f9f",
   "metadata": {},
   "outputs": [
    {
     "data": {
      "text/plain": [
       "array([9.54186635e+04, 1.94003067e+02, 1.02519610e+01, 5.40570170e+00,\n",
       "       1.03841055e+00, 8.50080606e-01, 3.00830782e-01, 1.35259942e-01,\n",
       "       1.00121256e-01, 6.04914648e-02, 4.01235682e-02, 2.32348167e-02,\n",
       "       7.26416884e-03])"
      ]
     },
     "execution_count": 161,
     "metadata": {},
     "output_type": "execute_result"
    }
   ],
   "source": [
    "eigen_vals"
   ]
  },
  {
   "cell_type": "code",
   "execution_count": 171,
   "id": "a01e733b",
   "metadata": {},
   "outputs": [
    {
     "data": {
      "text/plain": [
       "array([9.54186635e+04, 1.94003067e+02, 1.02519610e+01, 5.40570170e+00,\n",
       "       1.03841055e+00, 8.50080606e-01, 3.00830782e-01, 1.35259942e-01,\n",
       "       1.00121256e-01, 6.04914648e-02, 4.01235682e-02, 2.32348167e-02,\n",
       "       7.26416884e-03])"
      ]
     },
     "execution_count": 171,
     "metadata": {},
     "output_type": "execute_result"
    }
   ],
   "source": [
    "eigen_vals"
   ]
  },
  {
   "cell_type": "code",
   "execution_count": 166,
   "id": "ff534241",
   "metadata": {},
   "outputs": [
    {
     "data": {
      "text/plain": [
       "(10.251961028258094,\n",
       " array([-0.0131392 , -0.12176063, -0.05155839, -0.95568862,  0.01845656,\n",
       "         0.0343614 ,  0.08097782, -0.01298868,  0.03133778, -0.23524954,\n",
       "         0.02138426,  0.06280818, -0.0053564 ]))"
      ]
     },
     "execution_count": 166,
     "metadata": {},
     "output_type": "execute_result"
    }
   ],
   "source": [
    "eigen_pairs[2]"
   ]
  },
  {
   "cell_type": "code",
   "execution_count": 155,
   "id": "b6dcf14c",
   "metadata": {},
   "outputs": [],
   "source": [
    "eigen_pairs.sort(key=lambda k: k[0], reverse=True)"
   ]
  },
  {
   "cell_type": "code",
   "execution_count": 142,
   "id": "97ca7d1d",
   "metadata": {},
   "outputs": [
    {
     "data": {
      "text/plain": [
       "array([-1.62835773e-03,  7.39332227e-04, -1.41595032e-04,  5.57549259e-03,\n",
       "       -1.48399207e-02, -1.08561838e-03, -1.74941031e-03,  1.45501403e-04,\n",
       "       -6.83214469e-04, -2.38657234e-03, -1.85519152e-04, -7.52190029e-04,\n",
       "       -9.99867216e-01])"
      ]
     },
     "execution_count": 142,
     "metadata": {},
     "output_type": "execute_result"
    }
   ],
   "source": [
    "eigen_pairs[0][1]"
   ]
  },
  {
   "cell_type": "code",
   "execution_count": 108,
   "id": "33c6838c",
   "metadata": {},
   "outputs": [
    {
     "data": {
      "text/plain": [
       "array([[-0.94704715, -0.02271465],\n",
       "       [ 1.42280419,  0.54375052],\n",
       "       [-0.30561748, -1.37938641],\n",
       "       [-0.26303076, -0.13624259],\n",
       "       [ 1.1124143 ,  0.9225268 ],\n",
       "       [ 0.57775011, -0.42483597],\n",
       "       [ 0.87801506,  0.72853449],\n",
       "       [-1.74784096,  0.4632297 ],\n",
       "       [ 0.77716037,  1.0055992 ],\n",
       "       [ 0.33148303,  1.03659034],\n",
       "       [ 1.04695416,  1.04477305],\n",
       "       [ 1.24011894,  1.38693442],\n",
       "       [ 0.23190474, -0.4049403 ],\n",
       "       [ 0.38415402,  0.4344523 ],\n",
       "       [-1.43342141, -0.04977164],\n",
       "       [ 0.74438214,  0.88388869],\n",
       "       [-0.68221512, -4.23901554],\n",
       "       [ 0.37210225, -2.34217115],\n",
       "       [ 0.20980393, -0.1881701 ],\n",
       "       [-2.49693766, -0.29788242],\n",
       "       [ 0.22392889,  0.4102704 ],\n",
       "       [-0.80179986, -2.70038675],\n",
       "       [ 0.91615173,  0.94441947],\n",
       "       [ 0.42097953,  0.70706858],\n",
       "       [ 0.59468958, -0.49272636],\n",
       "       [ 1.21822219,  1.02557876],\n",
       "       [ 0.84017106,  0.96212181],\n",
       "       [ 0.16092795, -0.78957881],\n",
       "       [ 0.78104513,  0.27271259],\n",
       "       [-1.32159199,  0.59436197],\n",
       "       [ 0.08550674,  0.45798565],\n",
       "       [ 0.43765105,  2.05013829],\n",
       "       [ 1.27349553, -0.27418929],\n",
       "       [ 1.25441221, -0.17773614],\n",
       "       [ 1.21300707,  1.21041737],\n",
       "       [ 0.04075001, -3.47394227],\n",
       "       [-1.69109639, -0.5135863 ],\n",
       "       [-1.02977781, -0.19109724],\n",
       "       [ 0.9650083 ,  0.07996513],\n",
       "       [-1.32489296,  0.6712823 ],\n",
       "       [ 0.11165342,  0.75044514],\n",
       "       [-0.87088547,  0.37933727],\n",
       "       [ 0.75841201,  0.79577005],\n",
       "       [-0.14865972, -1.75356424],\n",
       "       [-1.85392452, -0.78014294],\n",
       "       [-0.05238217, -2.44277519],\n",
       "       [-1.47188158, -0.69814291],\n",
       "       [ 0.12238424,  0.235737  ],\n",
       "       [ 1.16205172,  0.97256233],\n",
       "       [-2.41398444, -0.84273723],\n",
       "       [-0.32207886, -1.37709595],\n",
       "       [ 0.86634316,  1.0784126 ],\n",
       "       [-1.77579862,  0.33000108],\n",
       "       [-0.02139225, -0.65045171],\n",
       "       [ 1.04023919,  0.22374006],\n",
       "       [ 0.74241312,  0.40986251],\n",
       "       [ 0.3601677 , -1.50073317],\n",
       "       [-1.86295061,  0.80260843],\n",
       "       [ 0.77415524,  0.23871835],\n",
       "       [ 1.03902301, -1.1543167 ],\n",
       "       [-2.62769955, -0.07193931],\n",
       "       [-1.07682725, -1.80899158],\n",
       "       [ 0.98841773,  0.94194709],\n",
       "       [ 0.2326313 ,  0.12266707],\n",
       "       [-1.04944811, -0.09829493],\n",
       "       [-1.73641359,  0.3885935 ],\n",
       "       [ 0.61354279,  0.90151099],\n",
       "       [ 1.01042797,  0.1341776 ],\n",
       "       [-0.56698574,  0.01245288],\n",
       "       [-1.71309244, -0.09396702],\n",
       "       [-0.92879164,  0.71580983],\n",
       "       [ 0.03200455,  0.33375386],\n",
       "       [ 0.22228804,  0.14131986],\n",
       "       [-1.00144565,  0.07545558],\n",
       "       [ 0.4019405 ,  0.28097128],\n",
       "       [ 0.65352224,  0.54392764],\n",
       "       [-1.14855411, -0.0206377 ],\n",
       "       [ 1.42239852,  0.67458127],\n",
       "       [ 0.62167716,  0.10676923],\n",
       "       [ 0.34815999, -0.21523932],\n",
       "       [-1.26812706, -1.0086215 ],\n",
       "       [-0.89314928,  0.18604613],\n",
       "       [ 0.48003935, -0.42614571],\n",
       "       [-2.06774274, -0.98118799],\n",
       "       [ 0.52024175, -0.08851982],\n",
       "       [ 1.33824279,  0.79071942],\n",
       "       [-1.14516926, -0.6578512 ],\n",
       "       [-0.56017985, -0.46197979],\n",
       "       [ 1.19918037,  1.08678119],\n",
       "       [-2.51163439, -0.37116306],\n",
       "       [ 0.63058053, -0.91895315],\n",
       "       [ 0.93895034,  0.4983468 ],\n",
       "       [-0.41427929,  0.17296276],\n",
       "       [-0.80125899, -0.2423105 ],\n",
       "       [ 0.75222923,  0.18493108],\n",
       "       [ 0.78560587, -1.62246661],\n",
       "       [ 0.41760246,  0.94314596],\n",
       "       [-0.94343751,  0.31420622],\n",
       "       [ 1.11751031,  0.81878009],\n",
       "       [ 0.41384291,  1.49399115],\n",
       "       [ 0.92774732, -0.08596983],\n",
       "       [ 1.12759325,  1.019107  ],\n",
       "       [ 0.32685378,  0.5266761 ],\n",
       "       [ 0.61771809,  0.22740896],\n",
       "       [ 0.91452273,  0.8706714 ],\n",
       "       [ 0.79579507, -0.8057138 ],\n",
       "       [-0.28858108, -1.66207313],\n",
       "       [ 0.11912731,  0.97289965],\n",
       "       [ 0.2142864 ,  0.81271138],\n",
       "       [ 0.37649398, -0.86493243],\n",
       "       [-0.08784985, -1.88184256],\n",
       "       [-1.77203994, -0.5088507 ],\n",
       "       [ 0.48971878,  0.26955506],\n",
       "       [ 0.24264676,  1.09861755],\n",
       "       [-0.39433152, -0.19735045],\n",
       "       [ 0.62821001,  0.79847881],\n",
       "       [-0.45229643, -0.65041613],\n",
       "       [-0.0801573 , -0.12625728],\n",
       "       [-0.98236871,  0.1748841 ],\n",
       "       [ 1.09841127,  0.96260608],\n",
       "       [ 0.79288514,  1.51856117],\n",
       "       [ 1.3060238 , -0.56440592],\n",
       "       [-0.78972398, -0.03418737],\n",
       "       [ 0.28988565,  0.59878038]])"
      ]
     },
     "execution_count": 108,
     "metadata": {},
     "output_type": "execute_result"
    }
   ],
   "source": [
    "X_train_pca"
   ]
  },
  {
   "cell_type": "code",
   "execution_count": null,
   "id": "66532c3a",
   "metadata": {},
   "outputs": [],
   "source": []
  },
  {
   "cell_type": "code",
   "execution_count": 139,
   "id": "6811798a",
   "metadata": {},
   "outputs": [
    {
     "data": {
      "text/plain": [
       "array([-1.62835773e-03,  7.39332227e-04, -1.41595032e-04,  5.57549259e-03,\n",
       "       -1.48399207e-02, -1.08561838e-03, -1.74941031e-03,  1.45501403e-04,\n",
       "       -6.83214469e-04, -2.38657234e-03, -1.85519152e-04, -7.52190029e-04,\n",
       "       -9.99867216e-01])"
      ]
     },
     "execution_count": 139,
     "metadata": {},
     "output_type": "execute_result"
    }
   ],
   "source": [
    "eigen_pairs[0][1]"
   ]
  },
  {
   "cell_type": "code",
   "execution_count": 138,
   "id": "e843e712",
   "metadata": {},
   "outputs": [
    {
     "data": {
      "text/plain": [
       "array([-0.30561748, -0.26303076,  0.57775011,  0.87801506,  0.33148303,\n",
       "        0.23190474,  0.91615173,  0.42097953,  0.16092795,  0.78104513,\n",
       "        0.08550674,  0.11165342,  0.75841201, -0.32207886,  0.3601677 ,\n",
       "        0.77415524,  1.03902301,  0.2326313 ,  0.03200455,  0.65352224,\n",
       "        0.62167716,  0.34815999,  0.48003935,  0.52024175,  0.63058053,\n",
       "       -0.41427929,  0.75222923,  0.78560587,  0.41760246,  0.32685378,\n",
       "        0.61771809,  0.2142864 ,  0.37649398,  0.48971878,  0.28988565])"
      ]
     },
     "execution_count": 138,
     "metadata": {},
     "output_type": "execute_result"
    }
   ],
   "source": [
    "X_train_pca[y_train ==l,0]"
   ]
  },
  {
   "cell_type": "code",
   "execution_count": 133,
   "id": "5cad3db5",
   "metadata": {},
   "outputs": [
    {
     "ename": "TypeError",
     "evalue": "scatter() missing 1 required positional argument: 'y'",
     "output_type": "error",
     "traceback": [
      "\u001b[0;31m---------------------------------------------------------------------------\u001b[0m",
      "\u001b[0;31mTypeError\u001b[0m                                 Traceback (most recent call last)",
      "Cell \u001b[0;32mIn[133], line 1\u001b[0m\n\u001b[0;32m----> 1\u001b[0m plt\u001b[39m.\u001b[39;49mscatter(X_train_pca[y_train \u001b[39m==\u001b[39;49ml,\u001b[39m0\u001b[39;49m])\n",
      "\u001b[0;31mTypeError\u001b[0m: scatter() missing 1 required positional argument: 'y'"
     ]
    }
   ],
   "source": [
    "plt.scatter(X_train_pca[y_train ==l,0])"
   ]
  },
  {
   "cell_type": "code",
   "execution_count": 124,
   "id": "c6ed59ba",
   "metadata": {},
   "outputs": [
    {
     "data": {
      "text/plain": [
       "array([1, 2, 3])"
      ]
     },
     "execution_count": 124,
     "metadata": {},
     "output_type": "execute_result"
    }
   ],
   "source": [
    "np.unique(y_train)"
   ]
  },
  {
   "cell_type": "code",
   "execution_count": 123,
   "id": "45a82df1",
   "metadata": {},
   "outputs": [
    {
     "data": {
      "text/plain": [
       "1"
      ]
     },
     "execution_count": 123,
     "metadata": {},
     "output_type": "execute_result"
    }
   ],
   "source": [
    "l"
   ]
  },
  {
   "cell_type": "code",
   "execution_count": 122,
   "id": "d499fcea",
   "metadata": {},
   "outputs": [
    {
     "data": {
      "text/plain": [
       "array([1, 2, 3])"
      ]
     },
     "execution_count": 122,
     "metadata": {},
     "output_type": "execute_result"
    }
   ],
   "source": [
    "np.unique(y_train)"
   ]
  },
  {
   "cell_type": "code",
   "execution_count": 121,
   "id": "81a278bf",
   "metadata": {},
   "outputs": [
    {
     "data": {
      "text/plain": [
       "array([ True, False, False, False, False, False, False,  True, False,\n",
       "       False, False, False, False, False,  True, False, False, False,\n",
       "        True,  True, False, False, False, False, False, False, False,\n",
       "       False, False,  True, False, False, False, False, False, False,\n",
       "        True,  True, False,  True, False,  True, False,  True,  True,\n",
       "       False,  True, False, False,  True, False, False,  True, False,\n",
       "       False, False, False,  True, False, False,  True,  True, False,\n",
       "       False,  True,  True, False, False,  True,  True,  True, False,\n",
       "       False,  True, False, False,  True, False, False, False,  True,\n",
       "        True, False,  True, False, False,  True,  True, False,  True,\n",
       "       False, False, False,  True, False, False, False,  True, False,\n",
       "       False, False, False, False, False, False, False,  True, False,\n",
       "       False, False,  True,  True, False, False, False, False,  True,\n",
       "        True,  True, False, False, False,  True, False])"
      ]
     },
     "execution_count": 121,
     "metadata": {},
     "output_type": "execute_result"
    }
   ],
   "source": [
    "y_train ==l"
   ]
  },
  {
   "cell_type": "code",
   "execution_count": 119,
   "id": "ed750bef",
   "metadata": {},
   "outputs": [
    {
     "data": {
      "text/plain": [
       "array([1, 2, 3, 3, 2, 3, 3, 1, 2, 3, 2, 2, 3, 2, 1, 2, 2, 2, 1, 1, 2, 2,\n",
       "       3, 3, 2, 2, 2, 3, 3, 1, 3, 2, 2, 2, 2, 2, 1, 1, 2, 1, 3, 1, 3, 1,\n",
       "       1, 2, 1, 2, 2, 1, 3, 2, 1, 2, 2, 2, 3, 1, 3, 3, 1, 1, 2, 3, 1, 1,\n",
       "       2, 2, 1, 1, 1, 3, 2, 1, 2, 3, 1, 2, 3, 3, 1, 1, 3, 1, 3, 2, 1, 1,\n",
       "       2, 1, 3, 2, 3, 1, 3, 3, 3, 1, 2, 2, 2, 2, 3, 3, 2, 2, 1, 2, 3, 3,\n",
       "       1, 1, 3, 2, 2, 2, 1, 1, 1, 2, 2, 2, 1, 3])"
      ]
     },
     "execution_count": 119,
     "metadata": {},
     "output_type": "execute_result"
    }
   ],
   "source": [
    "y_train "
   ]
  },
  {
   "cell_type": "code",
   "execution_count": 104,
   "id": "56b174ed",
   "metadata": {},
   "outputs": [
    {
     "data": {
      "text/plain": [
       "array([1, 2, 3, 3, 2, 3, 3, 1, 2, 3, 2, 2, 3, 2, 1, 2, 2, 2, 1, 1, 2, 2,\n",
       "       3, 3, 2, 2, 2, 3, 3, 1, 3, 2, 2, 2, 2, 2, 1, 1, 2, 1, 3, 1, 3, 1,\n",
       "       1, 2, 1, 2, 2, 1, 3, 2, 1, 2, 2, 2, 3, 1, 3, 3, 1, 1, 2, 3, 1, 1,\n",
       "       2, 2, 1, 1, 1, 3, 2, 1, 2, 3, 1, 2, 3, 3, 1, 1, 3, 1, 3, 2, 1, 1,\n",
       "       2, 1, 3, 2, 3, 1, 3, 3, 3, 1, 2, 2, 2, 2, 3, 3, 2, 2, 1, 2, 3, 3,\n",
       "       1, 1, 3, 2, 2, 2, 1, 1, 1, 2, 2, 2, 1, 3])"
      ]
     },
     "execution_count": 104,
     "metadata": {},
     "output_type": "execute_result"
    }
   ],
   "source": [
    "y_train"
   ]
  },
  {
   "cell_type": "code",
   "execution_count": 110,
   "id": "c5e831f1",
   "metadata": {},
   "outputs": [
    {
     "data": {
      "text/plain": [
       "array([1, 2, 3])"
      ]
     },
     "execution_count": 110,
     "metadata": {},
     "output_type": "execute_result"
    }
   ],
   "source": [
    "np.unique(y_train)"
   ]
  },
  {
   "cell_type": "code",
   "execution_count": 116,
   "metadata": {},
   "outputs": [
    {
     "data": {
      "text/plain": [
       "array([[-0.94704715, -0.02271465],\n",
       "       [ 1.42280419,  0.54375052],\n",
       "       [-0.30561748, -1.37938641],\n",
       "       [-0.26303076, -0.13624259],\n",
       "       [ 1.1124143 ,  0.9225268 ],\n",
       "       [ 0.57775011, -0.42483597],\n",
       "       [ 0.87801506,  0.72853449],\n",
       "       [-1.74784096,  0.4632297 ],\n",
       "       [ 0.77716037,  1.0055992 ],\n",
       "       [ 0.33148303,  1.03659034],\n",
       "       [ 1.04695416,  1.04477305],\n",
       "       [ 1.24011894,  1.38693442],\n",
       "       [ 0.23190474, -0.4049403 ],\n",
       "       [ 0.38415402,  0.4344523 ],\n",
       "       [-1.43342141, -0.04977164],\n",
       "       [ 0.74438214,  0.88388869],\n",
       "       [-0.68221512, -4.23901554],\n",
       "       [ 0.37210225, -2.34217115],\n",
       "       [ 0.20980393, -0.1881701 ],\n",
       "       [-2.49693766, -0.29788242],\n",
       "       [ 0.22392889,  0.4102704 ],\n",
       "       [-0.80179986, -2.70038675],\n",
       "       [ 0.91615173,  0.94441947],\n",
       "       [ 0.42097953,  0.70706858],\n",
       "       [ 0.59468958, -0.49272636],\n",
       "       [ 1.21822219,  1.02557876],\n",
       "       [ 0.84017106,  0.96212181],\n",
       "       [ 0.16092795, -0.78957881],\n",
       "       [ 0.78104513,  0.27271259],\n",
       "       [-1.32159199,  0.59436197],\n",
       "       [ 0.08550674,  0.45798565],\n",
       "       [ 0.43765105,  2.05013829],\n",
       "       [ 1.27349553, -0.27418929],\n",
       "       [ 1.25441221, -0.17773614],\n",
       "       [ 1.21300707,  1.21041737],\n",
       "       [ 0.04075001, -3.47394227],\n",
       "       [-1.69109639, -0.5135863 ],\n",
       "       [-1.02977781, -0.19109724],\n",
       "       [ 0.9650083 ,  0.07996513],\n",
       "       [-1.32489296,  0.6712823 ],\n",
       "       [ 0.11165342,  0.75044514],\n",
       "       [-0.87088547,  0.37933727],\n",
       "       [ 0.75841201,  0.79577005],\n",
       "       [-0.14865972, -1.75356424],\n",
       "       [-1.85392452, -0.78014294],\n",
       "       [-0.05238217, -2.44277519],\n",
       "       [-1.47188158, -0.69814291],\n",
       "       [ 0.12238424,  0.235737  ],\n",
       "       [ 1.16205172,  0.97256233],\n",
       "       [-2.41398444, -0.84273723],\n",
       "       [-0.32207886, -1.37709595],\n",
       "       [ 0.86634316,  1.0784126 ],\n",
       "       [-1.77579862,  0.33000108],\n",
       "       [-0.02139225, -0.65045171],\n",
       "       [ 1.04023919,  0.22374006],\n",
       "       [ 0.74241312,  0.40986251],\n",
       "       [ 0.3601677 , -1.50073317],\n",
       "       [-1.86295061,  0.80260843],\n",
       "       [ 0.77415524,  0.23871835],\n",
       "       [ 1.03902301, -1.1543167 ],\n",
       "       [-2.62769955, -0.07193931],\n",
       "       [-1.07682725, -1.80899158],\n",
       "       [ 0.98841773,  0.94194709],\n",
       "       [ 0.2326313 ,  0.12266707],\n",
       "       [-1.04944811, -0.09829493],\n",
       "       [-1.73641359,  0.3885935 ],\n",
       "       [ 0.61354279,  0.90151099],\n",
       "       [ 1.01042797,  0.1341776 ],\n",
       "       [-0.56698574,  0.01245288],\n",
       "       [-1.71309244, -0.09396702],\n",
       "       [-0.92879164,  0.71580983],\n",
       "       [ 0.03200455,  0.33375386],\n",
       "       [ 0.22228804,  0.14131986],\n",
       "       [-1.00144565,  0.07545558],\n",
       "       [ 0.4019405 ,  0.28097128],\n",
       "       [ 0.65352224,  0.54392764],\n",
       "       [-1.14855411, -0.0206377 ],\n",
       "       [ 1.42239852,  0.67458127],\n",
       "       [ 0.62167716,  0.10676923],\n",
       "       [ 0.34815999, -0.21523932],\n",
       "       [-1.26812706, -1.0086215 ],\n",
       "       [-0.89314928,  0.18604613],\n",
       "       [ 0.48003935, -0.42614571],\n",
       "       [-2.06774274, -0.98118799],\n",
       "       [ 0.52024175, -0.08851982],\n",
       "       [ 1.33824279,  0.79071942],\n",
       "       [-1.14516926, -0.6578512 ],\n",
       "       [-0.56017985, -0.46197979],\n",
       "       [ 1.19918037,  1.08678119],\n",
       "       [-2.51163439, -0.37116306],\n",
       "       [ 0.63058053, -0.91895315],\n",
       "       [ 0.93895034,  0.4983468 ],\n",
       "       [-0.41427929,  0.17296276],\n",
       "       [-0.80125899, -0.2423105 ],\n",
       "       [ 0.75222923,  0.18493108],\n",
       "       [ 0.78560587, -1.62246661],\n",
       "       [ 0.41760246,  0.94314596],\n",
       "       [-0.94343751,  0.31420622],\n",
       "       [ 1.11751031,  0.81878009],\n",
       "       [ 0.41384291,  1.49399115],\n",
       "       [ 0.92774732, -0.08596983],\n",
       "       [ 1.12759325,  1.019107  ],\n",
       "       [ 0.32685378,  0.5266761 ],\n",
       "       [ 0.61771809,  0.22740896],\n",
       "       [ 0.91452273,  0.8706714 ],\n",
       "       [ 0.79579507, -0.8057138 ],\n",
       "       [-0.28858108, -1.66207313],\n",
       "       [ 0.11912731,  0.97289965],\n",
       "       [ 0.2142864 ,  0.81271138],\n",
       "       [ 0.37649398, -0.86493243],\n",
       "       [-0.08784985, -1.88184256],\n",
       "       [-1.77203994, -0.5088507 ],\n",
       "       [ 0.48971878,  0.26955506],\n",
       "       [ 0.24264676,  1.09861755],\n",
       "       [-0.39433152, -0.19735045],\n",
       "       [ 0.62821001,  0.79847881],\n",
       "       [-0.45229643, -0.65041613],\n",
       "       [-0.0801573 , -0.12625728],\n",
       "       [-0.98236871,  0.1748841 ],\n",
       "       [ 1.09841127,  0.96260608],\n",
       "       [ 0.79288514,  1.51856117],\n",
       "       [ 1.3060238 , -0.56440592],\n",
       "       [-0.78972398, -0.03418737],\n",
       "       [ 0.28988565,  0.59878038]])"
      ]
     },
     "execution_count": 116,
     "metadata": {},
     "output_type": "execute_result"
    }
   ],
   "source": []
  },
  {
   "cell_type": "code",
   "execution_count": 115,
   "id": "c846832c",
   "metadata": {},
   "outputs": [
    {
     "data": {
      "text/plain": [
       "array([[-0.30561748, -1.37938641],\n",
       "       [-0.26303076, -0.13624259],\n",
       "       [ 0.57775011, -0.42483597],\n",
       "       [ 0.87801506,  0.72853449],\n",
       "       [ 0.33148303,  1.03659034],\n",
       "       [ 0.23190474, -0.4049403 ],\n",
       "       [ 0.91615173,  0.94441947],\n",
       "       [ 0.42097953,  0.70706858],\n",
       "       [ 0.16092795, -0.78957881],\n",
       "       [ 0.78104513,  0.27271259],\n",
       "       [ 0.08550674,  0.45798565],\n",
       "       [ 0.11165342,  0.75044514],\n",
       "       [ 0.75841201,  0.79577005],\n",
       "       [-0.32207886, -1.37709595],\n",
       "       [ 0.3601677 , -1.50073317],\n",
       "       [ 0.77415524,  0.23871835],\n",
       "       [ 1.03902301, -1.1543167 ],\n",
       "       [ 0.2326313 ,  0.12266707],\n",
       "       [ 0.03200455,  0.33375386],\n",
       "       [ 0.65352224,  0.54392764],\n",
       "       [ 0.62167716,  0.10676923],\n",
       "       [ 0.34815999, -0.21523932],\n",
       "       [ 0.48003935, -0.42614571],\n",
       "       [ 0.52024175, -0.08851982],\n",
       "       [ 0.63058053, -0.91895315],\n",
       "       [-0.41427929,  0.17296276],\n",
       "       [ 0.75222923,  0.18493108],\n",
       "       [ 0.78560587, -1.62246661],\n",
       "       [ 0.41760246,  0.94314596],\n",
       "       [ 0.32685378,  0.5266761 ],\n",
       "       [ 0.61771809,  0.22740896],\n",
       "       [ 0.2142864 ,  0.81271138],\n",
       "       [ 0.37649398, -0.86493243],\n",
       "       [ 0.48971878,  0.26955506],\n",
       "       [ 0.28988565,  0.59878038]])"
      ]
     },
     "execution_count": 115,
     "metadata": {},
     "output_type": "execute_result"
    }
   ],
   "source": [
    "X_train_pca[y_train==l]"
   ]
  },
  {
   "cell_type": "code",
   "execution_count": 100,
   "id": "e1db8429",
   "metadata": {},
   "outputs": [
    {
     "data": {
      "text/plain": [
       "array([1, 2, 3, 3, 2, 3, 3, 1, 2, 3, 2, 2, 3, 2, 1, 2, 2, 2, 1, 1, 2, 2,\n",
       "       3, 3, 2, 2, 2, 3, 3, 1, 3, 2, 2, 2, 2, 2, 1, 1, 2, 1, 3, 1, 3, 1,\n",
       "       1, 2, 1, 2, 2, 1, 3, 2, 1, 2, 2, 2, 3, 1, 3, 3, 1, 1, 2, 3, 1, 1,\n",
       "       2, 2, 1, 1, 1, 3, 2, 1, 2, 3, 1, 2, 3, 3, 1, 1, 3, 1, 3, 2, 1, 1,\n",
       "       2, 1, 3, 2, 3, 1, 3, 3, 3, 1, 2, 2, 2, 2, 3, 3, 2, 2, 1, 2, 3, 3,\n",
       "       1, 1, 3, 2, 2, 2, 1, 1, 1, 2, 2, 2, 1, 3])"
      ]
     },
     "execution_count": 100,
     "metadata": {},
     "output_type": "execute_result"
    }
   ],
   "source": [
    "y_train "
   ]
  },
  {
   "cell_type": "code",
   "execution_count": 97,
   "id": "cd22749f",
   "metadata": {},
   "outputs": [
    {
     "data": {
      "text/plain": [
       "array([-9.92679525e-04, -3.72134412e-04, -2.81288662e-03, -1.76663706e-02,\n",
       "       -9.99676549e-01,  5.27746246e-04,  2.25866304e-03,  1.79046049e-03,\n",
       "       -7.20197408e-03, -5.05121401e-03,  3.53071495e-04,  4.69256202e-03,\n",
       "        1.47494368e-02])"
      ]
     },
     "execution_count": 97,
     "metadata": {},
     "output_type": "execute_result"
    }
   ],
   "source": [
    "eigen_pairs[1][1]"
   ]
  },
  {
   "cell_type": "code",
   "execution_count": null,
   "id": "ce5d76fb",
   "metadata": {},
   "outputs": [],
   "source": []
  },
  {
   "cell_type": "code",
   "execution_count": 80,
   "id": "ccbc3402",
   "metadata": {},
   "outputs": [
    {
     "data": {
      "text/plain": [
       "array([ 7.39332227e-04, -3.72134412e-04, -1.21760629e-01, -1.90950295e-01,\n",
       "       -7.20870241e-01, -6.39949564e-01, -7.87299729e-02, -7.77908724e-02,\n",
       "       -3.75926724e-02,  4.39948813e-02,  3.06054403e-02, -5.32365761e-02,\n",
       "        1.23647328e-02])"
      ]
     },
     "execution_count": 80,
     "metadata": {},
     "output_type": "execute_result"
    }
   ],
   "source": [
    "eigen_vecs[1,:]"
   ]
  },
  {
   "cell_type": "code",
   "execution_count": 98,
   "id": "4a506ed8",
   "metadata": {},
   "outputs": [
    {
     "data": {
      "text/plain": [
       "array([[9.54186635e+04],\n",
       "       [1.94003067e+02],\n",
       "       [1.02519610e+01],\n",
       "       [5.40570170e+00],\n",
       "       [1.03841055e+00],\n",
       "       [8.50080606e-01],\n",
       "       [3.00830782e-01],\n",
       "       [1.35259942e-01],\n",
       "       [1.00121256e-01],\n",
       "       [6.04914648e-02],\n",
       "       [4.01235682e-02],\n",
       "       [2.32348167e-02],\n",
       "       [7.26416884e-03]])"
      ]
     },
     "execution_count": 98,
     "metadata": {},
     "output_type": "execute_result"
    }
   ],
   "source": [
    "eigen_vals[:, np.newaxis]"
   ]
  },
  {
   "cell_type": "code",
   "execution_count": 82,
   "id": "ca242753",
   "metadata": {},
   "outputs": [
    {
     "data": {
      "text/plain": [
       "array([9.54186635e+04, 1.94003067e+02, 1.02519610e+01, 5.40570170e+00,\n",
       "       1.03841055e+00, 8.50080606e-01, 3.00830782e-01, 1.35259942e-01,\n",
       "       1.00121256e-01, 6.04914648e-02, 4.01235682e-02, 2.32348167e-02,\n",
       "       7.26416884e-03])"
      ]
     },
     "execution_count": 82,
     "metadata": {},
     "output_type": "execute_result"
    }
   ],
   "source": [
    "eigen_vals"
   ]
  },
  {
   "cell_type": "markdown",
   "id": "636e488e",
   "metadata": {},
   "source": [
    "# Principal component analysis in scikit-learn\n",
    "> 直接使用 scikit-learn decomposition PCA 類別："
   ]
  },
  {
   "cell_type": "code",
   "execution_count": 195,
   "id": "3e6dc2a2",
   "metadata": {},
   "outputs": [
    {
     "name": "stdout",
     "output_type": "stream",
     "text": [
      "各特徵值變異數比率： [0.37329648 0.18818926 0.10896791]\n",
      "特徵值變異數比率累加： [0.99778088 0.99980954 0.99991675 0.99997327 0.99998413 0.99999302\n",
      " 0.99999617 0.99999758 0.99999863 0.99999926 0.99999968 0.99999992\n",
      " 1.        ]\n",
      "[0.9977808784498853, 0.002028665497925957, 0.0001072034579179649, 5.652673801419754e-05, 1.0858527596161541e-05, 8.889185226770744e-06, 3.1457493819125176e-06, 1.4143960764258057e-06, 1.0469552904256894e-06, 6.325515851501772e-07, 4.1956707076423463e-07, 2.4296353533521807e-07, 7.596049344381626e-08]\n"
     ]
    }
   ],
   "source": [
    "from sklearn.decomposition import PCA\n",
    "\n",
    "#依據重要性權重，我們可以權衡比重，試著設定前幾個特徵向量，例如2個。\n",
    "pca = PCA(n_components=3)\n",
    "X_train_pca = pca.fit_transform(X_train_std)\n",
    "\n",
    "tot = sum(eigen_vals)\n",
    "var_exp = [(i / tot) for i in sorted(eigen_vals, reverse=True)]\n",
    "cum_var_exp = np.cumsum(var_exp)\n",
    "print(\"各特徵值變異數比率：\",pca.explained_variance_ratio_)\n",
    "print(\"特徵值變異數比率累加：\",cum_var_exp)\n",
    "print(var_exp)\n"
   ]
  },
  {
   "cell_type": "code",
   "execution_count": 199,
   "id": "c24e46f0",
   "metadata": {},
   "outputs": [
    {
     "name": "stdout",
     "output_type": "stream",
     "text": [
      "特徵比率: [0.37329648 0.18818926 0.10896791]\n",
      "特徵比率累加: [0.99778088 0.99980954 0.99991675 0.99997327 0.99998413 0.99999302\n",
      " 0.99999617 0.99999758 0.99999863 0.99999926 0.99999968 0.99999992\n",
      " 1.        ]\n"
     ]
    }
   ],
   "source": [
    "pca=PCA(n_components=3)\n",
    "X_train_pca=pca.fit_transform(X_train_std)\n",
    "tot=sum(eigen_vals)\n",
    "var_exp=[(i/tot) for i in sorted(eigen_vals,reverse=True)]\n",
    "cum_var_exp=np.cumsum(var_exp)\n",
    "print(\"特徵比率:\",pca.explained_variance_ratio_)\n",
    "print(\"特徵比率累加:\",cum_var_exp)"
   ]
  },
  {
   "cell_type": "code",
   "execution_count": 188,
   "id": "32dbf3e8",
   "metadata": {},
   "outputs": [
    {
     "data": {
      "text/plain": [
       "array([[ 0.91083058, -0.46259897, -0.01142613, ...,  0.65706596,\n",
       "         1.94354495,  0.93700997],\n",
       "       [-0.95609928, -0.96608672, -1.53725357, ..., -0.40859506,\n",
       "         0.58118003, -1.41336684],\n",
       "       [ 0.35952243,  1.67501572, -0.37471838, ..., -1.55950896,\n",
       "        -1.44846566,  0.28683658],\n",
       "       ...,\n",
       "       [-0.70550467, -0.68342693, -0.62902295, ...,  0.44393375,\n",
       "         0.49776993, -1.30608823],\n",
       "       [ 1.14889546, -0.6215951 , -0.88332752, ..., -0.19546286,\n",
       "         1.0121322 ,  0.77446662],\n",
       "       [ 1.47466845,  0.11155374,  0.42452457, ..., -1.43162964,\n",
       "        -1.23994042, -0.28206514]])"
      ]
     },
     "execution_count": 188,
     "metadata": {},
     "output_type": "execute_result"
    }
   ],
   "source": [
    "X_train_std"
   ]
  },
  {
   "cell_type": "code",
   "execution_count": 190,
   "id": "ab0f68c0",
   "metadata": {},
   "outputs": [
    {
     "data": {
      "text/plain": [
       "array([[ 2.59891628, -0.00484089],\n",
       "       [ 0.15819134,  2.26659577],\n",
       "       [-2.6372337 , -2.66488569],\n",
       "       [-2.52848449, -0.51846618],\n",
       "       [ 1.70922581,  0.91719459],\n",
       "       [-2.83057003, -0.41936129],\n",
       "       [-2.82251879, -1.99763147],\n",
       "       [ 1.36618015, -0.04639099],\n",
       "       [-2.46584868,  0.07932269],\n",
       "       [-2.28554906,  0.40096658],\n",
       "       [ 1.14246632,  2.39587633],\n",
       "       [-2.28497881,  1.09274988],\n",
       "       [-2.52924945, -0.6477328 ],\n",
       "       [ 0.169245  ,  1.1264982 ],\n",
       "       [ 2.53088166, -1.05798498],\n",
       "       [-0.71596964,  2.80365836],\n",
       "       [ 2.46922033,  0.15871191],\n",
       "       [-0.58044574,  0.69290749],\n",
       "       [ 0.54583852, -0.41042188],\n",
       "       [ 3.5604963 , -1.42561284],\n",
       "       [ 1.58679826,  1.51260121],\n",
       "       [ 2.54872139,  0.05280515],\n",
       "       [-3.59338727, -0.88321901],\n",
       "       [-1.60406659, -2.40373662],\n",
       "       [ 1.48668426,  1.40863724],\n",
       "       [ 0.00830468,  2.04898307],\n",
       "       [-0.15646658,  2.80278355],\n",
       "       [-2.39863877, -2.47524175],\n",
       "       [-3.13549157,  0.29421321],\n",
       "       [ 3.30221023, -0.40939296],\n",
       "       [-3.53069904, -1.79971521],\n",
       "       [-0.45566459,  2.61242833],\n",
       "       [-0.58840115,  1.98301934],\n",
       "       [-1.16637216,  0.83784744],\n",
       "       [ 1.03763587,  1.37755233],\n",
       "       [ 1.95890184,  1.62578024],\n",
       "       [ 2.76990407, -1.86073384],\n",
       "       [ 2.06150478, -1.32280528],\n",
       "       [ 0.84107017,  2.00894711],\n",
       "       [ 3.52522122, -1.41880443],\n",
       "       [-3.82504747, -0.11741931],\n",
       "       [ 1.70427554,  0.46267479],\n",
       "       [-3.44482795, -0.89793105],\n",
       "       [ 3.14119715, -0.80251074],\n",
       "       [ 2.34148171, -1.69991384],\n",
       "       [ 1.25162098,  0.91305357],\n",
       "       [ 3.57847538, -1.78146353],\n",
       "       [ 0.93052986,  2.26747372],\n",
       "       [ 0.50457042,  1.9619121 ],\n",
       "       [ 3.82251943, -2.88150786],\n",
       "       [-2.3761711 , -2.15480504],\n",
       "       [-1.55524357,  1.38425679],\n",
       "       [ 2.51130377, -1.33358811],\n",
       "       [-0.72998664,  0.21814915],\n",
       "       [-0.77183165,  2.39360847],\n",
       "       [ 0.84583296,  1.51455514],\n",
       "       [-1.26515775, -0.04977931],\n",
       "       [ 2.20903303, -0.85715074],\n",
       "       [-3.89082853, -0.54194575],\n",
       "       [-1.8063292 , -1.31606219],\n",
       "       [ 4.37183355, -2.33594051],\n",
       "       [ 3.31126031, -1.43233851],\n",
       "       [-1.53830238,  1.9287237 ],\n",
       "       [-2.72256164, -2.15319971],\n",
       "       [ 2.81726412, -1.3810016 ],\n",
       "       [ 1.85165682, -0.74908527],\n",
       "       [-0.45023913,  2.16233055],\n",
       "       [-0.10551849,  1.20083745],\n",
       "       [ 1.96348867, -0.21556727],\n",
       "       [ 2.23499535, -1.29680173],\n",
       "       [ 0.81061036, -0.32968368],\n",
       "       [-3.28947263, -2.24576835],\n",
       "       [ 0.92542109,  0.76230572],\n",
       "       [ 2.3186051 ,  0.12948205],\n",
       "       [ 0.79856144,  1.42131736],\n",
       "       [-2.27737367, -0.55018386],\n",
       "       [ 3.14731552, -1.31152545],\n",
       "       [-1.73268901,  1.77855936],\n",
       "       [-2.85178367, -0.15732478],\n",
       "       [-2.682777  , -0.33277815],\n",
       "       [ 1.93435789, -1.6156844 ],\n",
       "       [ 1.61938048,  0.63200211],\n",
       "       [-2.04371299, -0.31389153],\n",
       "       [ 2.25520575, -1.89312658],\n",
       "       [-2.32821566, -0.18612349],\n",
       "       [-0.41435801,  1.98875351],\n",
       "       [ 1.44705447, -0.66672748],\n",
       "       [ 2.19851825, -0.68997732],\n",
       "       [-0.42257991,  1.94397583],\n",
       "       [ 2.76213322, -1.54543423],\n",
       "       [-2.84540302, -1.94250398],\n",
       "       [-1.5915982 ,  1.41522865],\n",
       "       [-3.35600644, -1.14127988],\n",
       "       [ 1.67829924, -0.10816612],\n",
       "       [-2.94150833, -0.3885073 ],\n",
       "       [-2.30405629, -2.15027517],\n",
       "       [-3.49291623, -1.29239829],\n",
       "       [ 2.33527547, -0.3435751 ],\n",
       "       [ 1.46219731,  2.05255915],\n",
       "       [-0.43118871,  2.4048574 ],\n",
       "       [ 0.42256584,  1.05544618],\n",
       "       [ 0.52658784,  3.87214144],\n",
       "       [-2.72797263, -1.58306403],\n",
       "       [-3.17868679, -2.71193573],\n",
       "       [-0.62158919,  1.0446325 ],\n",
       "       [-1.40436141,  1.47634167],\n",
       "       [ 0.91169846, -0.65475647],\n",
       "       [ 1.12423581,  1.34653907],\n",
       "       [-2.84547545, -1.32732299],\n",
       "       [-2.36335963, -2.43164111],\n",
       "       [ 2.54578547, -1.85201533],\n",
       "       [ 3.21543609, -1.84137496],\n",
       "       [-2.74703277, -0.19539224],\n",
       "       [-1.05186423,  1.83455849],\n",
       "       [-1.50826783,  0.99164925],\n",
       "       [-0.53471293,  2.50577398],\n",
       "       [ 1.40057023, -0.66105221],\n",
       "       [ 1.10794215, -0.24580628],\n",
       "       [ 2.83487283, -0.95812357],\n",
       "       [-0.52771371,  2.59472825],\n",
       "       [ 0.31128129,  2.28677331],\n",
       "       [-0.06526682,  2.04360861],\n",
       "       [ 2.91835495, -0.82035658],\n",
       "       [-2.40719925, -2.23612256]])"
      ]
     },
     "execution_count": 190,
     "metadata": {},
     "output_type": "execute_result"
    }
   ],
   "source": [
    "X_train_pca "
   ]
  },
  {
   "cell_type": "code",
   "execution_count": 201,
   "id": "5d36e656",
   "metadata": {},
   "outputs": [
    {
     "data": {
      "image/png": "[encoded data removed]",
      "text/plain": [
       "<Figure size 640x480 with 1 Axes>"
      ]
     },
     "metadata": {},
     "output_type": "display_data"
    }
   ],
   "source": [
    "plt.bar(range(1,14),var_exp,alpha=0.5,align=\"center\",label=\"individual explained variance\")\n",
    "plt.step(range(1,14),cum_var_exp,where=\"mid\",label=\"cumulative explained variance\")\n",
    "plt.ylabel('Explained variance ratio')\n",
    "plt.xlabel('Principal components')\n",
    "plt.legend(loc=\"best\")\n",
    "plt.tight_layout()\n",
    "plt.show()"
   ]
  },
  {
   "cell_type": "markdown",
   "id": "f3d070dc",
   "metadata": {},
   "source": [
    ">畫圖 ：解釋變異數比率 ，各特徵值/特徵值總和"
   ]
  },
  {
   "cell_type": "code",
   "execution_count": 200,
   "id": "6e50f865",
   "metadata": {},
   "outputs": [
    {
     "data": {
      "image/png": "[encoded data removed]",
      "text/plain": [
       "<Figure size 640x480 with 1 Axes>"
      ]
     },
     "metadata": {},
     "output_type": "display_data"
    }
   ],
   "source": [
    "plt.bar(range(1, 14), var_exp, alpha=0.5, align='center',\n",
    "        label='individual explained variance')\n",
    "plt.step(range(1, 14), cum_var_exp, where='mid',\n",
    "         label='cumulative explained variance')\n",
    "plt.ylabel('Explained variance ratio')\n",
    "plt.xlabel('Principal components')\n",
    "plt.legend(loc='best')\n",
    "plt.tight_layout()\n",
    "plt.show()"
   ]
  },
  {
   "cell_type": "code",
   "execution_count": 222,
   "id": "62727f11",
   "metadata": {},
   "outputs": [
    {
     "data": {
      "image/png": "[encoded data removed]",
      "text/plain": [
       "<Figure size 640x480 with 1 Axes>"
      ]
     },
     "metadata": {},
     "output_type": "display_data"
    }
   ],
   "source": [
    "pca=PCA(n_components=2)\n",
    "X_train_pca=pca.fit_transform(X_train_std)\n",
    "X_test_pca=pca.fit_transform(X_test_std)\n",
    "\n",
    "plt.scatter(X_train_pca[:,0],X_train_pca[:,1])\n",
    "plt.xlabel(\"pc1\")\n",
    "plt.ylabel(\"pc2\")\n",
    "plt.show()"
   ]
  },
  {
   "cell_type": "code",
   "execution_count": 223,
   "id": "bfea51a2",
   "metadata": {},
   "outputs": [
    {
     "data": {
      "text/plain": [
       "array([[ 2.59891628, -0.00484089],\n",
       "       [ 0.15819134,  2.26659577],\n",
       "       [-2.6372337 , -2.66488569],\n",
       "       [-2.52848449, -0.51846618],\n",
       "       [ 1.70922581,  0.91719459],\n",
       "       [-2.83057003, -0.41936129],\n",
       "       [-2.82251879, -1.99763147],\n",
       "       [ 1.36618015, -0.04639099],\n",
       "       [-2.46584868,  0.07932269],\n",
       "       [-2.28554906,  0.40096658],\n",
       "       [ 1.14246632,  2.39587633],\n",
       "       [-2.28497881,  1.09274988],\n",
       "       [-2.52924945, -0.6477328 ],\n",
       "       [ 0.169245  ,  1.1264982 ],\n",
       "       [ 2.53088166, -1.05798498],\n",
       "       [-0.71596964,  2.80365836],\n",
       "       [ 2.46922033,  0.15871191],\n",
       "       [-0.58044574,  0.69290749],\n",
       "       [ 0.54583852, -0.41042188],\n",
       "       [ 3.5604963 , -1.42561284],\n",
       "       [ 1.58679826,  1.51260121],\n",
       "       [ 2.54872139,  0.05280515],\n",
       "       [-3.59338727, -0.88321901],\n",
       "       [-1.60406659, -2.40373662],\n",
       "       [ 1.48668426,  1.40863724],\n",
       "       [ 0.00830468,  2.04898307],\n",
       "       [-0.15646658,  2.80278355],\n",
       "       [-2.39863877, -2.47524175],\n",
       "       [-3.13549157,  0.29421321],\n",
       "       [ 3.30221023, -0.40939296],\n",
       "       [-3.53069904, -1.79971521],\n",
       "       [-0.45566459,  2.61242833],\n",
       "       [-0.58840115,  1.98301934],\n",
       "       [-1.16637216,  0.83784744],\n",
       "       [ 1.03763587,  1.37755233],\n",
       "       [ 1.95890184,  1.62578024],\n",
       "       [ 2.76990407, -1.86073384],\n",
       "       [ 2.06150478, -1.32280528],\n",
       "       [ 0.84107017,  2.00894711],\n",
       "       [ 3.52522122, -1.41880443],\n",
       "       [-3.82504747, -0.11741931],\n",
       "       [ 1.70427554,  0.46267479],\n",
       "       [-3.44482795, -0.89793105],\n",
       "       [ 3.14119715, -0.80251074],\n",
       "       [ 2.34148171, -1.69991384],\n",
       "       [ 1.25162098,  0.91305357],\n",
       "       [ 3.57847538, -1.78146353],\n",
       "       [ 0.93052986,  2.26747372],\n",
       "       [ 0.50457042,  1.9619121 ],\n",
       "       [ 3.82251943, -2.88150786],\n",
       "       [-2.3761711 , -2.15480504],\n",
       "       [-1.55524357,  1.38425679],\n",
       "       [ 2.51130377, -1.33358811],\n",
       "       [-0.72998664,  0.21814915],\n",
       "       [-0.77183165,  2.39360847],\n",
       "       [ 0.84583296,  1.51455514],\n",
       "       [-1.26515775, -0.04977931],\n",
       "       [ 2.20903303, -0.85715074],\n",
       "       [-3.89082853, -0.54194575],\n",
       "       [-1.8063292 , -1.31606219],\n",
       "       [ 4.37183355, -2.33594051],\n",
       "       [ 3.31126031, -1.43233851],\n",
       "       [-1.53830238,  1.9287237 ],\n",
       "       [-2.72256164, -2.15319971],\n",
       "       [ 2.81726412, -1.3810016 ],\n",
       "       [ 1.85165682, -0.74908527],\n",
       "       [-0.45023913,  2.16233055],\n",
       "       [-0.10551849,  1.20083745],\n",
       "       [ 1.96348867, -0.21556727],\n",
       "       [ 2.23499535, -1.29680173],\n",
       "       [ 0.81061036, -0.32968368],\n",
       "       [-3.28947263, -2.24576835],\n",
       "       [ 0.92542109,  0.76230572],\n",
       "       [ 2.3186051 ,  0.12948205],\n",
       "       [ 0.79856144,  1.42131736],\n",
       "       [-2.27737367, -0.55018386],\n",
       "       [ 3.14731552, -1.31152545],\n",
       "       [-1.73268901,  1.77855936],\n",
       "       [-2.85178367, -0.15732478],\n",
       "       [-2.682777  , -0.33277815],\n",
       "       [ 1.93435789, -1.6156844 ],\n",
       "       [ 1.61938048,  0.63200211],\n",
       "       [-2.04371299, -0.31389153],\n",
       "       [ 2.25520575, -1.89312658],\n",
       "       [-2.32821566, -0.18612349],\n",
       "       [-0.41435801,  1.98875351],\n",
       "       [ 1.44705447, -0.66672748],\n",
       "       [ 2.19851825, -0.68997732],\n",
       "       [-0.42257991,  1.94397583],\n",
       "       [ 2.76213322, -1.54543423],\n",
       "       [-2.84540302, -1.94250398],\n",
       "       [-1.5915982 ,  1.41522865],\n",
       "       [-3.35600644, -1.14127988],\n",
       "       [ 1.67829924, -0.10816612],\n",
       "       [-2.94150833, -0.3885073 ],\n",
       "       [-2.30405629, -2.15027517],\n",
       "       [-3.49291623, -1.29239829],\n",
       "       [ 2.33527547, -0.3435751 ],\n",
       "       [ 1.46219731,  2.05255915],\n",
       "       [-0.43118871,  2.4048574 ],\n",
       "       [ 0.42256584,  1.05544618],\n",
       "       [ 0.52658784,  3.87214144],\n",
       "       [-2.72797263, -1.58306403],\n",
       "       [-3.17868679, -2.71193573],\n",
       "       [-0.62158919,  1.0446325 ],\n",
       "       [-1.40436141,  1.47634167],\n",
       "       [ 0.91169846, -0.65475647],\n",
       "       [ 1.12423581,  1.34653907],\n",
       "       [-2.84547545, -1.32732299],\n",
       "       [-2.36335963, -2.43164111],\n",
       "       [ 2.54578547, -1.85201533],\n",
       "       [ 3.21543609, -1.84137496],\n",
       "       [-2.74703277, -0.19539224],\n",
       "       [-1.05186423,  1.83455849],\n",
       "       [-1.50826783,  0.99164925],\n",
       "       [-0.53471293,  2.50577398],\n",
       "       [ 1.40057023, -0.66105221],\n",
       "       [ 1.10794215, -0.24580628],\n",
       "       [ 2.83487283, -0.95812357],\n",
       "       [-0.52771371,  2.59472825],\n",
       "       [ 0.31128129,  2.28677331],\n",
       "       [-0.06526682,  2.04360861],\n",
       "       [ 2.91835495, -0.82035658],\n",
       "       [-2.40719925, -2.23612256]])"
      ]
     },
     "execution_count": 223,
     "metadata": {},
     "output_type": "execute_result"
    }
   ],
   "source": [
    "X_train_pca"
   ]
  },
  {
   "cell_type": "markdown",
   "id": "cbeba95a",
   "metadata": {},
   "source": [
    ">依據重要性權重，我們可以權衡比重，試著設定前幾個特徵向量，例如2個。"
   ]
  },
  {
   "cell_type": "code",
   "execution_count": 217,
   "id": "e646c7cd",
   "metadata": {},
   "outputs": [
    {
     "data": {
      "image/png": "[encoded data removed]",
      "text/plain": [
       "<Figure size 640x480 with 1 Axes>"
      ]
     },
     "metadata": {},
     "output_type": "display_data"
    }
   ],
   "source": [
    "pca = PCA(n_components=2)\n",
    "X_train_pca = pca.fit_transform(X_train_std)\n",
    "X_test_pca = pca.transform(X_test_std)\n",
    "\n",
    "plt.scatter(X_train_pca[:, 0], X_train_pca[:, 1])\n",
    "plt.xlabel('PC 1')\n",
    "plt.ylabel('PC 2')\n",
    "plt.show()"
   ]
  },
  {
   "cell_type": "code",
   "execution_count": 213,
   "id": "ccebabfd",
   "metadata": {},
   "outputs": [
    {
     "data": {
      "text/plain": [
       "array([[ 0.91083058, -0.46259897, -0.01142613, ...,  0.65706596,\n",
       "         1.94354495,  0.93700997],\n",
       "       [-0.95609928, -0.96608672, -1.53725357, ..., -0.40859506,\n",
       "         0.58118003, -1.41336684],\n",
       "       [ 0.35952243,  1.67501572, -0.37471838, ..., -1.55950896,\n",
       "        -1.44846566,  0.28683658],\n",
       "       ...,\n",
       "       [-0.70550467, -0.68342693, -0.62902295, ...,  0.44393375,\n",
       "         0.49776993, -1.30608823],\n",
       "       [ 1.14889546, -0.6215951 , -0.88332752, ..., -0.19546286,\n",
       "         1.0121322 ,  0.77446662],\n",
       "       [ 1.47466845,  0.11155374,  0.42452457, ..., -1.43162964,\n",
       "        -1.23994042, -0.28206514]])"
      ]
     },
     "execution_count": 213,
     "metadata": {},
     "output_type": "execute_result"
    }
   ],
   "source": [
    "X_train_std"
   ]
  },
  {
   "cell_type": "code",
   "execution_count": 209,
   "id": "448590b4",
   "metadata": {},
   "outputs": [
    {
     "data": {
      "text/plain": [
       "array([[ 2.59891628, -0.00484089],\n",
       "       [ 0.15819134,  2.26659577],\n",
       "       [-2.6372337 , -2.66488569],\n",
       "       [-2.52848449, -0.51846618],\n",
       "       [ 1.70922581,  0.91719459],\n",
       "       [-2.83057003, -0.41936129],\n",
       "       [-2.82251879, -1.99763147],\n",
       "       [ 1.36618015, -0.04639099],\n",
       "       [-2.46584868,  0.07932269],\n",
       "       [-2.28554906,  0.40096658],\n",
       "       [ 1.14246632,  2.39587633],\n",
       "       [-2.28497881,  1.09274988],\n",
       "       [-2.52924945, -0.6477328 ],\n",
       "       [ 0.169245  ,  1.1264982 ],\n",
       "       [ 2.53088166, -1.05798498],\n",
       "       [-0.71596964,  2.80365836],\n",
       "       [ 2.46922033,  0.15871191],\n",
       "       [-0.58044574,  0.69290749],\n",
       "       [ 0.54583852, -0.41042188],\n",
       "       [ 3.5604963 , -1.42561284],\n",
       "       [ 1.58679826,  1.51260121],\n",
       "       [ 2.54872139,  0.05280515],\n",
       "       [-3.59338727, -0.88321901],\n",
       "       [-1.60406659, -2.40373662],\n",
       "       [ 1.48668426,  1.40863724],\n",
       "       [ 0.00830468,  2.04898307],\n",
       "       [-0.15646658,  2.80278355],\n",
       "       [-2.39863877, -2.47524175],\n",
       "       [-3.13549157,  0.29421321],\n",
       "       [ 3.30221023, -0.40939296],\n",
       "       [-3.53069904, -1.79971521],\n",
       "       [-0.45566459,  2.61242833],\n",
       "       [-0.58840115,  1.98301934],\n",
       "       [-1.16637216,  0.83784744],\n",
       "       [ 1.03763587,  1.37755233],\n",
       "       [ 1.95890184,  1.62578024],\n",
       "       [ 2.76990407, -1.86073384],\n",
       "       [ 2.06150478, -1.32280528],\n",
       "       [ 0.84107017,  2.00894711],\n",
       "       [ 3.52522122, -1.41880443],\n",
       "       [-3.82504747, -0.11741931],\n",
       "       [ 1.70427554,  0.46267479],\n",
       "       [-3.44482795, -0.89793105],\n",
       "       [ 3.14119715, -0.80251074],\n",
       "       [ 2.34148171, -1.69991384],\n",
       "       [ 1.25162098,  0.91305357],\n",
       "       [ 3.57847538, -1.78146353],\n",
       "       [ 0.93052986,  2.26747372],\n",
       "       [ 0.50457042,  1.9619121 ],\n",
       "       [ 3.82251943, -2.88150786],\n",
       "       [-2.3761711 , -2.15480504],\n",
       "       [-1.55524357,  1.38425679],\n",
       "       [ 2.51130377, -1.33358811],\n",
       "       [-0.72998664,  0.21814915],\n",
       "       [-0.77183165,  2.39360847],\n",
       "       [ 0.84583296,  1.51455514],\n",
       "       [-1.26515775, -0.04977931],\n",
       "       [ 2.20903303, -0.85715074],\n",
       "       [-3.89082853, -0.54194575],\n",
       "       [-1.8063292 , -1.31606219],\n",
       "       [ 4.37183355, -2.33594051],\n",
       "       [ 3.31126031, -1.43233851],\n",
       "       [-1.53830238,  1.9287237 ],\n",
       "       [-2.72256164, -2.15319971],\n",
       "       [ 2.81726412, -1.3810016 ],\n",
       "       [ 1.85165682, -0.74908527],\n",
       "       [-0.45023913,  2.16233055],\n",
       "       [-0.10551849,  1.20083745],\n",
       "       [ 1.96348867, -0.21556727],\n",
       "       [ 2.23499535, -1.29680173],\n",
       "       [ 0.81061036, -0.32968368],\n",
       "       [-3.28947263, -2.24576835],\n",
       "       [ 0.92542109,  0.76230572],\n",
       "       [ 2.3186051 ,  0.12948205],\n",
       "       [ 0.79856144,  1.42131736],\n",
       "       [-2.27737367, -0.55018386],\n",
       "       [ 3.14731552, -1.31152545],\n",
       "       [-1.73268901,  1.77855936],\n",
       "       [-2.85178367, -0.15732478],\n",
       "       [-2.682777  , -0.33277815],\n",
       "       [ 1.93435789, -1.6156844 ],\n",
       "       [ 1.61938048,  0.63200211],\n",
       "       [-2.04371299, -0.31389153],\n",
       "       [ 2.25520575, -1.89312658],\n",
       "       [-2.32821566, -0.18612349],\n",
       "       [-0.41435801,  1.98875351],\n",
       "       [ 1.44705447, -0.66672748],\n",
       "       [ 2.19851825, -0.68997732],\n",
       "       [-0.42257991,  1.94397583],\n",
       "       [ 2.76213322, -1.54543423],\n",
       "       [-2.84540302, -1.94250398],\n",
       "       [-1.5915982 ,  1.41522865],\n",
       "       [-3.35600644, -1.14127988],\n",
       "       [ 1.67829924, -0.10816612],\n",
       "       [-2.94150833, -0.3885073 ],\n",
       "       [-2.30405629, -2.15027517],\n",
       "       [-3.49291623, -1.29239829],\n",
       "       [ 2.33527547, -0.3435751 ],\n",
       "       [ 1.46219731,  2.05255915],\n",
       "       [-0.43118871,  2.4048574 ],\n",
       "       [ 0.42256584,  1.05544618],\n",
       "       [ 0.52658784,  3.87214144],\n",
       "       [-2.72797263, -1.58306403],\n",
       "       [-3.17868679, -2.71193573],\n",
       "       [-0.62158919,  1.0446325 ],\n",
       "       [-1.40436141,  1.47634167],\n",
       "       [ 0.91169846, -0.65475647],\n",
       "       [ 1.12423581,  1.34653907],\n",
       "       [-2.84547545, -1.32732299],\n",
       "       [-2.36335963, -2.43164111],\n",
       "       [ 2.54578547, -1.85201533],\n",
       "       [ 3.21543609, -1.84137496],\n",
       "       [-2.74703277, -0.19539224],\n",
       "       [-1.05186423,  1.83455849],\n",
       "       [-1.50826783,  0.99164925],\n",
       "       [-0.53471293,  2.50577398],\n",
       "       [ 1.40057023, -0.66105221],\n",
       "       [ 1.10794215, -0.24580628],\n",
       "       [ 2.83487283, -0.95812357],\n",
       "       [-0.52771371,  2.59472825],\n",
       "       [ 0.31128129,  2.28677331],\n",
       "       [-0.06526682,  2.04360861],\n",
       "       [ 2.91835495, -0.82035658],\n",
       "       [-2.40719925, -2.23612256]])"
      ]
     },
     "execution_count": 209,
     "metadata": {},
     "output_type": "execute_result"
    }
   ],
   "source": [
    "X_train_pca"
   ]
  },
  {
   "cell_type": "code",
   "execution_count": 204,
   "id": "8142c9b1",
   "metadata": {},
   "outputs": [
    {
     "data": {
      "text/plain": [
       "array([[ 2.59891628e+00, -4.84089152e-03,  1.04401920e-01],\n",
       "       [ 1.58191340e-01,  2.26659577e+00,  6.19135120e-01],\n",
       "       [-2.63723370e+00, -2.66488569e+00,  9.89046627e-01],\n",
       "       [-2.52848449e+00, -5.18466183e-01,  9.12516591e-01],\n",
       "       [ 1.70922581e+00,  9.17194587e-01, -2.01648131e+00],\n",
       "       [-2.83057003e+00, -4.19361288e-01, -7.14771659e-01],\n",
       "       [-2.82251879e+00, -1.99763147e+00,  6.56385056e-01],\n",
       "       [ 1.36618015e+00, -4.63909898e-02,  1.27573405e+00],\n",
       "       [-2.46584868e+00,  7.93226861e-02, -4.67593335e-01],\n",
       "       [-2.28554906e+00,  4.00966577e-01,  1.19555226e+00],\n",
       "       [ 1.14246632e+00,  2.39587633e+00,  1.12392182e+00],\n",
       "       [-2.28497881e+00,  1.09274988e+00,  1.86425802e+00],\n",
       "       [-2.52924945e+00, -6.47732797e-01,  9.35900799e-01],\n",
       "       [ 1.69245000e-01,  1.12649820e+00,  1.78245214e+00],\n",
       "       [ 2.53088166e+00, -1.05798498e+00, -1.13959620e+00],\n",
       "       [-7.15969645e-01,  2.80365836e+00,  4.66681167e+00],\n",
       "       [ 2.46922033e+00,  1.58711906e-01, -5.07937369e-01],\n",
       "       [-5.80445743e-01,  6.92907488e-01, -9.76512517e-01],\n",
       "       [ 5.45838520e-01, -4.10421883e-01,  3.83396964e-02],\n",
       "       [ 3.56049630e+00, -1.42561284e+00,  1.71244113e-01],\n",
       "       [ 1.58679826e+00,  1.51260121e+00, -1.67166747e+00],\n",
       "       [ 2.54872139e+00,  5.28051503e-02, -3.14352570e+00],\n",
       "       [-3.59338727e+00, -8.83219012e-01,  1.45294798e+00],\n",
       "       [-1.60406659e+00, -2.40373662e+00, -5.42238587e-01],\n",
       "       [ 1.48668426e+00,  1.40863724e+00, -2.23286223e-02],\n",
       "       [ 8.30468308e-03,  2.04898307e+00, -3.41617683e-01],\n",
       "       [-1.56466576e-01,  2.80278355e+00,  4.99161967e-01],\n",
       "       [-2.39863877e+00, -2.47524175e+00, -3.74155486e-01],\n",
       "       [-3.13549157e+00,  2.94213213e-01,  1.00216302e+00],\n",
       "       [ 3.30221023e+00, -4.09392958e-01,  1.78746692e+00],\n",
       "       [-3.53069904e+00, -1.79971521e+00,  3.79858949e-02],\n",
       "       [-4.55664592e-01,  2.61242833e+00, -7.30947801e-01],\n",
       "       [-5.88401152e-01,  1.98301934e+00, -4.93972552e-01],\n",
       "       [-1.16637216e+00,  8.37847443e-01, -2.93095885e+00],\n",
       "       [ 1.03763587e+00,  1.37755233e+00, -1.54119910e+00],\n",
       "       [ 1.95890184e+00,  1.62578024e+00,  1.57140236e+00],\n",
       "       [ 2.76990407e+00, -1.86073384e+00,  4.70282865e-01],\n",
       "       [ 2.06150478e+00, -1.32280528e+00, -1.17432573e-01],\n",
       "       [ 8.41070167e-01,  2.00894711e+00,  3.42084266e-01],\n",
       "       [ 3.52522122e+00, -1.41880443e+00,  7.48038474e-01],\n",
       "       [-3.82504747e+00, -1.17419307e-01, -1.80268626e-01],\n",
       "       [ 1.70427554e+00,  4.62674789e-01, -2.32211780e-01],\n",
       "       [-3.44482795e+00, -8.97931048e-01,  4.25879222e-01],\n",
       "       [ 3.14119715e+00, -8.02510742e-01,  2.25578367e-01],\n",
       "       [ 2.34148171e+00, -1.69991384e+00, -3.91856847e-01],\n",
       "       [ 1.25162098e+00,  9.13053566e-01,  1.42877621e+00],\n",
       "       [ 3.57847538e+00, -1.78146353e+00,  2.22051454e-01],\n",
       "       [ 9.30529863e-01,  2.26747372e+00,  1.68162830e+00],\n",
       "       [ 5.04570418e-01,  1.96191210e+00,  2.51967427e+00],\n",
       "       [ 3.82251943e+00, -2.88150786e+00, -1.64625403e-01],\n",
       "       [-2.37617110e+00, -2.15480504e+00,  6.77292026e-01],\n",
       "       [-1.55524357e+00,  1.38425679e+00, -1.28012254e-01],\n",
       "       [ 2.51130377e+00, -1.33358811e+00,  6.30730679e-01],\n",
       "       [-7.29986643e-01,  2.18149153e-01,  7.31283718e-01],\n",
       "       [-7.71831655e-01,  2.39360847e+00,  1.77900784e+00],\n",
       "       [ 8.45832959e-01,  1.51455514e+00, -4.70397102e-01],\n",
       "       [-1.26515775e+00, -4.97793134e-02,  1.41765985e+00],\n",
       "       [ 2.20903303e+00, -8.57150736e-01,  6.18706003e-01],\n",
       "       [-3.89082853e+00, -5.41945746e-01, -1.67649770e+00],\n",
       "       [-1.80632920e+00, -1.31606219e+00, -1.12040279e+00],\n",
       "       [ 4.37183355e+00, -2.33594051e+00,  8.40129386e-01],\n",
       "       [ 3.31126031e+00, -1.43233851e+00, -3.51587878e-02],\n",
       "       [-1.53830238e+00,  1.92872370e+00, -5.63282387e-01],\n",
       "       [-2.72256164e+00, -2.15319971e+00,  9.56614531e-01],\n",
       "       [ 2.81726412e+00, -1.38100160e+00,  1.44933148e-01],\n",
       "       [ 1.85165682e+00, -7.49085271e-01,  9.95594686e-01],\n",
       "       [-4.50239132e-01,  2.16233055e+00,  3.97142894e-01],\n",
       "       [-1.05518492e-01,  1.20083745e+00, -9.43332406e-01],\n",
       "       [ 1.96348867e+00, -2.15567274e-01, -5.33734065e-01],\n",
       "       [ 2.23499535e+00, -1.29680173e+00, -4.50207932e-01],\n",
       "       [ 8.10610359e-01, -3.29683676e-01,  5.86670299e-01],\n",
       "       [-3.28947263e+00, -2.24576835e+00,  1.63357275e-01],\n",
       "       [ 9.25421091e-01,  7.62305723e-01, -4.96493013e-01],\n",
       "       [ 2.31860510e+00,  1.29482053e-01,  1.81117455e+00],\n",
       "       [ 7.98561445e-01,  1.42131736e+00, -1.02620555e+00],\n",
       "       [-2.27737367e+00, -5.50183856e-01,  8.30776232e-02],\n",
       "       [ 3.14731552e+00, -1.31152545e+00,  1.16826606e-02],\n",
       "       [-1.73268901e+00,  1.77855936e+00, -8.26432082e-01],\n",
       "       [-2.85178367e+00, -1.57324779e-01,  4.18218921e-01],\n",
       "       [-2.68277700e+00, -3.32778152e-01,  1.44487031e+00],\n",
       "       [ 1.93435789e+00, -1.61568440e+00, -8.81649544e-01],\n",
       "       [ 1.61938048e+00,  6.32002109e-01,  1.36359792e+00],\n",
       "       [-2.04371299e+00, -3.13891527e-01,  5.93351872e-01],\n",
       "       [ 2.25520575e+00, -1.89312658e+00, -5.41791050e-01],\n",
       "       [-2.32821566e+00, -1.86123493e-01, -1.16433385e+00],\n",
       "       [-4.14358009e-01,  1.98875351e+00, -1.09743742e+00],\n",
       "       [ 1.44705447e+00, -6.66727481e-01, -5.55229298e-01],\n",
       "       [ 2.19851825e+00, -6.89977325e-01, -1.58067537e+00],\n",
       "       [-4.22579912e-01,  1.94397583e+00, -1.19398830e+00],\n",
       "       [ 2.76213322e+00, -1.54543423e+00,  2.06863066e-01],\n",
       "       [-2.84540302e+00, -1.94250398e+00,  6.31135961e-01],\n",
       "       [-1.59159820e+00,  1.41522865e+00, -3.07322053e+00],\n",
       "       [-3.35600644e+00, -1.14127988e+00, -1.41792293e+00],\n",
       "       [ 1.67829924e+00, -1.08166124e-01,  3.94146104e-02],\n",
       "       [-2.94150833e+00, -3.88507298e-01, -9.26853716e-01],\n",
       "       [-2.30405629e+00, -2.15027517e+00, -2.39790493e-01],\n",
       "       [-3.49291623e+00, -1.29239829e+00,  7.14393231e-02],\n",
       "       [ 2.33527547e+00, -3.43575097e-01,  8.57838272e-01],\n",
       "       [ 1.46219731e+00,  2.05255915e+00, -8.07693020e-01],\n",
       "       [-4.31188709e-01,  2.40485740e+00, -1.16363994e+00],\n",
       "       [ 4.22565838e-01,  1.05544618e+00, -1.81475764e+00],\n",
       "       [ 5.26587838e-01,  3.87214144e+00, -1.10232775e+00],\n",
       "       [-2.72797263e+00, -1.58306403e+00,  4.78292456e-01],\n",
       "       [-3.17868679e+00, -2.71193573e+00, -1.10472646e+00],\n",
       "       [-6.21589188e-01,  1.04463250e+00,  2.29128104e-03],\n",
       "       [-1.40436141e+00,  1.47634167e+00,  4.08048459e-01],\n",
       "       [ 9.11698460e-01, -6.54756471e-01, -3.75906832e+00],\n",
       "       [ 1.12423581e+00,  1.34653907e+00,  3.58263104e-01],\n",
       "       [-2.84547545e+00, -1.32732299e+00,  1.24350766e+00],\n",
       "       [-2.36335963e+00, -2.43164111e+00, -1.40867833e+00],\n",
       "       [ 2.54578547e+00, -1.85201533e+00,  4.52644051e-03],\n",
       "       [ 3.21543609e+00, -1.84137496e+00,  9.34684496e-02],\n",
       "       [-2.74703277e+00, -1.95392239e-01, -5.71680848e-01],\n",
       "       [-1.05186423e+00,  1.83455849e+00, -8.04459752e-01],\n",
       "       [-1.50826783e+00,  9.91649251e-01,  8.81972464e-01],\n",
       "       [-5.34712926e-01,  2.50577398e+00, -2.05964426e+00],\n",
       "       [ 1.40057023e+00, -6.61052205e-01, -5.81885361e-01],\n",
       "       [ 1.10794215e+00, -2.45806284e-01, -1.09041014e+00],\n",
       "       [ 2.83487283e+00, -9.58123567e-01,  7.72896639e-01],\n",
       "       [-5.27713705e-01,  2.59472825e+00,  9.38007002e-01],\n",
       "       [ 3.11281286e-01,  2.28677331e+00,  1.16458659e+00],\n",
       "       [-6.52668189e-02,  2.04360861e+00, -4.49347207e-01],\n",
       "       [ 2.91835495e+00, -8.20356583e-01,  9.53758210e-01],\n",
       "       [-2.40719925e+00, -2.23612256e+00,  8.41039425e-01]])"
      ]
     },
     "execution_count": 204,
     "metadata": {},
     "output_type": "execute_result"
    }
   ],
   "source": [
    "X_train_pca"
   ]
  },
  {
   "cell_type": "code",
   "execution_count": 226,
   "id": "a778af14",
   "metadata": {},
   "outputs": [],
   "source": [
    "from sklearn.linear_model import LogisticRegression\n",
    "\n",
    "pca = PCA(n_components=2)\n",
    "X_train_pca = pca.fit_transform(X_train_std)\n",
    "X_test_pca = pca.fit_transform(X_test_std)\n",
    "\n",
    "lr = LogisticRegression()\n",
    "lr = lr.fit(X_train_pca, y_train)"
   ]
  },
  {
   "cell_type": "code",
   "execution_count": 227,
   "id": "b647f7ca",
   "metadata": {},
   "outputs": [],
   "source": [
    "pca=PCA(n_components=2)\n",
    "X_train_pca=pca.fit_transform(X_train_std)\n",
    "\n",
    "X_test_std=pca.fit_transform(X_test_std)\n",
    "lr=LogisticRegression()\n",
    "lr=lr.fit(X_train_pca,y_train)"
   ]
  },
  {
   "cell_type": "code",
   "execution_count": 224,
   "id": "03eed6fd",
   "metadata": {},
   "outputs": [
    {
     "data": {
      "text/plain": [
       "array([1, 2, 3, 3, 2, 3, 3, 1, 2, 3, 2, 2, 3, 2, 1, 2, 2, 2, 1, 1, 2, 2,\n",
       "       3, 3, 2, 2, 2, 3, 3, 1, 3, 2, 2, 2, 2, 2, 1, 1, 2, 1, 3, 1, 3, 1,\n",
       "       1, 2, 1, 2, 2, 1, 3, 2, 1, 2, 2, 2, 3, 1, 3, 3, 1, 1, 2, 3, 1, 1,\n",
       "       2, 2, 1, 1, 1, 3, 2, 1, 2, 3, 1, 2, 3, 3, 1, 1, 3, 1, 3, 2, 1, 1,\n",
       "       2, 1, 3, 2, 3, 1, 3, 3, 3, 1, 2, 2, 2, 2, 3, 3, 2, 2, 1, 2, 3, 3,\n",
       "       1, 1, 3, 2, 2, 2, 1, 1, 1, 2, 2, 2, 1, 3])"
      ]
     },
     "execution_count": 224,
     "metadata": {},
     "output_type": "execute_result"
    }
   ],
   "source": [
    "y_train"
   ]
  },
  {
   "cell_type": "markdown",
   "id": "3b9e1c0b",
   "metadata": {},
   "source": [
    "# 畫出PCA轉換後的數據集散點圖"
   ]
  },
  {
   "cell_type": "code",
   "execution_count": 228,
   "id": "24b8957b",
   "metadata": {},
   "outputs": [],
   "source": [
    "from matplotlib.colors import ListedColormap\n",
    "from utility import plot_decision_regions"
   ]
  },
  {
   "cell_type": "code",
   "execution_count": 238,
   "id": "9375d936",
   "metadata": {},
   "outputs": [
    {
     "data": {
      "image/png": "[encoded data removed]",
      "text/plain": [
       "<Figure size 640x480 with 1 Axes>"
      ]
     },
     "metadata": {},
     "output_type": "display_data"
    }
   ],
   "source": [
    "plot_decision_regions(X_train_pca,y_train,classifier=lr)\n",
    "plt.xlabel(\"pc1\")\n",
    "plt.ylabel(\"pc2\")\n",
    "plt.legend(loc=\"lower left\")\n",
    "plt.tight_layout()\n",
    "plt.show()"
   ]
  },
  {
   "cell_type": "markdown",
   "id": "3ac49eb5",
   "metadata": {},
   "source": [
    "# 使用LogisticRegression 並用兩個 PCA主成分做分類\n",
    "> 訓練集資料"
   ]
  },
  {
   "cell_type": "code",
   "execution_count": 229,
   "id": "2a3b8cea",
   "metadata": {},
   "outputs": [
    {
     "data": {
      "image/png": "[encoded data removed]",
      "text/plain": [
       "<Figure size 640x480 with 1 Axes>"
      ]
     },
     "metadata": {},
     "output_type": "display_data"
    }
   ],
   "source": [
    "plot_decision_regions(X_train_pca, y_train, classifier=lr)\n",
    "plt.xlabel('PC 1')\n",
    "plt.ylabel('PC 2')\n",
    "plt.legend(loc='lower left')\n",
    "plt.tight_layout()\n",
    "\n",
    "plt.show()"
   ]
  },
  {
   "cell_type": "code",
   "execution_count": 245,
   "id": "0ab54499",
   "metadata": {},
   "outputs": [
    {
     "data": {
      "image/png": "[encoded data removed]",
      "text/plain": [
       "<Figure size 640x480 with 1 Axes>"
      ]
     },
     "metadata": {},
     "output_type": "display_data"
    }
   ],
   "source": [
    "plot_decision_regions(X_test_pca,y_test,classifier=lr)\n",
    "plt.xlabel(\"PC 1\")\n",
    "plt.ylabel(\"pc2\")\n",
    "plt.legend(loc=\"lower left\")\n",
    "plt.tight_layout()\n",
    "plt.show()"
   ]
  },
  {
   "cell_type": "markdown",
   "id": "ab407eb1",
   "metadata": {},
   "source": [
    ">測試集資料"
   ]
  },
  {
   "cell_type": "code",
   "execution_count": 243,
   "id": "581994b0",
   "metadata": {},
   "outputs": [
    {
     "data": {
      "image/png": "[encoded data removed]",
      "text/plain": [
       "<Figure size 640x480 with 1 Axes>"
      ]
     },
     "metadata": {},
     "output_type": "display_data"
    }
   ],
   "source": [
    "plot_decision_regions(X_test_pca, y_test, classifier=lr)\n",
    "plt.xlabel('PC 1')\n",
    "plt.ylabel('PC 2')\n",
    "plt.legend(loc='lower left')\n",
    "plt.tight_layout()\n",
    "#plt.savefig('images/05_05.png', dpi=300)\n",
    "plt.show()"
   ]
  },
  {
   "cell_type": "code",
   "execution_count": null,
   "id": "838adee6",
   "metadata": {},
   "outputs": [],
   "source": []
  },
  {
   "cell_type": "code",
   "execution_count": null,
   "id": "38701003",
   "metadata": {},
   "outputs": [],
   "source": []
  },
  {
   "cell_type": "code",
   "execution_count": null,
   "id": "96115534",
   "metadata": {},
   "outputs": [],
   "source": []
  },
  {
   "cell_type": "code",
   "execution_count": null,
   "id": "610cb352",
   "metadata": {},
   "outputs": [],
   "source": []
  },
  {
   "cell_type": "code",
   "execution_count": null,
   "id": "3925ea6d",
   "metadata": {},
   "outputs": [],
   "source": []
  },
  {
   "cell_type": "code",
   "execution_count": null,
   "id": "4647df44",
   "metadata": {},
   "outputs": [],
   "source": []
  },
  {
   "cell_type": "code",
   "execution_count": null,
   "id": "45e5ae6d",
   "metadata": {},
   "outputs": [],
   "source": []
  },
  {
   "cell_type": "code",
   "execution_count": null,
   "id": "6d296e4f",
   "metadata": {},
   "outputs": [],
   "source": []
  }
 ],
 "metadata": {
  "kernelspec": {
   "display_name": "Python 3",
   "language": "python",
   "name": "python3"
  },
  "language_info": {
   "codemirror_mode": {
    "name": "ipython",
    "version": 3
   },
   "file_extension": ".py",
   "mimetype": "text/x-python",
   "name": "python",
   "nbconvert_exporter": "python",
   "pygments_lexer": "ipython3",
   "version": "3.10.9"
  }
 },
 "nbformat": 4,
 "nbformat_minor": 5
}
